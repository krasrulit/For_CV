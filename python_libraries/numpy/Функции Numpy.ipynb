{
 "cells": [
  {
   "cell_type": "code",
   "execution_count": 5,
   "id": "2b61106a-3258-4089-8a81-0da62a493e19",
   "metadata": {},
   "outputs": [
    {
     "name": "stdout",
     "output_type": "stream",
     "text": [
      "[0 1 2 3] \n",
      " [0 1 2 3] \n",
      " [0 1 2 3]\n"
     ]
    }
   ],
   "source": [
    "import numpy as np\n",
    "import matplotlib.pyplot as plt\n",
    "import seaborn as sns\n",
    "\n",
    "# array - матрица \n",
    "# arange - вектор из последовательности\n",
    "a = np.array([0, 1, 2, 3])\n",
    "b= np.array(range(4))\n",
    "c = np.arange(4)\n",
    "\n",
    "print(a, '\\n', b, '\\n', c)"
   ]
  },
  {
   "cell_type": "code",
   "execution_count": 8,
   "id": "7dc6a09a-b029-45a9-a6a5-acba536b1506",
   "metadata": {},
   "outputs": [
    {
     "name": "stdout",
     "output_type": "stream",
     "text": [
      "[1 2 3 4 5 6 7 8 9]\n",
      "[1 2 3 4 5 6]\n"
     ]
    }
   ],
   "source": [
    "lst = [[1, 2, 3, 4, 5], [6, 7, 8, 9]]\n",
    "\n",
    "# объеденение маcсиовов\n",
    "arr = np.concatenate(lst)\n",
    "print(arr)\n",
    "\n",
    "a = np.array([1, 2, 3])\n",
    "b = np.array([4, 5, 6])\n",
    "lst = [a, b]\n",
    "\n",
    "result = np.concatenate(lst)\n",
    "print(result)"
   ]
  },
  {
   "cell_type": "code",
   "execution_count": 9,
   "id": "d2c19ff9-24b1-465d-a29e-565c62eb092c",
   "metadata": {},
   "outputs": [
    {
     "name": "stdout",
     "output_type": "stream",
     "text": [
      "[3.14 3.14 3.14 3.14 3.14]\n",
      "[1 4 7]\n",
      "[1 2 3 4 5]\n",
      "[1. 1. 1.]\n",
      "[1 1 1]\n",
      "[0. 0. 0.]\n",
      "[0.0e+000 4.9e-324 9.9e-324 1.5e-323]\n"
     ]
    }
   ],
   "source": [
    "# из одного элемента\n",
    "a = np.full(5, 3.14)\n",
    "\n",
    "# от, до, шаг\n",
    "b = np.arange(1, 10, 3)\n",
    "\n",
    "# от, до, сколько\n",
    "c = np.linspace(1, 5, 5)\n",
    "\n",
    "# из единиц\n",
    "d = np.ones(3)\n",
    "e = np.ones(3, dtype=int)\n",
    "\n",
    "# из нулей\n",
    "f = np.zeros(3)\n",
    "\n",
    "# просто выделить память (что?)\n",
    "g = np.empty(4)\n",
    "\n",
    "print(f\"{a}\\n{b}\\n{c}\\n{d}\\n{e}\\n{f}\\n{g}\")"
   ]
  },
  {
   "cell_type": "code",
   "execution_count": 11,
   "id": "915f7a9c-e09b-4c99-882a-c93c6fff9226",
   "metadata": {},
   "outputs": [
    {
     "name": "stdout",
     "output_type": "stream",
     "text": [
      "np.random.rand(4): [0.77132064 0.02075195 0.63364823 0.74880388]\n",
      "np.random.randn(4): [-1.54540029 -0.00838385  0.62133597 -0.72008556]\n",
      "np.random.randint(0, 5, 10): [0 2 0 4 3 0 4 3 0 3]\n",
      "np.random.choice([2, 3, 4], 5, replace=True): [4 4 3 2 2]\n",
      "np.tile([1, 2], 3): [1 2 1 2 1 2]\n"
     ]
    }
   ],
   "source": [
    "import numpy as np\n",
    "\n",
    "# Устанавливаем начальное значение для генератора случайных чисел для воспроизводимости\n",
    "np.random.seed(10)\n",
    "\n",
    "# Генерируем 4 случайных числа из равномерного распределения на интервале [0, 1)\n",
    "rand_uniform = np.random.rand(4)\n",
    "print(\"np.random.rand(4):\", rand_uniform)\n",
    "# Пример вывода: np.random.rand(4): [0.77132064 0.02075195 0.63364823 0.74880388]\n",
    "\n",
    "# Генерируем 4 случайных числа из стандартного нормального распределения (среднее 0, стандартное отклонение 1)\n",
    "rand_normal = np.random.randn(4)\n",
    "print(\"np.random.randn(4):\", rand_normal)\n",
    "# Пример вывода: np.random.randn(4): [ 1.86755799 -0.97727788  0.95008842 -0.15135721]\n",
    "\n",
    "# Генерируем 10 случайных целых чисел в диапазоне от 0 до 5 (не включая 5)\n",
    "rand_integers = np.random.randint(0, 5, 10)\n",
    "print(\"np.random.randint(0, 5, 10):\", rand_integers)\n",
    "# Пример вывода: np.random.randint(0, 5, 10): [2 1 1 4 0 1 0 2 4 2]\n",
    "\n",
    "# Выбираем 5 случайных элементов из списка [2, 3, 4] с возможностью повторного выбора\n",
    "rand_choice = np.random.choice([2, 3, 4], 5, replace=True)\n",
    "print(\"np.random.choice([2, 3, 4], 5, replace=True):\", rand_choice)\n",
    "# Пример вывода: np.random.choice([2, 3, 4], 5, replace=True): [3 2 2 4 4]\n",
    "\n",
    "# Создаем массив, повторяя массив [1, 2] 3 раза\n",
    "tiled_array = np.tile([1, 2], 3)\n",
    "print(\"np.tile([1, 2], 3):\", tiled_array)\n",
    "# Пример вывода: np.tile([1, 2], 3): [1 2 1 2 1 2]\n"
   ]
  },
  {
   "cell_type": "code",
   "execution_count": 12,
   "id": "978f408e-b71d-435a-b4e9-f03dd6ce1e85",
   "metadata": {},
   "outputs": [
    {
     "name": "stdout",
     "output_type": "stream",
     "text": [
      "np.choose([0,1,0,1,1], [[1,1,1,1,1], [2,2,2,2,2]]): [1 2 1 2 2]\n",
      "np.where(np.arange(5) % 2, np.ones(5), np.zeros(5)): [0. 1. 0. 1. 0.]\n",
      "np.take([1, 2, 3, 4, 5], [0, 2, 3]): [1 3 4]\n"
     ]
    }
   ],
   "source": [
    "# Выбор элементов из нескольких массивов на основе индексов\n",
    "choose_array = np.choose([0,1,0,1,1], [[1,1,1,1,1], [2,2,2,2,2]])\n",
    "print(\"np.choose([0,1,0,1,1], [[1,1,1,1,1], [2,2,2,2,2]]):\", choose_array)\n",
    "# Пример вывода: np.choose([0,1,0,1,1], [[1,1,1,1,1], [2,2,2,2,2]]): [1 2 1 2 2]\n",
    "\n",
    "# Замена значений в массиве на основе условия (условие => True/False => условие, если True, условие, если False)\n",
    "where_array = np.where(np.arange(5) % 2, np.ones(5), np.zeros(5))\n",
    "print(\"np.where(np.arange(5) % 2, np.ones(5), np.zeros(5)):\", where_array)\n",
    "# Пример вывода: np.where(np.arange(5) % 2, np.ones(5), np.zeros(5)): [0 1 0 1 0]\n",
    "\n",
    "# Извлечение элементов из массива по индексам\n",
    "take_array = np.take([1, 2, 3, 4, 5], [0, 2, 3])\n",
    "print(\"np.take([1, 2, 3, 4, 5], [0, 2, 3]):\", take_array)\n",
    "# Пример вывода: np.take([1, 2, 3, 4, 5], [0, 2, 3]): [1 3 4]\n"
   ]
  },
  {
   "cell_type": "code",
   "execution_count": 14,
   "id": "22c83baf-c5f8-4b54-bfd8-316f0b3b1383",
   "metadata": {},
   "outputs": [
    {
     "name": "stdout",
     "output_type": "stream",
     "text": [
      "[0 1 2]\n",
      "[0 1 2 3]\n",
      "[0 3 1 2]\n",
      "[0 2]\n",
      "\n"
     ]
    }
   ],
   "source": [
    "x = np.arange(3)\n",
    "x1 = np.append(x, 3)\n",
    "x2 = np.insert(x, 1, 3)\n",
    "x3 = np.delete(x, 1)\n",
    "print(f\"{x}\\n{x1}\\n{x2}\\n{x3}\\n\")"
   ]
  },
  {
   "cell_type": "code",
   "execution_count": 15,
   "id": "31fcc40c-eb8d-477e-8b7a-bac6ab3429c7",
   "metadata": {},
   "outputs": [
    {
     "name": "stdout",
     "output_type": "stream",
     "text": [
      "[-1.  0.  1.  2.  2.]\n",
      "[0 0 1 1 1]\n",
      "[-1.  0.  1.  2.  2.]\n",
      "[-1  0  1  2  2]\n"
     ]
    }
   ],
   "source": [
    "x = np.array([-0.6, 0.4, 1.4, 1.5, 1.6])\n",
    "print (np.round(x))\n",
    "print (x.astype(int))\n",
    "print (np.round(x))\n",
    "print (np.round(x).astype(int))"
   ]
  },
  {
   "cell_type": "code",
   "execution_count": 19,
   "id": "1f6349d6-e49c-488d-aa77-88a1bcf06f50",
   "metadata": {},
   "outputs": [
    {
     "data": {
      "text/plain": [
       "array([ 0, -1,  2,  3, -1,  5,  6, -1,  8,  9])"
      ]
     },
     "execution_count": 19,
     "metadata": {},
     "output_type": "execute_result"
    }
   ],
   "source": [
    "x = np.arange(10)\n",
    "print(x[0])\n",
    "print(x[:2])\n",
    "print(x[-2:])\n",
    "print(x[::-2])\n",
    "print(x[1:8:3])\n",
    "x = np.arange(10)\n",
    "x[1:8:3] = -1\n",
    "print(x)"
   ]
  },
  {
   "cell_type": "code",
   "execution_count": null,
   "id": "a6f2dbac-1ee3-4aef-bd78-f68c369d7c0e",
   "metadata": {},
   "outputs": [],
   "source": [
    "np.cos, np.sin, np.tan\n",
    "np.arccos, np.arcsin. np.arctan\n",
    "np.cosh, np.sinh, np.tanh\n",
    "np.arccosh, np.arcsinh, np.arctanh\n",
    "np.sqrt\n",
    "np.exp\n",
    "np.log, np.log2, np.log10\n",
    "np.sign, np.abs\n",
    "np.floor, np.ceil, np.rint\n",
    "np.round"
   ]
  },
  {
   "cell_type": "code",
   "execution_count": 29,
   "id": "ca9b717a-97a7-4655-bc1e-50555198e692",
   "metadata": {},
   "outputs": [
    {
     "name": "stderr",
     "output_type": "stream",
     "text": [
      "/var/folders/cr/kkk6yb8j5ml02kjf2pmnw19w0000gn/T/ipykernel_37273/2382637724.py:6: RuntimeWarning: invalid value encountered in log\n",
      "  plt.plot(x, np.log(x), lw=2, c='blue', label='log')\n"
     ]
    },
    {
     "data": {
      "text/plain": [
       "<function matplotlib.pyplot.show(close=None, block=None)>"
      ]
     },
     "execution_count": 29,
     "metadata": {},
     "output_type": "execute_result"
    },
    {
     "data": {
      "image/png": "[encoded data removed]",
      "text/plain": [
       "<Figure size 500x500 with 1 Axes>"
      ]
     },
     "metadata": {},
     "output_type": "display_data"
    }
   ],
   "source": [
    "x = np.linspace(-3, 3, 200)\n",
    "plt.figure(figsize=(5, 5))\n",
    "sns.set_style('darkgrid')\n",
    "plt.plot(x, np.sin(x), lw=2, c='green', label='sin')\n",
    "plt.plot(x, np.cos(x), lw=2, c='red', label='cos')\n",
    "plt.plot(x, np.log(x), lw=2, c='blue', label='log')\n",
    "plt.plot(x, np.exp(x), lw=2, c='purple', label='exp')\n",
    "plt.ylim([-3.5, 5])\n",
    "plt.xlabel('x')\n",
    "plt.ylabel('y(x)')\n",
    "plt.legend()\n",
    "plt.show"
   ]
  },
  {
   "cell_type": "code",
   "execution_count": null,
   "id": "98210233-d876-43f9-a028-2270c20732f9",
   "metadata": {},
   "outputs": [],
   "source": [
    "x = np.round(np.random.rand(6), 2)\n",
    "[ 0.44 0.03 0.55 0.44 0.42 0.33]\n",
    "y = np.round(np.random.rand(6), 2)\n",
    "[ 0.2 0.62 0.3 0.27 0.62 0.53]\n",
    "# выдает x индексы которых совпадают с у у которых значение больше 0.5\n",
    "x[y > 0.5]\n",
    "[ 0.03 0.42 0.33]\n",
    "xi = x > 0.5\n",
    "[False false true false false False]\n",
    "yi = y > 0.5\n",
    "[False true false false true True]\n",
    "\n",
    "\n",
    "xi | yi\n",
    "[False true true false true True]\n",
    "xi & yi\n",
    "[False false false false false False]\n",
    "~xi\n",
    "[ true true false true true True]\n",
    "\n",
    "xi.any()\n",
    "true\n",
    "xi.all()\n",
    "false\n",
    "yi.nonzero()\n",
    "array([1, 4, 5])\n",
    "\n",
    "x = np.array([0.1, 0.5, 0.2, 0.6])\n",
    "x[x<0.3] = 0.3\n",
    "array([ 0.3, 0.5, 0.3, 0.6])"
   ]
  },
  {
   "cell_type": "code",
   "execution_count": null,
   "id": "ecc4190a-1588-427b-8948-3dce42260673",
   "metadata": {},
   "outputs": [],
   "source": [
    "x = np.array([0.1, 0.5, 0.2, 0.6])\n",
    "y = np.array([0.2, 0.4, 0.3, 0.1])\n",
    "x.min(), x.max()\n",
    "0.1 0.6\n",
    "np.min(x), np.max(x)\n",
    "0.1 0.6\n",
    "np.minimum(x, y)\n",
    "[ 0.1 0.4 0.2 0.1]\n",
    "np.maximum(x, y)\n",
    "[ 0.2 0.5 0.3 0.6]\n",
    "np.argmax(x)\n",
    "3"
   ]
  },
  {
   "cell_type": "code",
   "execution_count": 35,
   "id": "309546c2-4aab-47eb-98f8-57687e213637",
   "metadata": {},
   "outputs": [
    {
     "name": "stdout",
     "output_type": "stream",
     "text": [
      "[[0 1 2]\n",
      " [3 4 5]]\n",
      "[[0 1 2]\n",
      " [3 4 5]]\n"
     ]
    }
   ],
   "source": [
    "# матрицы\n",
    "b = np.array([[0, 1, 2], [3, 4, 5]])\n",
    "\n",
    "a = np.arange(6).reshape(2, 3)\n",
    "print(f\"{a}\\n{b}\")"
   ]
  },
  {
   "cell_type": "code",
   "execution_count": 37,
   "id": "9220c4ba-fb3c-4868-8782-b4568105e19c",
   "metadata": {},
   "outputs": [
    {
     "name": "stdout",
     "output_type": "stream",
     "text": [
      "[[1 2 3]\n",
      " [4 5 6]]\n",
      "[[1 2]\n",
      " [3 4]\n",
      " [5 6]\n",
      " [7 8]]\n",
      "[1 2 3 4 5 6]\n"
     ]
    }
   ],
   "source": [
    "# Функция reshape\n",
    "\n",
    "# Создаем одномерный массив из 6 элементов\n",
    "arr = np.array([1, 2, 3, 4, 5, 6])\n",
    "# Преобразуем его в двумерный массив 2x3\n",
    "reshaped_arr = arr.reshape(2, 3)\n",
    "print(reshaped_arr)\n",
    "\n",
    "# Использование -1 для автоматического вычисления\n",
    "# Создаем массив из 8 элементов\n",
    "arr = np.array([1, 2, 3, 4, 5, 6, 7, 8])\n",
    "# Преобразуем его в двумерный массив с 4 строками, количество столбцов определяется автоматически\n",
    "reshaped_arr = arr.reshape(4, -1)\n",
    "print(reshaped_arr)\n",
    "\n",
    "arr = np.array([[1, 2], [3, 4], [5, 6]])\n",
    "# Преобразуем его в одномерный массив\n",
    "reshaped_arr = arr.reshape(-1)\n",
    "print(reshaped_arr)\n"
   ]
  },
  {
   "cell_type": "code",
   "execution_count": 38,
   "id": "99ef4dc4-5deb-4bbf-b498-b26e00745845",
   "metadata": {},
   "outputs": [
    {
     "name": "stdout",
     "output_type": "stream",
     "text": [
      "(3, 2)\n",
      "2\n",
      "3\n"
     ]
    }
   ],
   "source": [
    "# Возвращает кортеж с размерами массива по каждому измерению.\n",
    "a = np.array([[1, 2], [3, 4], [5, 6]])\n",
    "print(a.shape)  # (3, 2)\n",
    "\n",
    "# Возвращает количество измерений (размерность) массива.\n",
    "print(a.ndim)  # 2 (двумерный массив)\n",
    "\n",
    "# Возвращает размер массива по первому измерению.\n",
    "print(len(a))  # 3 (число строк в двумерном массиве)"
   ]
  },
  {
   "cell_type": "code",
   "execution_count": 39,
   "id": "604eee53-a41a-4452-950a-f8923293081c",
   "metadata": {},
   "outputs": [
    {
     "name": "stdout",
     "output_type": "stream",
     "text": [
      "[[1 4]\n",
      " [2 5]\n",
      " [3 6]]\n",
      "[1 2 3 4 5 6]\n"
     ]
    },
    {
     "data": {
      "text/plain": [
       "array([0, 3, 1, 4, 2, 5])"
      ]
     },
     "execution_count": 39,
     "metadata": {},
     "output_type": "execute_result"
    }
   ],
   "source": [
    "# Транспонирование\n",
    "a = np.array([[1, 2, 3], [4, 5, 6]])\n",
    "print(a.T)\n",
    "# [[1 4]\n",
    "#  [2 5]\n",
    "#  [3 6]]\n",
    "\n",
    "# Векторизация\n",
    "a = np.array([[1, 2, 3], [4, 5, 6]])\n",
    "print(a.ravel())\n",
    "# Результат:\n",
    "# [1 2 3 4 5 6]\n",
    "\n",
    "x = np.arange(6).reshape(2, 3)\n",
    "x.T.ravel()"
   ]
  },
  {
   "cell_type": "code",
   "execution_count": 49,
   "id": "c958d370-b3f3-4da1-b7fa-8a7050e638df",
   "metadata": {},
   "outputs": [
    {
     "name": "stdout",
     "output_type": "stream",
     "text": [
      "[[[1. 1. 1.]\n",
      "  [1. 1. 1.]\n",
      "  [1. 1. 1.]\n",
      "  [1. 1. 1.]]\n",
      "\n",
      " [[1. 1. 1.]\n",
      "  [1. 1. 1.]\n",
      "  [1. 1. 1.]\n",
      "  [1. 1. 1.]]]\n",
      "\n",
      "(2, 4, 3)\n"
     ]
    },
    {
     "data": {
      "text/plain": [
       "(2, 4, 3)"
      ]
     },
     "execution_count": 49,
     "metadata": {},
     "output_type": "execute_result"
    }
   ],
   "source": [
    "a = np.ones((1,2,4,1,3,1))\n",
    "\n",
    "# Что делает:\n",
    "# Функция np.ones((1,2,4,1,3,1)) создает массив, заполненный единицами, с указанной формой (1, 2, 4, 1, 3, 1) (6 измерений).\n",
    "# Метод .squeeze() удаляет все оси размером 1 (одномерные оси).\n",
    "# Функция .shape возвращает измененную форму массива.\n",
    "print(f\"{np.ones((1,2,4,1,3,1)).squeeze()}\\n\\n{np.ones((1,2,4,1,3,1)).squeeze().shape}\")\n",
    "\n",
    "np.ones((2,4,3)).squeeze().shape"
   ]
  },
  {
   "cell_type": "code",
   "execution_count": 50,
   "id": "e1b7fec4-40e8-494f-bf56-fe4a141d8a7f",
   "metadata": {},
   "outputs": [
    {
     "data": {
      "text/plain": [
       "array([[1., 0., 0.],\n",
       "       [0., 1., 0.],\n",
       "       [0., 0., 1.]])"
      ]
     },
     "execution_count": 50,
     "metadata": {},
     "output_type": "execute_result"
    }
   ],
   "source": [
    "# np.eye(3) создает единичную матрицу размера 3x3. \n",
    "# Это квадратная матрица, где на главной диагонали стоят единицы, \n",
    "# а остальные элементы равны нулю.\n",
    "\n",
    "np.eye(3)"
   ]
  },
  {
   "cell_type": "code",
   "execution_count": 51,
   "id": "9d9cdc5b-e0c7-45b8-80ef-a26c394c44ad",
   "metadata": {},
   "outputs": [
    {
     "name": "stdout",
     "output_type": "stream",
     "text": [
      "[[1 0 0]\n",
      " [0 3 0]\n",
      " [0 0 2]], [1 3 2]\n"
     ]
    }
   ],
   "source": [
    "x = np.diag([1, 3, 2])\n",
    "print(f\"{x}, {np.diag(x)}\")\n"
   ]
  },
  {
   "cell_type": "code",
   "execution_count": 52,
   "id": "444e8134-dada-4e7f-a837-ae2123bb1f9e",
   "metadata": {},
   "outputs": [
    {
     "name": "stdout",
     "output_type": "stream",
     "text": [
      "[[1. 1. 1. 1. 1.]\n",
      " [0. 1. 1. 1. 1.]\n",
      " [0. 0. 1. 1. 1.]\n",
      " [0. 0. 0. 1. 1.]\n",
      " [0. 0. 0. 0. 1.]]\n",
      "[[0. 0. 0. 0. 0.]\n",
      " [0. 0. 0. 0. 0.]\n",
      " [1. 0. 0. 0. 0.]\n",
      " [1. 1. 0. 0. 0.]\n",
      " [1. 1. 1. 0. 0.]]\n"
     ]
    },
    {
     "data": {
      "text/plain": [
       "array([[0., 1., 1., 1., 1.],\n",
       "       [0., 0., 1., 1., 1.],\n",
       "       [0., 0., 0., 1., 1.],\n",
       "       [0., 0., 0., 0., 1.],\n",
       "       [0., 0., 0., 0., 0.]])"
      ]
     },
     "execution_count": 52,
     "metadata": {},
     "output_type": "execute_result"
    }
   ],
   "source": [
    "# Функция np.triu(np.ones((5, 5))) создаёт верхнетреугольную матрицу\n",
    "# В функции np.triu() параметр k отвечает за смещение диагонали, начиная с которой будут оставлены элементы в верхнетреугольной матрице:\n",
    "print(np.triu(np.ones((5, 5))))\n",
    "\n",
    "print(np.tril(np.ones((5, 5)), k=-2))\n",
    "\n",
    "np.triu(np.ones((5, 5)).T, k=1)\n"
   ]
  },
  {
   "cell_type": "code",
   "execution_count": null,
   "id": "ba1b5dcf-d996-4a40-982e-d9eea2d99e81",
   "metadata": {},
   "outputs": [],
   "source": [
    "x = np.arange(12).reshape(3, 4)\n",
    "[[ 0 1 2 3]\n",
    "[ 4 5 6 7]\n",
    "[ 8 9 10 11]]\n",
    "x[2, 3]\n",
    "11\n",
    "x[:, 0]\n",
    "[0 4 8]\n",
    "x[1, :]\n",
    "[4 5 6 7]\n",
    "x[-2:, -2:]\n",
    "[[ 6 7]\n",
    "[10 11]]\n",
    "x[::2, ::2])\n",
    "[[ 0 2]\n",
    "[ 8 10]]"
   ]
  },
  {
   "cell_type": "code",
   "execution_count": 57,
   "id": "3cc6992e-e1b1-48eb-a05d-921cfad9f559",
   "metadata": {},
   "outputs": [
    {
     "name": "stdout",
     "output_type": "stream",
     "text": [
      "(3,) (3, 1) (1, 3)\n",
      "[0 2 4]\n",
      "\n",
      "[[0 1 2]\n",
      " [1 2 3]\n",
      " [2 3 4]]\n",
      "\n",
      "[[0 2 4]]\n"
     ]
    },
    {
     "data": {
      "text/plain": [
       "[[0, 1, 2], [1, 2, 3], [2, 3, 4]]"
      ]
     },
     "execution_count": 57,
     "metadata": {},
     "output_type": "execute_result"
    }
   ],
   "source": [
    "x = np.arange(3)\n",
    "y = np.arange(3)[:, np.newaxis]\n",
    "z = np.arange(3)[np.newaxis,:]\n",
    "print (x.shape, y.shape, z.shape)\n",
    "\n",
    "print(f\"{x + x}\\n\\n{x + y}\\n\\n{x + z}\")\n",
    "\n",
    "[[0, 1, 2]]  +  [[0],\n",
    "                 [1],\n",
    "                 [2]]\n",
    "\n",
    "[[0+0, 1+0, 2+0],  # => [0, 1, 2]\n",
    " [0+1, 1+1, 2+1],  # => [1, 2, 3]\n",
    " [0+2, 1+2, 2+2]]  # => [2, 3, 4]\n"
   ]
  },
  {
   "cell_type": "code",
   "execution_count": null,
   "id": "7f834925-9876-437f-9812-30aed122ad1f",
   "metadata": {},
   "outputs": [],
   "source": [
    "x = np.array([[1, 4], [3, 5]])\n",
    "x.min()\n",
    "1\n",
    "x.min(axis=0)\n",
    "[1 4]\n",
    "x.min(axis=1)\n",
    "[1 3]\n",
    "x.min(axis=0, keepdims=True)\n",
    "[[1 4]]\n",
    "x.min(axis=1, keepdims=True)\n",
    "[[1]\n",
    "[3]]"
   ]
  },
  {
   "cell_type": "code",
   "execution_count": null,
   "id": "f99380db-9a68-40f7-8e35-ec75c6845057",
   "metadata": {},
   "outputs": [],
   "source": [
    "# broadcasting\n",
    "a = (np.arange(3)[:,np.newaxis] + 1) * (np.arange(3) + 1)\n",
    "print(a)\n",
    "\n",
    "В этом выражении используется механизм broadcasting из библиотеки NumPy, \n",
    "который позволяет выполнять операции между массивами разных форм, автоматически расширяя их размеры. \n",
    "Давайте разберем, что здесь происходит шаг за шагом:\n",
    "\n",
    "np.arange(3) создает одномерный массив с числами от 0 до 2:\n",
    "# array([0, 1, 2])\n",
    "\n",
    "np.newaxis используется для добавления новой оси (или нового измерения) в массиве. \n",
    "В данном случае np.arange(3)[:, np.newaxis] преобразует одномерный массив [0, 1, 2] в вертикальный (столбчатый) массив:\n",
    "# array([[0],\n",
    "#        [1],\n",
    "#        [2]])\n",
    "\n",
    "Теперь прибавляем 1 к каждому элементу массива:\n",
    "# array([[1],\n",
    "#        [2],\n",
    "#        [3]])\n",
    "\n",
    "Теперь создаем другой массив с помощью np.arange(3) + 1, который просто увеличивает каждый элемент на 1:\n",
    "# array([1, 2, 3])\n",
    "\n",
    "Теперь мы умножаем два массива:\n",
    "\n",
    "Первый массив имеет размерность (3, 1):\n",
    "Второй массив — это одномерный массив с размерностью (3,):\n",
    "Когда происходит операция умножения, NumPy применяет broadcasting. \n",
    "Broadcasting автоматически расширяет размеры массивов, чтобы они могли быть совместимы для арифметических операций. \n",
    "В данном случае второй массив фактически расширяется до размера (3, 3):\n",
    "\n",
    "[[1 2 3]\n",
    " [1 2 3]\n",
    " [1 2 3]]\n",
    "И затем выполняется поэлементное умножение с первым массивом:\n",
    "\n",
    "[[1]      [[1 2 3]\n",
    " [2]   *   [1 2 3]\n",
    " [3]]      [1 2 3]]\n",
    "Результат:\n",
    "array([[1, 2, 3],\n",
    "       [2, 4, 6],\n",
    "       [3, 6, 9]])\n",
    "Итог:\n",
    "Операция создает таблицу умножения для чисел от 1 до 3, используя механизм broadcasting.\n"
   ]
  },
  {
   "cell_type": "code",
   "execution_count": 1,
   "id": "a2745f94-86cb-4061-807e-d6bf669ace7c",
   "metadata": {},
   "outputs": [
    {
     "name": "stdout",
     "output_type": "stream",
     "text": [
      "Прогнозируемое значение y для x = 3.5: 4.17\n"
     ]
    }
   ],
   "source": [
    "import numpy as np\n",
    "\n",
    "# Данные\n",
    "X_train = np.array([1, 3, 5, 7])  # Обучающая выборка X\n",
    "y_train = np.array([2, 5, 4, 9])  # Обучающая выборка y\n",
    "x_new = 3.5  # Точка, для которой делаем прогноз\n",
    "k = 3  # Количество ближайших соседей\n",
    "\n",
    "# Вычисление евклидовых расстояний\n",
    "distances = np.abs(X_train - x_new)\n",
    "\n",
    "# Индексы отсортированных расстояний\n",
    "sorted_indices = np.argsort(distances)\n",
    "\n",
    "# Выбираем k ближайших соседей\n",
    "nearest_indices = sorted_indices[:k]\n",
    "nearest_y = y_train[nearest_indices]\n",
    "\n",
    "# Вычисляем веса для ближайших соседей\n",
    "weights = [(k - i) / k for i in range(k)]\n",
    "\n",
    "# Взвешенная сумма\n",
    "weighted_sum = sum(w * y for w, y in zip(weights, nearest_y))\n",
    "\n",
    "# Сумма весов\n",
    "weight_total = sum(weights)\n",
    "\n",
    "# Прогнозируемое значение\n",
    "y_pred = weighted_sum / weight_total\n",
    "\n",
    "# Вывод результата\n",
    "print(f\"Прогнозируемое значение y для x = {x_new}: {y_pred:.2f}\")\n"
   ]
  },
  {
   "cell_type": "code",
   "execution_count": 2,
   "id": "a91a5dc2-7492-400c-bbcc-817138c9e876",
   "metadata": {},
   "outputs": [
    {
     "name": "stdout",
     "output_type": "stream",
     "text": [
      "Косинусное расстояние между текстами: 0.225\n"
     ]
    }
   ],
   "source": [
    "import numpy as np\n",
    "\n",
    "# Векторы для предложений text1 и text2\n",
    "text1 = np.array([2, 1, 2, 1, 0, 0])  # Вектор первого предложения\n",
    "text2 = np.array([1, 1, 1, 1, 1, 1])  # Вектор второго предложения\n",
    "\n",
    "# Вычисление скалярного произведения\n",
    "dot_product = np.dot(text1, text2)\n",
    "\n",
    "# Вычисление норм векторов\n",
    "norm_text1 = np.linalg.norm(text1)\n",
    "norm_text2 = np.linalg.norm(text2)\n",
    "\n",
    "# Вычисление косинусного сходства\n",
    "cos_similarity = dot_product / (norm_text1 * norm_text2)\n",
    "\n",
    "# Вычисление косинусного расстояния\n",
    "cos_distance = 1 - cos_similarity\n",
    "\n",
    "# Округление результата до 3 знаков после запятой\n",
    "cos_distance = round(cos_distance, 3)\n",
    "\n",
    "# Вывод результата\n",
    "print(f\"Косинусное расстояние между текстами: {cos_distance}\")\n"
   ]
  }
 ],
 "metadata": {
  "kernelspec": {
   "display_name": "Python 3 (ipykernel)",
   "language": "python",
   "name": "python3"
  },
  "language_info": {
   "codemirror_mode": {
    "name": "ipython",
    "version": 3
   },
   "file_extension": ".py",
   "mimetype": "text/x-python",
   "name": "python",
   "nbconvert_exporter": "python",
   "pygments_lexer": "ipython3",
   "version": "3.12.0"
  }
 },
 "nbformat": 4,
 "nbformat_minor": 5
}
