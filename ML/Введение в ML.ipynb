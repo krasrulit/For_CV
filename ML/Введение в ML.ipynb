{
 "cells": [
  {
   "cell_type": "markdown",
   "metadata": {
    "id": "k3zbLLaSGH6Z"
   },
   "source": [
    "## Лабораторная работа \"Введение в ML\""
   ]
  },
  {
   "cell_type": "markdown",
   "metadata": {
    "id": "SL3v975uGH6h"
   },
   "source": [
    "В этой лабораторной вы:\n",
    "\n",
    "- познакомитесь с базовыми библиотеками для работы с табличными данными — `numpy` и `pandas`\n",
    "- поближе посмотрите на простейшие задачи машинного обучения: классификацию и регрессию\n",
    "- попробуете несколько метрик и поймёте, почему выбор метрики это важно\n",
    "- обучите несколько простых моделей\n",
    "- увидите связь между сложностью модели и переобучением\n",
    "- убедитесь, что без данных всё тлен"
   ]
  },
  {
   "cell_type": "markdown",
   "metadata": {
    "id": "ad3nBqBSGH6j"
   },
   "source": [
    "Загрузка самых базовых библиотек:"
   ]
  },
  {
   "cell_type": "code",
   "execution_count": 217,
   "metadata": {
    "id": "Z8Iht5qhGH6l"
   },
   "outputs": [],
   "source": [
    "import numpy as np\n",
    "import pandas as pd\n",
    "import matplotlib.pyplot as plt\n",
    "%matplotlib inline\n",
    "\n",
    "from sklearn.model_selection import train_test_split"
   ]
  },
  {
   "cell_type": "markdown",
   "metadata": {
    "id": "4W8Eq0sTGH6n"
   },
   "source": [
    "### [NumPy](https://numpy.org/doc/stable/user/index.html)\n",
    "\n",
    "С 1995 numeric, с 2006 NumPy — «Numerical Python extensions» или просто «NumPy»\n",
    "\n",
    "Возможности библиотеки NumPy:\n",
    "* работать с многомерными массивами (таблицами)\n",
    "* быстро вычислять математические функций на многомерных массивах\n",
    "\n",
    "Ядро пакета NumPy — объект [ndarray](https://docs.scipy.org/doc/numpy/reference/generated/numpy.ndarray.html)\n",
    "\n",
    "**Важные отличия** между NumPy arrays и Python sequences:\n",
    "* NumPy array имеет фиксированную длину, которая определяется в момент его создания (в отличие от Python lists, которые могут расти динамически)\n",
    "* Элементы в NumPy array должны быть одного типа\n",
    "* Можно выполнять операции непосредственно над NumPy arrays\n",
    "\n",
    "**Скорость** NumPy достигается с помощью:\n",
    "* реализации на C\n",
    "* векторизации и броадкастинга (broadcasting). Например, произведение массивов совместимых форм.\n",
    "\n",
    "Теперь давайте разберёмся подробнее и сделаем что-нибудь приятное и полезное в `numpy`!"
   ]
  },
  {
   "cell_type": "markdown",
   "metadata": {
    "id": "eS3UKcU6GH6o"
   },
   "source": [
    "### Индексация"
   ]
  },
  {
   "cell_type": "markdown",
   "metadata": {
    "id": "VqBzoEfvGH6p"
   },
   "source": [
    "В NumPy работает привычная индексация Python, ура! Включая использование отрицательных индексов и срезов (slices)"
   ]
  },
  {
   "cell_type": "markdown",
   "metadata": {
    "id": "Anq_nSYTGH6q"
   },
   "source": [
    "<div class=\"alert alert-info\">\n",
    "<b>Замечание 1:</b> Индексы и срезы в многомерных массивах не нужно разделять квадратными скобками,\n",
    "т.е. вместо <b>matrix[i][j]</b> нужно использовать <b>matrix[i, j]</b>. Первое тоже работает, но сначала выдаёт строку i, потом элемент j в ней.\n",
    "</div>"
   ]
  },
  {
   "cell_type": "markdown",
   "metadata": {
    "id": "OoHXSVIrGH6q"
   },
   "source": [
    "<div class=\"alert alert-danger\">\n",
    "<b>Замечание 2:</b> Срезы в NumPy создают view, а не копии, как в случае срезов встроенных последовательностей Python (string, tuple and list).\n",
    "</div>"
   ]
  },
  {
   "cell_type": "code",
   "execution_count": 218,
   "metadata": {
    "id": "YJKxBB4dGH6s",
    "outputId": "61139b1d-46db-4f7f-d5bb-96b7c3f96284"
   },
   "outputs": [
    {
     "data": {
      "text/plain": [
       "array([[0., 0., 0.],\n",
       "       [0., 0., 0.],\n",
       "       [0., 0., 0.]])"
      ]
     },
     "execution_count": 218,
     "metadata": {},
     "output_type": "execute_result"
    }
   ],
   "source": [
    "ones_matrix = np.ones((5, 5))\n",
    "ones_submatrix_view = ones_matrix[::2,::2] # creates a view, not copy\n",
    "ones_matrix[::2,::2] = np.zeros((3, 3))\n",
    "ones_submatrix_view"
   ]
  },
  {
   "cell_type": "markdown",
   "metadata": {
    "id": "jpEF1rp2GH6v"
   },
   "source": [
    "### Ссылка на Яндекс.Контест\n",
    "\n",
    "Решения и ответы в задачах, расположенных ниже, загружайте в контест на автоматическую проверку:\n",
    "https://new.contest.yandex.ru/60376/start\n"
   ]
  },
  {
   "cell_type": "markdown",
   "metadata": {
    "id": "eZpuxPhJGH6v"
   },
   "source": [
    "**1.** Реализуйте функцию, принимающую на вход два одномерных массива `first_array` и `second_array` и возвращающую матрицу, в которой первый массив соответствует первому столбцу матрицы, второй — второму.\n",
    "\n",
    "Вероятно первое, что приходит вам на ум, это конкатенация и транспонирование:"
   ]
  },
  {
   "cell_type": "code",
   "execution_count": 219,
   "metadata": {
    "id": "hmQk1N6rGH6w"
   },
   "outputs": [],
   "source": [
    "def construct_matrix(first_array, second_array):\n",
    "    \"\"\"\n",
    "    Construct matrix from pair of arrays\n",
    "    :param first_array: first array\n",
    "    :param second_array: second array\n",
    "    :return: constructed matrix\n",
    "    \"\"\"\n",
    "    matrix_right_1 = np.column_stack([first_array, second_array])\n",
    "    matrix_right_2 = np.vstack([first_array, second_array]).T #яндекс выдает неправильно из-за .T\n",
    "    matrix_right_3 = np.reshape(np.concatenate([first_array, second_array], axis=0), (len(first_array), 2), order=\"F\")\n",
    "    return matrix_right_3, matrix_right_1"
   ]
  },
  {
   "cell_type": "code",
   "execution_count": 220,
   "metadata": {
    "id": "TeFqyCz4GH6x",
    "outputId": "ecd0b7d3-7acf-40f2-878e-057d17136e8c",
    "scrolled": true
   },
   "outputs": [
    {
     "data": {
      "text/plain": [
       "(array([[1, 3],\n",
       "        [2, 4]]),\n",
       " array([[1, 3],\n",
       "        [2, 4]]))"
      ]
     },
     "execution_count": 220,
     "metadata": {},
     "output_type": "execute_result"
    }
   ],
   "source": [
    "construct_matrix(np.array([1,2]),np.array([3,4]))"
   ]
  },
  {
   "cell_type": "code",
   "execution_count": null,
   "metadata": {},
   "outputs": [],
   "source": []
  },
  {
   "cell_type": "markdown",
   "metadata": {
    "id": "lP-lmcA2GH6y"
   },
   "source": [
    "(в скобках заметим, что конкатенировать можно vertically, horizontally, depth wise методами vstack, hstack, dstack по трём осям (0, 1 и 2, соотвественно), либо в общем случае `np.concatenate` — поиграйтесь ниже с прекрасным примером четырёхмерной точки, чтобы точно всё для себя понять)"
   ]
  },
  {
   "cell_type": "code",
   "execution_count": 221,
   "metadata": {
    "id": "xguxLJ0VGH6y",
    "outputId": "2f32df14-6f5d-4800-96b5-bb8fba9c9ec0"
   },
   "outputs": [
    {
     "data": {
      "text/plain": [
       "array([[[[0]]]])"
      ]
     },
     "execution_count": 221,
     "metadata": {},
     "output_type": "execute_result"
    }
   ],
   "source": [
    "p = np.arange(1).reshape([1, 1, 1, 1])\n",
    "p"
   ]
  },
  {
   "cell_type": "code",
   "execution_count": 222,
   "metadata": {
    "id": "z1JFw75eGH6y",
    "outputId": "16e3c894-2e0e-4a5a-edd4-7a974cfa43e4"
   },
   "outputs": [
    {
     "name": "stdout",
     "output_type": "stream",
     "text": [
      "vstack:  (2, 1, 1, 1)\n",
      "hstack:  (1, 2, 1, 1)\n",
      "dstack:  (1, 1, 2, 1)\n"
     ]
    }
   ],
   "source": [
    "print(\"vstack: \",  np.vstack((p, p)).shape)\n",
    "print(\"hstack: \", np.hstack((p, p)).shape)\n",
    "print(\"dstack: \", np.dstack((p, p)).shape)"
   ]
  },
  {
   "cell_type": "code",
   "execution_count": 223,
   "metadata": {},
   "outputs": [
    {
     "name": "stdout",
     "output_type": "stream",
     "text": [
      "[4 2 3 5 3 5 5 5 3 3]\n",
      "defaultdict(<class 'int'>, {2: 1, 3: 4, 4: 1, 5: 4})\n",
      "3\n",
      "3\n"
     ]
    }
   ],
   "source": [
    "import random\n",
    "from collections import defaultdict, Counter\n",
    "\n",
    "\n",
    "nums = np.array([4, 2, 3, 5, 3, 5, 5, 5, 3, 3])\n",
    "d = defaultdict(int)\n",
    "print(nums)\n",
    "\n",
    "for i in sorted(nums):\n",
    "    d[i] += 1\n",
    "\n",
    "print(d)\n",
    "\n",
    "nums_pd = pd.Series(d)\n",
    "print(nums_pd.idxmax())\n",
    "print(Counter(nums).most_common(1)[0][0])"
   ]
  },
  {
   "cell_type": "code",
   "execution_count": 224,
   "metadata": {
    "id": "cvbthbDDGH6z",
    "outputId": "d89430e5-8c64-4b5f-f2b3-4343f4c659ed"
   },
   "outputs": [
    {
     "data": {
      "text/plain": [
       "(1, 1, 1, 2)"
      ]
     },
     "execution_count": 224,
     "metadata": {},
     "output_type": "execute_result"
    }
   ],
   "source": [
    "np.concatenate((p, p), axis=3).shape"
   ]
  },
  {
   "cell_type": "markdown",
   "metadata": {
    "id": "-5GkuWwaGH60"
   },
   "source": [
    "Но, поскольку операция транспонирования [делает массив non-contiguous](https://numpy.org/doc/stable/user/basics.copies.html#other-operations), мы в этой задаче **запретим** ей пользоваться и порекомедуем воспользоваться, например, методом [reshape](https://numpy.org/doc/stable/reference/generated/numpy.reshape.html)."
   ]
  },
  {
   "cell_type": "markdown",
   "metadata": {
    "id": "n3ce_o75GH61"
   },
   "source": [
    "**2.** Реализуйте функцию, принимающую на вход массив целых неотрицательных чисел `nums` и возвращающую самый частый элемент массива."
   ]
  },
  {
   "cell_type": "code",
   "execution_count": 225,
   "metadata": {
    "id": "XZysMovaGH61"
   },
   "outputs": [],
   "source": [
    "from collections import defaultdict\n",
    "\n",
    "def most_frequent(nums):\n",
    "    \"\"\"\n",
    "    Find the most frequent value in an array\n",
    "    :param nums: array of ints\n",
    "    :return: the most frequent value\n",
    "    \"\"\"\n",
    "    d = defaultdict(int)\n",
    "    \n",
    "    for i in nums:\n",
    "        d[i] += 1\n",
    "\n",
    "    nums_pd = pd.Series(d)\n",
    "        \n",
    "    return nums_pd.idxmax()"
   ]
  },
  {
   "cell_type": "markdown",
   "metadata": {
    "id": "e6kjITZMGH62"
   },
   "source": [
    "### Переходим к работе с данными\n",
    "\n",
    "Прежде всего, загрузим данные и сделаем из них красивые pandas-таблички. Они взяты из параллели RecSys соревнования https://yandex.ru/cup/ml/. Но мы будем иметь дело не со всеми данными, а только с их частью. Данные у нас будут про заведения общественного питания (больше бюрократический терминологии!)\n",
    "\n",
    "Файлы с данными можно найти [здесь](https://disk.yandex.ru/d/YWvCNRQMb7QSQA).\n",
    "\n",
    "Задачей будет **предсказание среднего чека** (average_bill) по некоторым другим свойствам заведения."
   ]
  },
  {
   "cell_type": "code",
   "execution_count": 226,
   "metadata": {
    "id": "yJPF3OclGH62"
   },
   "outputs": [],
   "source": [
    "base = '/home/avalur/autohw/'"
   ]
  },
  {
   "cell_type": "code",
   "execution_count": 227,
   "metadata": {
    "id": "uzDIu6uXGH62"
   },
   "outputs": [],
   "source": [
    "df = pd.read_csv('organisations.csv')\n",
    "features = pd.read_csv('features.csv')\n",
    "rubrics = pd.read_csv('rubrics.csv')"
   ]
  },
  {
   "cell_type": "markdown",
   "metadata": {
    "id": "k-AwDM7bGH63"
   },
   "source": [
    "В основном мы будем работать с табличкой `data`; остальное вам может пригодиться, если вы захотите знать, какое содержание стоит за кодами признаков."
   ]
  },
  {
   "cell_type": "markdown",
   "metadata": {
    "id": "4hrvEN_3GH63"
   },
   "source": [
    "## Изучение данных"
   ]
  },
  {
   "cell_type": "markdown",
   "metadata": {
    "id": "PI9YQMuCGH63"
   },
   "source": [
    "Посмотрите на данные. В этом вам поможет метод ``head`` pandas-таблички."
   ]
  },
  {
   "cell_type": "code",
   "execution_count": 228,
   "metadata": {
    "id": "VA_0DG29GH64"
   },
   "outputs": [
    {
     "data": {
      "text/html": [
       "<div>\n",
       "<style scoped>\n",
       "    .dataframe tbody tr th:only-of-type {\n",
       "        vertical-align: middle;\n",
       "    }\n",
       "\n",
       "    .dataframe tbody tr th {\n",
       "        vertical-align: top;\n",
       "    }\n",
       "\n",
       "    .dataframe thead th {\n",
       "        text-align: right;\n",
       "    }\n",
       "</style>\n",
       "<table border=\"1\" class=\"dataframe\">\n",
       "  <thead>\n",
       "    <tr style=\"text-align: right;\">\n",
       "      <th></th>\n",
       "      <th>org_id</th>\n",
       "      <th>city</th>\n",
       "      <th>average_bill</th>\n",
       "      <th>rating</th>\n",
       "      <th>rubrics_id</th>\n",
       "      <th>features_id</th>\n",
       "    </tr>\n",
       "  </thead>\n",
       "  <tbody>\n",
       "    <tr>\n",
       "      <th>0</th>\n",
       "      <td>15903868628669802651</td>\n",
       "      <td>msk</td>\n",
       "      <td>1500.0</td>\n",
       "      <td>4.270968</td>\n",
       "      <td>30776 30774</td>\n",
       "      <td>3501685156 3501779478 20422 3502045016 3502045...</td>\n",
       "    </tr>\n",
       "    <tr>\n",
       "      <th>1</th>\n",
       "      <td>16076540698036998306</td>\n",
       "      <td>msk</td>\n",
       "      <td>500.0</td>\n",
       "      <td>4.375000</td>\n",
       "      <td>30771</td>\n",
       "      <td>1509 1082283206 273469383 10462 11617 35017794...</td>\n",
       "    </tr>\n",
       "    <tr>\n",
       "      <th>2</th>\n",
       "      <td>8129364761615040323</td>\n",
       "      <td>msk</td>\n",
       "      <td>500.0</td>\n",
       "      <td>4.000000</td>\n",
       "      <td>31495</td>\n",
       "      <td>10462 11177 11617 11629 1416 1018 11704 11867 ...</td>\n",
       "    </tr>\n",
       "    <tr>\n",
       "      <th>3</th>\n",
       "      <td>15262729117594253452</td>\n",
       "      <td>msk</td>\n",
       "      <td>500.0</td>\n",
       "      <td>4.538813</td>\n",
       "      <td>30776 30770</td>\n",
       "      <td>3501618484 2020795524 11629 11617 1018 11704 2...</td>\n",
       "    </tr>\n",
       "    <tr>\n",
       "      <th>4</th>\n",
       "      <td>13418544315327784420</td>\n",
       "      <td>msk</td>\n",
       "      <td>500.0</td>\n",
       "      <td>4.409091</td>\n",
       "      <td>31495</td>\n",
       "      <td>11617 10462 11177 1416 11867 3501744275 20282 ...</td>\n",
       "    </tr>\n",
       "  </tbody>\n",
       "</table>\n",
       "</div>"
      ],
      "text/plain": [
       "                 org_id city  average_bill    rating   rubrics_id  \\\n",
       "0  15903868628669802651  msk        1500.0  4.270968  30776 30774   \n",
       "1  16076540698036998306  msk         500.0  4.375000        30771   \n",
       "2   8129364761615040323  msk         500.0  4.000000        31495   \n",
       "3  15262729117594253452  msk         500.0  4.538813  30776 30770   \n",
       "4  13418544315327784420  msk         500.0  4.409091        31495   \n",
       "\n",
       "                                         features_id  \n",
       "0  3501685156 3501779478 20422 3502045016 3502045...  \n",
       "1  1509 1082283206 273469383 10462 11617 35017794...  \n",
       "2  10462 11177 11617 11629 1416 1018 11704 11867 ...  \n",
       "3  3501618484 2020795524 11629 11617 1018 11704 2...  \n",
       "4  11617 10462 11177 1416 11867 3501744275 20282 ...  "
      ]
     },
     "execution_count": 228,
     "metadata": {},
     "output_type": "execute_result"
    }
   ],
   "source": [
    "df.head()"
   ]
  },
  {
   "cell_type": "markdown",
   "metadata": {
    "id": "GN9kZbURGH64"
   },
   "source": [
    "Полезно посмотреть внимательнее на то, с какими признаками нам предстоит работать.\n",
    "\n",
    "* **org_id** вам не понадобится;\n",
    "* **city** - город, в котором находится заведение (``msk`` или ``spb``);\n",
    "* **average_bill** - средний чек в заведении - он будет нашим таргетом;\n",
    "* **rating** - рейтинг заведения;\n",
    "* **rubrics_id** - тип заведения (или несколько типов). Соответствие кодов каким-то человекочитаемым типам живёт в табличке ``rubrics``\n",
    "* **features_id** - набор неких фичей заведения. Соответствие кодов каким-то человекочитаемым типам живёт в табличке ``features``\n",
    "\n",
    "Обратите внимание, что **rubrics_id** и **features_id** - это не списки, а разделённые пробелами строки. Когда вам захочется работать с отдельными фичами из мешка фичей для данного заведения, вам придётся всё-таки превратить их в списки (здесь поможет метод `split` для строк)."
   ]
  },
  {
   "cell_type": "markdown",
   "metadata": {
    "id": "J0IJIWz3GH64"
   },
   "source": [
    "Чтобы быстро восстанавливать по рубрикам и фичам их нормальные названия, сделайте словари вида ``код_фичи:название_фичи``"
   ]
  },
  {
   "cell_type": "code",
   "execution_count": 229,
   "metadata": {
    "id": "8KwKEKr7GH65"
   },
   "outputs": [],
   "source": [
    "rubric_dict = dict()\n",
    "features_dict = dict()\n",
    "\n",
    "for i in zip(rubrics[\"rubric_id\"], rubrics[\"rubric_name\"]):\n",
    "    rubric_dict[i[0]] = i[1]\n",
    "\n",
    "for i in zip(features[\"feature_id\"], features[\"feature_name\"]):\n",
    "    features_dict[i[0]] = i[1]"
   ]
  },
  {
   "cell_type": "markdown",
   "metadata": {
    "id": "DNd4PkyQGH65"
   },
   "source": [
    "Посмотрим, какими бывают типы заведений:"
   ]
  },
  {
   "cell_type": "code",
   "execution_count": 272,
   "metadata": {
    "id": "8WhaPPEeGH65",
    "outputId": "aaf9cc8c-64ae-4bac-d8f8-6dd4d03033d8"
   },
   "outputs": [
    {
     "data": {
      "text/plain": [
       "{30519: 'Булочная, пекарня',\n",
       " 30770: 'Бар, паб',\n",
       " 30771: 'Быстрое питание',\n",
       " 30774: 'Кафе',\n",
       " 30775: 'Пиццерия',\n",
       " 30776: 'Ресторан',\n",
       " 30777: 'Столовая',\n",
       " 31286: 'Спортбар',\n",
       " 31350: 'Кондитерская',\n",
       " 31375: 'Суши-бар',\n",
       " 31401: 'Кальян-бар',\n",
       " 31495: 'Кофейня',\n",
       " 3108292683: 'Бар безалкогольных напитков',\n",
       " 3501514558: 'Фудкорт',\n",
       " 3501750896: 'Кофе с собой'}"
      ]
     },
     "execution_count": 272,
     "metadata": {},
     "output_type": "execute_result"
    }
   ],
   "source": [
    "rubric_dict"
   ]
  },
  {
   "cell_type": "code",
   "execution_count": 231,
   "metadata": {
    "scrolled": true
   },
   "outputs": [
    {
     "data": {
      "image/png": "[encoded data removed]",
      "text/plain": [
       "<Figure size 1300x800 with 1 Axes>"
      ]
     },
     "metadata": {},
     "output_type": "display_data"
    }
   ],
   "source": [
    "xcol = \"average_bill\"\n",
    "\n",
    "# очистка\n",
    "df = df.dropna(subset=[xcol]).copy()\n",
    "df[xcol] = pd.to_numeric(df[xcol], errors='coerce')\n",
    "\n",
    "# ограничим диапазон, чтобы хвосты не сжимали график\n",
    "df_1 = df[df[xcol] <= 5000]\n",
    "\n",
    "\n",
    "group = df_1.groupby([\"city\", xcol]).size().reset_index(name=\"count\")\n",
    "group = group[group[\"count\"] > 5]\n",
    "bins = max(group[xcol].count(), 20)\n",
    "\n",
    "# общие границы бинов для всех городов\n",
    "edges = np.linspace(df_1[xcol].min(), df_1[xcol].max(), bins+1)\n",
    "# edges = np.linspace(df_1[xcol].min(), df_1[xcol].max(), bins + 1)\n",
    "\n",
    "plt.figure(figsize=(13, 8))\n",
    "for city, d in (df_1.groupby(\"city\")):\n",
    "    plt.hist(\n",
    "        d[xcol], \n",
    "        bins=edges,\n",
    "        alpha=0.85,\n",
    "        edgecolor=\"none\",           # без белых «зазоров»\n",
    "        label=city,\n",
    "        density=False\n",
    "    )\n",
    "\n",
    "plt.xlabel(\"average_bill\")\n",
    "plt.ylabel(\"Количество\")\n",
    "plt.title(\"Распределение average_bill по городам\")\n",
    "plt.legend(title=\"city\")\n",
    "plt.tight_layout()\n",
    "plt.show()"
   ]
  },
  {
   "cell_type": "markdown",
   "metadata": {
    "id": "qA6Bm_8EGH66"
   },
   "source": [
    "Мы что-то поняли про признаки, которыми нам предстоит пользоваться. Теперь время посмотреть на таргет. Вооружившись функциями ``hist`` и ``scatter`` из библиотеки ``matplotlib``, а также методом ``isna`` для pandas-таблиц разберитесь, какие значения принимают таргеты, есть ли там там выбросы, пропуски или ещё какие-то проблемы.\n",
    "\n",
    "&nbsp;\n",
    "\n",
    "<details>\n",
    "  <summary>Когда будете готовы, кликните сюда, чтобы посмотреть ответ</summary>\n",
    "    <ol>\n",
    "      <li>Среди таргетов довольно много пропусков;</li>\n",
    "      <li>Все таргеты - это числа, кратные 500;</li>\n",
    "      <li>Есть какие-то адские значения, превышающие 100 000 (видимо, выбросы);</li>\n",
    "      <li>В целом, число ресторанов с данным средним чеком быстро падает с ростом среднего чека. Для средних чеков, больших 2500, заведений уже совсем мало. Примерно у 2/3 заведений средний чек 500.</li>\n",
    "    </ol>\n",
    "</details>"
   ]
  },
  {
   "cell_type": "code",
   "execution_count": null,
   "metadata": {
    "id": "f6bg-kmIGH66",
    "outputId": "69beeb66-b7aa-4905-bc73-59a6ab27edf3",
    "scrolled": true
   },
   "outputs": [
    {
     "data": {
      "image/png": "[encoded data removed]",
      "text/plain": [
       "<Figure size 640x480 with 1 Axes>"
      ]
     },
     "metadata": {},
     "output_type": "display_data"
    }
   ],
   "source": []
  },
  {
   "cell_type": "markdown",
   "metadata": {
    "id": "trfl5F_4GH66"
   },
   "source": [
    "**Базовая очистка данных**\n",
    "\n",
    "Раз есть треш, давайте чистить данные.\n",
    "\n",
    "С пропусками можно бороться по-разному (даже и с пропусками в таргете), но пока мы сделаем самую простую вещь: дропнем все заведения, для которых мы не знаем средний чек.\n",
    "\n",
    "Уберите из них все заведения, у которых средний чек неизвестен или превышает 2500. Пока есть опасение, что их слишком мало, чтобы мы смогли обучить на них что-нибудь.\n",
    "\n",
    "**3. Введите в Контест количество заведений, которое у вас получилось после очистки**.\n",
    "\n",
    "Дальше мы будем работать с очищенными данными."
   ]
  },
  {
   "cell_type": "code",
   "execution_count": 232,
   "metadata": {
    "id": "OxIkRsA1GH67"
   },
   "outputs": [
    {
     "data": {
      "text/plain": [
       "32136"
      ]
     },
     "execution_count": 232,
     "metadata": {},
     "output_type": "execute_result"
    }
   ],
   "source": [
    "df = pd.read_csv('organisations.csv')\n",
    "xcol = \"average_bill\"\n",
    "df = df.dropna(subset=[xcol]).copy()\n",
    "df = df[df[xcol] <= 2500].copy()\n",
    "df[\"org_id\"].count()"
   ]
  },
  {
   "cell_type": "markdown",
   "metadata": {
    "id": "GsNzGAp1GH67"
   },
   "source": [
    "**4. Посчитайте и введите в Контест разность между средними арифметическими average_bill в кафе Москвы и Санкт-Петербурга. Округлите ответ до целого.**\n",
    "\n",
    "&nbsp;\n",
    "\n",
    "<details>\n",
    "  <summary>Небольшая подсказка</summary>\n",
    "  Примените часто используемый метод groupby.\n",
    "</details>"
   ]
  },
  {
   "cell_type": "code",
   "execution_count": 233,
   "metadata": {
    "id": "gLdl3zVCGH67"
   },
   "outputs": [
    {
     "data": {
      "text/plain": [
       "142"
      ]
     },
     "execution_count": 233,
     "metadata": {},
     "output_type": "execute_result"
    }
   ],
   "source": [
    "# Здесь важно конкретно, что в кафе, а не во всех заведениях\n",
    "group_mean = df[df[\"rubrics_id\"].str.contains(\"30774\")].groupby(\"city\").mean()\n",
    "diff = group_mean.loc[\"msk\", \"average_bill\"] - group_mean.loc[\"spb\", \"average_bill\"]\n",
    "round(diff)"
   ]
  },
  {
   "cell_type": "code",
   "execution_count": 270,
   "metadata": {},
   "outputs": [
    {
     "name": "stdout",
     "output_type": "stream",
     "text": [
      "                                   org_id  average_bill    rating\n",
      "city rubrics_id                                                  \n",
      "msk  30519                   9.511017e+18    535.971223  4.087302\n",
      "     30519 30770 30777       1.309305e+19    500.000000  3.974110\n",
      "     30519 30771             9.005799e+18    500.000000  3.978562\n",
      "     30519 30771 30774       1.113717e+19    500.000000  4.056678\n",
      "     30519 30771 30776       1.303995e+19    500.000000  3.000000\n",
      "...                                   ...           ...       ...\n",
      "spb  3501750896 30771 31495  1.656240e+19    500.000000  5.000000\n",
      "     3501750896 30774        7.983077e+17    500.000000  4.142857\n",
      "     3501750896 30774 31495  9.136437e+18    500.000000  4.566123\n",
      "     3501750896 31495        9.383776e+18    500.000000  4.494567\n",
      "     3501750896 31495 30774  6.919997e+18    500.000000  3.666667\n",
      "\n",
      "[997 rows x 3 columns]\n",
      "__________________________________________________________________\n",
      "rubrics_id\n",
      "30519                            535.971223\n",
      "30519 30770 30777                500.000000\n",
      "30519 30771                      500.000000\n",
      "30519 30771 30774                500.000000\n",
      "30519 30771 30776                500.000000\n",
      "                                   ...     \n",
      "3501750896 31350                 500.000000\n",
      "3501750896 31350 31495           500.000000\n",
      "3501750896 31401 30770 30774    1000.000000\n",
      "3501750896 31495                 500.000000\n",
      "3501750896 31495 30774           500.000000\n",
      "Name: average_bill, Length: 604, dtype: float64\n",
      "__________________________________________________________________\n",
      "535.9712230215828\n",
      "__________________________________________________________________\n",
      "535.9712230215828\n"
     ]
    }
   ],
   "source": [
    "# group_mean\n",
    "\n",
    "# example = group = df.groupby(\"city\")[\"average_bill\"].mean()\n",
    "example_1 = group = df.groupby([\"city\", \"rubrics_id\"]).mean()\n",
    "\n",
    "# print(example)\n",
    "print(example_1)\n",
    "print(\"__________________________________________________________________\")\n",
    "print(example_1.loc[\"msk\", \"average_bill\"])\n",
    "print(\"__________________________________________________________________\")\n",
    "print(example_1.loc[\"msk\", \"average_bill\"].loc[\"30519\"])\n",
    "print(\"__________________________________________________________________\")\n",
    "print(example_1.loc[\"msk\", \"30519\"][\"average_bill\"])"
   ]
  },
  {
   "cell_type": "code",
   "execution_count": 235,
   "metadata": {},
   "outputs": [
    {
     "data": {
      "text/plain": [
       "116"
      ]
     },
     "execution_count": 235,
     "metadata": {},
     "output_type": "execute_result"
    }
   ],
   "source": [
    "# Разница между средними чеками в Москве и Санкт-Петербурге\n",
    "group = df.groupby(\"city\").mean()\n",
    "diff_1 = group.loc[\"msk\", \"average_bill\"] - group.loc[\"spb\", \"average_bill\"]\n",
    "round(diff_1)"
   ]
  },
  {
   "cell_type": "code",
   "execution_count": 236,
   "metadata": {},
   "outputs": [
    {
     "data": {
      "image/png": "[encoded data removed]",
      "text/plain": [
       "<Figure size 1560x960 with 2 Axes>"
      ]
     },
     "metadata": {},
     "output_type": "display_data"
    }
   ],
   "source": [
    "# Корреляция чека и рейтинга двумя способами\n",
    "import seaborn as sns\n",
    "import matplotlib.pyplot as plt\n",
    "%matplotlib inline\n",
    "sns.set()\n",
    "\n",
    "fig, ax = plt.subplots(1, 2, figsize=(13, 8), dpi=120)\n",
    "ax[0].scatter(df[\"average_bill\"], df[\"rating\"])\n",
    "sns.scatterplot(\n",
    "    data=df,\n",
    "    x=\"average_bill\",\n",
    "    y=\"rating\",\n",
    "    hue=\"city\",\n",
    "    ax=ax[1]\n",
    ")\n",
    "\n",
    "ax[0].set_xlabel(\"average_bill\")\n",
    "ax[0].set_ylabel(\"rating\")\n",
    "ax[0].set_title(u\"Зависимость чека от рейтинга\")\n",
    "ax[1].set_title(u\"Зависимость чека от рейтинга с разделением по городам\")\n",
    "ax[1].legend(title=\"city\", loc=\"best\")\n",
    "fig.tight_layout()\n",
    "plt.show()"
   ]
  },
  {
   "cell_type": "code",
   "execution_count": 237,
   "metadata": {},
   "outputs": [
    {
     "name": "stdout",
     "output_type": "stream",
     "text": [
      "Pearson: 0.090\n",
      "Spearman: 0.096\n"
     ]
    }
   ],
   "source": [
    "# Корреляция чека и рейтинга двумя способами\n",
    "pearson = df[[\"average_bill\", \"rating\"]].corr(method=\"pearson\").loc[\"average_bill\", \"rating\"]\n",
    "spearman = df[[\"average_bill\", \"rating\"]].corr(method=\"spearman\").loc[\"average_bill\", \"rating\"]\n",
    "print(f\"Pearson: {pearson:.3f}\\nSpearman: {spearman:.3f}\")"
   ]
  },
  {
   "cell_type": "code",
   "execution_count": 238,
   "metadata": {},
   "outputs": [
    {
     "data": {
      "text/plain": [
       "181.2283246610557"
      ]
     },
     "execution_count": 238,
     "metadata": {},
     "output_type": "execute_result"
    }
   ],
   "source": [
    "rest_mean = (\n",
    "    df[df[\"rubrics_id\"].str.contains(\"30776\")][\"average_bill\"]\n",
    "    .mean()\n",
    ")\n",
    "\n",
    "pub_mean = (\n",
    "    df[df[\"rubrics_id\"].str.contains(\"30770\")][\"average_bill\"]\n",
    "    .mean()\n",
    ")\n",
    "\n",
    "diff = rest_mean - pub_mean\n",
    "diff"
   ]
  },
  {
   "cell_type": "code",
   "execution_count": 239,
   "metadata": {},
   "outputs": [
    {
     "data": {
      "text/plain": [
       "[500.0, 1000.0, 1500.0, 2000.0, 2500.0]"
      ]
     },
     "execution_count": 239,
     "metadata": {},
     "output_type": "execute_result"
    }
   ],
   "source": [
    "top_bills = df[\"average_bill\"].round(0).value_counts().head(6).index.to_list()\n",
    "top_bills"
   ]
  },
  {
   "cell_type": "code",
   "execution_count": 240,
   "metadata": {
    "scrolled": true
   },
   "outputs": [
    {
     "name": "stdout",
     "output_type": "stream",
     "text": [
      "Задание 1:\n",
      "Значение теста Манна-Уитни: 131006630.0\n",
      "P-value в тесте Манна-Уитни: 2.3824996476020733e-98\n",
      "\n",
      "\n",
      "Задание 2:\n",
      "\n"
     ]
    },
    {
     "data": {
      "image/png": "[encoded data removed]",
      "text/plain": [
       "<Figure size 800x800 with 1 Axes>"
      ]
     },
     "metadata": {},
     "output_type": "display_data"
    },
    {
     "name": "stdout",
     "output_type": "stream",
     "text": [
      "Задание 3:\n",
      "Значение теста Манна-Уитни: 17237079.0\n",
      "P-value в тесте Манна-Уитни: 1.954741490901783e-147\n",
      "\n",
      "\n"
     ]
    }
   ],
   "source": [
    "# Подсчет всех статистистик6 предлагаемых в ответе:\n",
    "# Считаем тест Манна Уитни и делаем выводы:\n",
    "\n",
    "from scipy.stats import mannwhitneyu\n",
    "\n",
    "##### Задача 1 #####\n",
    "# Н0: между группами нет статистически значимых отличий\n",
    "x = df[df[\"city\"] == \"msk\"][\"average_bill\"]\n",
    "y = df[df[\"city\"] == \"spb\"][\"average_bill\"]\n",
    "U, p = mannwhitneyu(x, y, alternative=\"two-sided\", method=\"auto\")\n",
    "print(f\"Задание 1:\\nЗначение теста Манна-Уитни: {U}\\nP-value в тесте Манна-Уитни: {p}\\n\\n\")\n",
    "#  мы получили p-value << 0.001 -> Отвергаем Н0 на всех уровнях значимости\n",
    "# -> в ресторанах Москвы чек значимо выше\n",
    "\n",
    "##### Задача 2 #####\n",
    "# нужно построить ящик с усами для зависимости рейтинга от среднего чека\n",
    "# для этого нужно получить группы рейтингов для каждого чека:\n",
    "# получим для начала список наиболее популярных средних чеков, для которых и будем строить распредление:\n",
    "top_bills = df[\"average_bill\"].round(0).value_counts().head(6).index.to_list()\n",
    "# сделаем группы рейтингов для каждого чека. С помощью values превратим эти списки в numpy.ndarray\n",
    "groups = [df.loc[\n",
    "          df[\"average_bill\"].round(0) == v, \"rating\"].dropna().values for v in top_bills\n",
    "         ]\n",
    "\n",
    "plt.figure(figsize=(8, 8))\n",
    "# str(int(v)) в labels нужно, чтобы у чисел в подписях не было знаков типа .0\n",
    "# showfliers отвечает за то, нужно ли показывать выбросы\n",
    "plt.boxplot(groups, labels=[str(int(v)) for v in top_bills], showfliers=False)\n",
    "plt.ylabel(\"rating\"); plt.xlabel(\"average_bill\"); plt.title(u\"Boxplot рейтинга по уровням среднего чека\")\n",
    "print(\"Задание 2:\\n\")\n",
    "plt.show()\n",
    "# из графиков видно, что распределение рейтингов сдвигается выше при бОльших значениях чека, но не значительно\n",
    "\n",
    "##### Задача 3 #####\n",
    "# Сравним с помощью Манна-Уитни средний чек в ресторанах и пабах:\n",
    "# Сделаем соберем средние чеки в ресторанах (+ не пабах) и наоборот \n",
    "rests = df[(df[\"rubrics_id\"].astype(str).str.contains(\"30776\")) & ~(df[\"rubrics_id\"].astype(str).str.contains(\"30770\"))][\"average_bill\"]\n",
    "pubs = df[(df[\"rubrics_id\"].astype(str).str.contains(\"30770\")) & ~(df[\"rubrics_id\"].astype(str).str.contains(\"30776\"))][\"average_bill\"]\n",
    "U, p = mannwhitneyu(rests, pubs, alternative=\"two-sided\", method=\"auto\")\n",
    "print(f\"Задание 3:\\nЗначение теста Манна-Уитни: {U}\\nP-value в тесте Манна-Уитни: {p}\\n\\n\")\n",
    "#  мы получили p-value << 0.001 -> Отвергаем Н0 на всех уровнях значимости\n",
    "# -> в ресторанах чек значимо выше, чем в пабах"
   ]
  },
  {
   "cell_type": "markdown",
   "metadata": {
    "id": "Qncnmi8bGH7F"
   },
   "source": [
    "Давайте ещё немного поизучаем данные. Ответьте на вопросы:\n",
    "\n",
    "1. Есть ли разница между средними чеками в Москве и Санкт-Петербурге?\n",
    "2. Коррелирует ли средний чек с рейтингом?\n",
    "3. Есть ли разница в среднем чеке между ресторанами и пабами (см. соответствующие типы из ``rubrics``)?\n",
    "\n",
    "&nbsp;\n",
    "\n",
    "<details>\n",
    "  <summary>Когда будете готовы, кликните сюда, чтобы посмотреть ответ</summary>\n",
    "    <ol>\n",
    "      <li>В целом, да. Вы могли бы сравнить средние (в Москве больше) или медианы (они равны, потому что уж больно много где средний чек 500). Этого, конечно, мало для того, чтобы сделать вывод. Нужно проверять какие-то статические критерии, которые изучаются в курсе по статистике. Не будем останавливаться на этом подробно. Поскольку данные совсем не нормальные, никакой t-тест не сработает; мы бы предложили использовать критерий Манна-Уитни (см. википедию и функцию mannwhitneyu из библиотеки scipy.stats).</li>\n",
    "      <li>Какая-то корреляция между ними есть но уж больно неубедительная (рекомендуем построим на одном графике boxplot рейтинга по каждому значению среднего чека для визуализации). Конечно, дна становится меньше с ростом среднего чека, но, видимо, в предсказании это особо не используешь;</li>\n",
    "      <li>Несомненно, в ресторанах средний чек выше. Это и невооружённым глазом видно, и с помощью критерия Манна-Уитни можно проверить.</li>\n",
    "    </ol>\n",
    "</details>"
   ]
  },
  {
   "cell_type": "markdown",
   "metadata": {
    "id": "ATY5075lGH7F"
   },
   "source": [
    "## Формулируем задачу"
   ]
  },
  {
   "cell_type": "markdown",
   "metadata": {
    "id": "znpEgJGIGH7F"
   },
   "source": [
    "Прежде, чем решать задачу, её надо сформулировать.\n",
    "\n",
    "**Вопрос первый**: это классификация или регрессия? Подумайте над этим.\n",
    "\n",
    "&nbsp;\n",
    "\n",
    "<details>\n",
    "  <summary>Когда будете готовы, кликните сюда, чтобы посмотреть ответ</summary>\n",
    "    Ответ не столь однозначен, как хотелось бы. С одной стороны, таргет принимает всего четыре значения, и потому это может быть классификацией с 4 классами. С другой стороны, таргеты - это не абстрактные \"треугольник\", \"круг\", \"квадрат\", а вещественные числа, и когда мы вместо 500 предсказываем 2500, это явно хуже, чем вместо 1500 предсказать 2000. В целом, задачу можно решать и так, и так; мы будем смотреть на метрики обеих задач.\n",
    "</details>"
   ]
  },
  {
   "cell_type": "markdown",
   "metadata": {
    "id": "aaVuazxsGH7G"
   },
   "source": [
    "**Вопрос второй**: какие метрики мы будем использовать для оценки качества решения? Какие метрики вы предложили бы для этой задачи как для задачи классификации? А для этой задачи, как для задачи регрессии?\n",
    "\n",
    "&nbsp;\n",
    "\n",
    "<details>\n",
    "  <summary>Когда будете готовы, кликните сюда, чтобы посмотреть ответ</summary>\n",
    "    \n",
    "    Начнём с классификации. Метрика accuracy не очень хороша из-за несбалансированности классов. Действительно, классификатор, который всегда говорит 500, будет иметь accuracy примерно 0.66, хотя это никак не отражает практическую ценность модели. Как мы увидим, самая большая проблема будет заключаться в том, чтобы научиться выделять заведения с большими чеками, а их меньше всего и в accuracy они вносят самый маленький вклад. Есть разные способы с этим бороться, один -- использовать sklearn.metrics.balanced_accuracy_score. Его идея, грубо говоря, в том, чтобы по каждому классу найти, какая доля объектов этого класса правильно классифицирована, а потом эти доли усреднить. Тогда у бессмысленного классификатора, который всем ставит 500, будет скор 1/5 (ведь классов 5), а чтобы получить прежние 2/3, нужно будет научиться в каждом классе правильно ставить хотя бы 2/3 меток.    \n",
    "    \n",
    "    Теперь что касается регрессии. Основых метрики две - MSE и MAE. Из первой стоит извлекать корень, чтобы получать интерпретируемые человеком значения, а вторая менее агрессивна к выбросам (впрочем, выбросов тут уже нет, мы их все выкинули). Без дополнительной информации не очень понятно, какую выбирать, можно брать любую. А выбирать надо: ведь даже банальные модели \"предсказывай всегда среднее\" и \"предсказывай всегда медиану\" будут по-разному ранжироваться этими метриками.\n",
    "    \n",
    "</details>"
   ]
  },
  {
   "cell_type": "markdown",
   "metadata": {
    "id": "vs-jkCj-GH7G"
   },
   "source": [
    "**Вопрос третий**: а не взять ли нам какую-нибудь более экзотическую метрику? Например, MAPE (определение в учебнике в главе про оценку качества моделей). А как вам такое соображение: допустим, заказчик говорит, что пользователи будут расстраиваться, только если мы завысили средний чек - так давайте поправим MSE или MAE, обнуляя те слагаемые, для которых предсказанный таргет меньше истинного. Вот это хорошая метрика или нет?\n",
    "\n",
    "&nbsp;\n",
    "\n",
    "<details>\n",
    "  <summary>Когда будете готовы, кликните сюда, чтобы посмотреть ответ</summary>\n",
    "    \n",
    "    Что касается MAPE, у нас нет тех проблем, с которой она борется. Вот если бы у нас были средние чеки от 500 до миллиона, мы бы столкнулись с ситуацией, что большие ошибки для больших чеков доминировали бы в сумме для MSE и MAE (500 вместо 1000 меркнет по сравнению с 500к вместо миллиона). Говоря поэтически, мы бы оптимизировали модель для миллионеров, забыв про простых трудяг. И было бы логично перейти от парадигмы \"ошибаемся на 500 рублей\" к парадигме \"ошибаемся на 50%\". Но у нас все таргеты примерно одного порядка, MAPE нам особо ни к чему.\n",
    "    \n",
    "    Вторая метрика коварна тем, что её можно \"накрутить\" безо всякой пользы для дела. А именно, модель, которая всегда предсказывает средний чек в миллион, была бы идеальна. Но все бы расстраивались и не ходили есть. Другое дело, что можно ввести разные веса для ошибок в большую и в меньшую сторону, но опять же - пока нет показаний к тому, что это нужно.\n",
    "    \n",
    "</details>"
   ]
  },
  {
   "cell_type": "markdown",
   "metadata": {
    "id": "VCjV_SoAGH7G"
   },
   "source": [
    "## Применяем ML"
   ]
  },
  {
   "cell_type": "markdown",
   "metadata": {
    "id": "lqkvcLSPGH7G"
   },
   "source": [
    "Теперь время разбить данные на обучающую и тестовую выборку. Делается это с помощью функции ``train_test_split`` из пакета ``sklearn``. При этом очень важно сделать две вещи:\n",
    "\n",
    "* Зафиксировать ``random_state=42`` (да, именно этот, а то ваши модели могут не зайти в Контест), чтобы всё, что мы делаем, было воспроизводимо (иначе от перезапуска к перезапуску числа могут меняться, и мы не будем понимать, из-за чего это происходит).\n",
    "* Сделать стратификацию по таргету. В противном случае у нас в трейне и тесте могут оказаться разные пропорции классов (обычно особенно страдают мало представленные классы), что неутешительно скажется на результате.\n",
    "\n",
    "**Обратите внимание**, что если вы побьёте выборку на train и test по-другому, ваши результаты могут не зайти в контест."
   ]
  },
  {
   "cell_type": "code",
   "execution_count": 241,
   "metadata": {
    "id": "AF2IVpOjGH7H"
   },
   "outputs": [],
   "source": [
    "clean_data = df.copy()\n",
    "# Стратификация - это сохранение соотношения классов в тестовой и тренировочной выборке\n",
    "clean_data_train, clean_data_test = train_test_split(\n",
    "    clean_data, stratify=clean_data['average_bill'], test_size=0.33, random_state=42)"
   ]
  },
  {
   "cell_type": "markdown",
   "metadata": {
    "id": "S161veFJGH7H"
   },
   "source": [
    "Теперь нам нужен **бейзлайн** - очень простая модель, с которой мы в дальнейшем будем сравниваться.\n",
    "\n",
    "Поскольку мы ещё не знаем никаких умных классов моделей, все модели мы будем писать руками. А именно, мы напишем две простых модели на основе ``sklearn.baseRegressorMixin`` и ``sklearn.base.ClassifierMixin`` (посмотрите примеры в документации sklearn и сделайте так же):\n",
    "\n",
    "* Модель для задачи регрессии, которая для всех заведений предсказывает одно число — среднее значение среднего чека;\n",
    "* Модель для задачи классификации, которая для всех заведений предсказывает один класс — самый частый класс (ироничным образом он в данном случае совпадает с медианой).\n",
    "\n",
    "**Важно!** Мы будем много раз повторять вам мантру о том, что **информация из тестовой выборки не должна протекать в процесс обучения**. Так вот, и среднее, и самый частый класс вы должны считать именно на обучающей выборке!\n",
    "\n",
    "**5 и 6. Напишите эти две модели и сдайте в Контест**. В процессе проверки модели будут и обучаться, и предсказывать.\n",
    "\n",
    "Заметим, что для этих моделей нам вообще не нужны какие-то \"фичи\"; мы работаем только с таргетом.\n",
    "\n",
    "У каждой модели есть (как минимум) два метода: `fit` (обучает модель по фичам `X` и таргету `y`) `predict` (предсказывает по фичам `X`)"
   ]
  },
  {
   "cell_type": "code",
   "execution_count": 242,
   "metadata": {
    "id": "lLz_sxtUGH7H"
   },
   "outputs": [],
   "source": [
    "from scipy.stats import mode\n",
    "from sklearn.base import RegressorMixin\n",
    "\n",
    "class MeanRegressor(RegressorMixin):\n",
    "    # Predicts the mean of y_train\n",
    "    def fit(self, X=None, y=None):\n",
    "\n",
    "        self.mean_ = float(np.mean(y))\n",
    "        return self\n",
    "\n",
    "    def predict(self, X=None):\n",
    "\n",
    "        n_samples = X.shape[0]\n",
    "        return np.full(shape=n_samples, fill_value=self.mean_)\n",
    "\n",
    "from sklearn.base import ClassifierMixin\n",
    "\n",
    "class MostFrequentClassifier(ClassifierMixin):\n",
    "    # Predicts the rounded (just in case) median of y_train\n",
    "    def fit(self, X=None, y=None):\n",
    "\n",
    "        self.mode_ = mode(y)[0]\n",
    "        return self\n",
    "\n",
    "    def predict(self, X=None):\n",
    "\n",
    "        n_samples = X.shape[0]\n",
    "        return np.full(shape=n_samples, fill_value=self.mode_)"
   ]
  },
  {
   "cell_type": "code",
   "execution_count": 243,
   "metadata": {},
   "outputs": [
    {
     "data": {
      "text/plain": [
       "65841       0.0\n",
       "48882     500.0\n",
       "33711     500.0\n",
       "33544    2000.0\n",
       "35293       0.0\n",
       "          ...  \n",
       "55337    2500.0\n",
       "64048    1000.0\n",
       "22010    2000.0\n",
       "40089     500.0\n",
       "32180       0.0\n",
       "Length: 10605, dtype: float64"
      ]
     },
     "execution_count": 243,
     "metadata": {},
     "output_type": "execute_result"
    }
   ],
   "source": [
    "city_msk = lambda x: 1 if x == \"msk\" else 0\n",
    "city_spb = lambda x: 1 if x == \"spb\" else 0\n",
    "city_msk.__name__ = \"msk\"\n",
    "city_spb.__name__ = \"spb\"\n",
    "clean_01 = clean_data_test[\"city\"].transform([city_msk, city_spb])\n",
    "clean_y = (clean_data_test[\"average_bill\"] * clean_01[\"msk\"])\n",
    "# clean_y[clean_y != 0]\n",
    "clean_y"
   ]
  },
  {
   "cell_type": "markdown",
   "metadata": {
    "id": "lo2pNhVoGH7I"
   },
   "source": [
    "Обучим наши модели"
   ]
  },
  {
   "cell_type": "markdown",
   "metadata": {
    "id": "jJG8x0tmGH7I"
   },
   "source": [
    "Обучите модели и оцените их качество на тестовой выборке. В качестве метрик возьмём RMSE (``np.sqrt`` от ``sklearn.metrics.mean_squared_error``) и ``sklearn.metrics.balanced_accuracy_score``.\n",
    "\n",
    "Для регрессионной модели имеет смысл считать только RMSE (значения будут не кратны 500, точно мы угадывать не будем никогда), а вот для классификационной можно найти обе метрики. Сделайте это. Какая модель оказалась лучше по RMSE?"
   ]
  },
  {
   "cell_type": "code",
   "execution_count": 244,
   "metadata": {
    "id": "arXlaGnTGH7I"
   },
   "outputs": [
    {
     "name": "stdout",
     "output_type": "stream",
     "text": [
      "MSE_reg: 448.7\n",
      "MSE_clf: 514.8\n",
      "Accurancy: 0.2\n"
     ]
    }
   ],
   "source": [
    "from sklearn.metrics import mean_squared_error, balanced_accuracy_score\n",
    "\n",
    "reg = MeanRegressor()\n",
    "reg.fit(y=clean_data_train['average_bill'])\n",
    "\n",
    "clf = MostFrequentClassifier()\n",
    "clf.fit(y=clean_data_train['average_bill'])\n",
    "\n",
    "X_predict = clean_data_test.drop(columns=[\"average_bill\"])\n",
    "y_true = clean_data_test[\"average_bill\"]\n",
    "\n",
    "y_pred_reg = reg.predict(X=X_predict)\n",
    "y_pred_clf = clf.predict(X=X_predict)\n",
    "\n",
    "MSE_reg = round(np.sqrt(mean_squared_error(y_true, y_pred_reg)), 1)\n",
    "MSE_clf = round(np.sqrt(mean_squared_error(y_true, y_pred_clf)), 1)\n",
    "bal_acc_clf = balanced_accuracy_score(y_true, y_pred_clf)\n",
    "\n",
    "print(f\"MSE_reg: {MSE_reg}\\nMSE_clf: {MSE_clf}\\nAccurancy: {bal_acc_clf}\")"
   ]
  },
  {
   "cell_type": "markdown",
   "metadata": {
    "id": "kvZwp54sGH7J"
   },
   "source": [
    "<details>\n",
    "  <summary>Когда будете готовы, кликните сюда</summary>\n",
    "    \n",
    "  Казалось бы, регрессор никогда не угадывает, но он в каком-то смысле лучше классификатора - справедливо ли это? Возможно. Несуществующий пользователь модели вряд ли будет задавать вопросы \"почему средний чек не кратен 500?\" Ну, выдали около 800 - ок, понятно.\n",
    "    \n",
    "</details>"
   ]
  },
  {
   "cell_type": "markdown",
   "metadata": {
    "id": "V-1-O9GyGH7J"
   },
   "source": [
    "## Усложнение модели"
   ]
  },
  {
   "cell_type": "markdown",
   "metadata": {
    "id": "dGWgxl0VGH7J"
   },
   "source": [
    "Бейзлайны будут нашей отправной точкой. Строя дальнейшие модели, мы будем спрашивать себя: получилось ли лучше бейзлайна? Если нет или если не особо, то в чём смысл усложнения?"
   ]
  },
  {
   "cell_type": "markdown",
   "metadata": {
    "id": "9w3DkuuFGH7K"
   },
   "source": [
    "Начнём с использования фичи ``city``. Мы уже видели, что в разных городах и средние чеки разные. Легко проверить, что *медиана* средних чеков всё же одна и та же и в Москве, и в Санкт-Петербурге (ох уж этот вездесущий средний чек 500!), поэтому с классификатором мы ничего не сделаем. Но вот регрессор можно попробовать починить.\n",
    "\n",
    "**7. Напишите регрессор, для каждого заведения предсказывающий среднее значение в том же городе (на обучающей выборке, конечно) и сдайте его в Контест**. Вам может помочь то, что булевы `pandas` и `numpy` столбцы можно умножать на численные — в такой ситуации False работает, как ноль, а True как единица."
   ]
  },
  {
   "cell_type": "code",
   "execution_count": 248,
   "metadata": {
    "id": "ZULQVPe2GH7K"
   },
   "outputs": [],
   "source": [
    "import numpy as np\n",
    "from sklearn.base import BaseEstimator, RegressorMixin\n",
    "\n",
    "class CityMeanRegressor(RegressorMixin):\n",
    "    def fit(self, X=None, y=None):\n",
    "        X[\"average_bill\"] = y\n",
    "        means = X.groupby(\"city\")[\"average_bill\"].mean()\n",
    "\n",
    "        self.mean_msk_ = means.loc[\"msk\"]\n",
    "        self.mean_spb_ = means.loc[\"spb\"]\n",
    "        \n",
    "        return self\n",
    "\n",
    "    def predict(self, X=None):\n",
    "        return X[\"city\"].map({\"msk\": self.mean_msk_, \"spb\": self.mean_spb_}).to_numpy()"
   ]
  },
  {
   "cell_type": "markdown",
   "metadata": {
    "id": "1EeFGk24GH7K"
   },
   "source": [
    "Обучите регрессор и сравните его по метрике RMSE с бейзлайнами. Получилось ли улучшить метрику?"
   ]
  },
  {
   "cell_type": "code",
   "execution_count": 249,
   "metadata": {},
   "outputs": [
    {
     "name": "stdout",
     "output_type": "stream",
     "text": [
      "MSE_reg: 445.1\n"
     ]
    }
   ],
   "source": [
    "from sklearn.metrics import mean_squared_error, balanced_accuracy_score\n",
    "\n",
    "reg = CityMeanRegressor()\n",
    "reg.fit(X=clean_data_train.drop(columns=[\"average_bill\"]), y=clean_data_train['average_bill'])\n",
    "\n",
    "X_predict = clean_data_test.drop(columns=[\"average_bill\"])\n",
    "y_true = clean_data_test[\"average_bill\"]\n",
    "\n",
    "y_pred_reg = reg.predict(X=X_predict)\n",
    "\n",
    "MSE_reg = round(np.sqrt(mean_squared_error(y_true, y_pred_reg)), 1)\n",
    "\n",
    "print(f\"MSE_reg: {MSE_reg}\")"
   ]
  },
  {
   "cell_type": "code",
   "execution_count": null,
   "metadata": {},
   "outputs": [],
   "source": []
  },
  {
   "cell_type": "markdown",
   "metadata": {
    "id": "jROycei1GH7L"
   },
   "source": [
    "Лучше стало, но, правда, не очень сильно. В этот момент очень важно не просто радовать руководителя приростом в третьем знаке, но и думать о том, что происходит.\n",
    "\n",
    "Средний средний чек по Москве равен 793, в Санкт-Петербурге - 676, а в целом - 752 рубля. MSE, увы, не поможет вам ответить на вопрос, стало ли лучше пользователю, если вы ему вместо 752 рублей назвали 793. Здесь вскрывается весьма существенный порок MSE в этой задаче. Дело в том, что наш изначальный таргет делит заведения на некоторые \"ценовые категории\", и различие в средних чеках 500 и 1000 в самом деле существенно. Наверное, мы хотели бы как раз правильно предсказывать ценовые категории. Но MSE не очень помогает нам об этом судить. Дальше мы ещё подумаем, как это исправить.\n",
    "\n",
    "В любом случае, несмотря на улучшение метрики, мы пока не можем судить, стало ли по жизни лучше от усложнения модели."
   ]
  },
  {
   "cell_type": "markdown",
   "metadata": {
    "id": "wEQ9eOoWGH7L"
   },
   "source": [
    "Поручинившись немного, возьмём на вооружение другую идею. Давайте использовать типы заведений!\n",
    "\n",
    "Но с типами есть некоторая проблема: в столбце ``rubrics_id`` не всегда один идентификатор, часто их несколько, и всего комбинаций довольно много. Чтобы не возиться с малочисленными типами, давайте сольём их в один безликий ``other``.\n",
    "\n",
    "Итак, добавьте в обучающие и тестовые данные столбец ``modified_rubrics``, в котором будет то же, что и в ``rubrics_id``, если соответствующая комбинация рубрик содержит хотя бы 100 заведений из обучающей (!) выборки, и строка ``other`` в противном случае.\n",
    "\n",
    "Здесь вам поможет контейнер ``Counter`` из библиотеки ``collections``."
   ]
  },
  {
   "cell_type": "code",
   "execution_count": 336,
   "metadata": {
    "id": "uTVW5KkwGH7L"
   },
   "outputs": [
    {
     "data": {
      "text/html": [
       "<div>\n",
       "<style scoped>\n",
       "    .dataframe tbody tr th:only-of-type {\n",
       "        vertical-align: middle;\n",
       "    }\n",
       "\n",
       "    .dataframe tbody tr th {\n",
       "        vertical-align: top;\n",
       "    }\n",
       "\n",
       "    .dataframe thead th {\n",
       "        text-align: right;\n",
       "    }\n",
       "</style>\n",
       "<table border=\"1\" class=\"dataframe\">\n",
       "  <thead>\n",
       "    <tr style=\"text-align: right;\">\n",
       "      <th></th>\n",
       "      <th>org_id</th>\n",
       "      <th>city</th>\n",
       "      <th>average_bill</th>\n",
       "      <th>rating</th>\n",
       "      <th>rubrics_id</th>\n",
       "      <th>features_id</th>\n",
       "      <th>modified_rubrics</th>\n",
       "    </tr>\n",
       "  </thead>\n",
       "  <tbody>\n",
       "    <tr>\n",
       "      <th>45769</th>\n",
       "      <td>3276960721840719260</td>\n",
       "      <td>msk</td>\n",
       "      <td>500.0</td>\n",
       "      <td>4.500000</td>\n",
       "      <td>30770</td>\n",
       "      <td>11704 20422 1018 11177 1416 11867 10462</td>\n",
       "      <td>30770</td>\n",
       "    </tr>\n",
       "    <tr>\n",
       "      <th>39061</th>\n",
       "      <td>8452997364765928283</td>\n",
       "      <td>msk</td>\n",
       "      <td>1500.0</td>\n",
       "      <td>4.442623</td>\n",
       "      <td>30774 30776</td>\n",
       "      <td>1415 3501481355 1416 11629 10462 1524 20422 11...</td>\n",
       "      <td>30774 30776</td>\n",
       "    </tr>\n",
       "    <tr>\n",
       "      <th>59281</th>\n",
       "      <td>14240408259222214074</td>\n",
       "      <td>spb</td>\n",
       "      <td>1000.0</td>\n",
       "      <td>4.018868</td>\n",
       "      <td>30776 30774</td>\n",
       "      <td>3502045032 11741 3502045016 10462 11704 350177...</td>\n",
       "      <td>30776 30774</td>\n",
       "    </tr>\n",
       "    <tr>\n",
       "      <th>51225</th>\n",
       "      <td>15114069072602161053</td>\n",
       "      <td>msk</td>\n",
       "      <td>1500.0</td>\n",
       "      <td>4.364742</td>\n",
       "      <td>31401 30776</td>\n",
       "      <td>3501513153 3501779478 3491142672 273469383 350...</td>\n",
       "      <td>other</td>\n",
       "    </tr>\n",
       "    <tr>\n",
       "      <th>29587</th>\n",
       "      <td>2730337118800634815</td>\n",
       "      <td>msk</td>\n",
       "      <td>1000.0</td>\n",
       "      <td>4.698718</td>\n",
       "      <td>30770</td>\n",
       "      <td>21247 10896 3491142672 11629 3501481353 350148...</td>\n",
       "      <td>30770</td>\n",
       "    </tr>\n",
       "    <tr>\n",
       "      <th>...</th>\n",
       "      <td>...</td>\n",
       "      <td>...</td>\n",
       "      <td>...</td>\n",
       "      <td>...</td>\n",
       "      <td>...</td>\n",
       "      <td>...</td>\n",
       "      <td>...</td>\n",
       "    </tr>\n",
       "    <tr>\n",
       "      <th>64667</th>\n",
       "      <td>15641319025413596274</td>\n",
       "      <td>msk</td>\n",
       "      <td>500.0</td>\n",
       "      <td>4.510753</td>\n",
       "      <td>30771</td>\n",
       "      <td>20424 3501744275 273469383 10462 11177 11617 1...</td>\n",
       "      <td>30771</td>\n",
       "    </tr>\n",
       "    <tr>\n",
       "      <th>47309</th>\n",
       "      <td>2049892259403324519</td>\n",
       "      <td>msk</td>\n",
       "      <td>500.0</td>\n",
       "      <td>4.333333</td>\n",
       "      <td>30771</td>\n",
       "      <td>273469383 20424 11704 11629 10462 20422 1018</td>\n",
       "      <td>30771</td>\n",
       "    </tr>\n",
       "    <tr>\n",
       "      <th>26208</th>\n",
       "      <td>12224074314753892871</td>\n",
       "      <td>msk</td>\n",
       "      <td>500.0</td>\n",
       "      <td>5.000000</td>\n",
       "      <td>30775</td>\n",
       "      <td>21247 11867 11629 1524 1509 20422 1416 1415 10...</td>\n",
       "      <td>30775</td>\n",
       "    </tr>\n",
       "    <tr>\n",
       "      <th>48599</th>\n",
       "      <td>16581456988770474074</td>\n",
       "      <td>msk</td>\n",
       "      <td>500.0</td>\n",
       "      <td>4.692308</td>\n",
       "      <td>31495 30774</td>\n",
       "      <td>3491142672 20282 3501637468 11741 3501745827 3...</td>\n",
       "      <td>31495 30774</td>\n",
       "    </tr>\n",
       "    <tr>\n",
       "      <th>17863</th>\n",
       "      <td>11409605273003015299</td>\n",
       "      <td>msk</td>\n",
       "      <td>500.0</td>\n",
       "      <td>3.222222</td>\n",
       "      <td>30774</td>\n",
       "      <td>3501744275 11617 3502045032 3502045016 20424 1...</td>\n",
       "      <td>30774</td>\n",
       "    </tr>\n",
       "  </tbody>\n",
       "</table>\n",
       "<p>21531 rows × 7 columns</p>\n",
       "</div>"
      ],
      "text/plain": [
       "                     org_id city  average_bill    rating   rubrics_id  \\\n",
       "45769   3276960721840719260  msk         500.0  4.500000        30770   \n",
       "39061   8452997364765928283  msk        1500.0  4.442623  30774 30776   \n",
       "59281  14240408259222214074  spb        1000.0  4.018868  30776 30774   \n",
       "51225  15114069072602161053  msk        1500.0  4.364742  31401 30776   \n",
       "29587   2730337118800634815  msk        1000.0  4.698718        30770   \n",
       "...                     ...  ...           ...       ...          ...   \n",
       "64667  15641319025413596274  msk         500.0  4.510753        30771   \n",
       "47309   2049892259403324519  msk         500.0  4.333333        30771   \n",
       "26208  12224074314753892871  msk         500.0  5.000000        30775   \n",
       "48599  16581456988770474074  msk         500.0  4.692308  31495 30774   \n",
       "17863  11409605273003015299  msk         500.0  3.222222        30774   \n",
       "\n",
       "                                             features_id modified_rubrics  \n",
       "45769            11704 20422 1018 11177 1416 11867 10462            30770  \n",
       "39061  1415 3501481355 1416 11629 10462 1524 20422 11...      30774 30776  \n",
       "59281  3502045032 11741 3502045016 10462 11704 350177...      30776 30774  \n",
       "51225  3501513153 3501779478 3491142672 273469383 350...            other  \n",
       "29587  21247 10896 3491142672 11629 3501481353 350148...            30770  \n",
       "...                                                  ...              ...  \n",
       "64667  20424 3501744275 273469383 10462 11177 11617 1...            30771  \n",
       "47309       273469383 20424 11704 11629 10462 20422 1018            30771  \n",
       "26208  21247 11867 11629 1524 1509 20422 1416 1415 10...            30775  \n",
       "48599  3491142672 20282 3501637468 11741 3501745827 3...      31495 30774  \n",
       "17863  3501744275 11617 3502045032 3502045016 20424 1...            30774  \n",
       "\n",
       "[21531 rows x 7 columns]"
      ]
     },
     "execution_count": 336,
     "metadata": {},
     "output_type": "execute_result"
    }
   ],
   "source": [
    "rubrics_cnt = clean_data_train.groupby(\"rubrics_id\").size().reset_index(name=\"rubrics_count\")\n",
    "rubrics_cnt = rubrics_cnt[rubrics_cnt[\"rubrics_count\"] >= 100]\n",
    "\n",
    "mask = clean_data_test[\"rubrics_id\"].isin(rubrics_cnt[\"rubrics_id\"])\n",
    "clean_data_test[\"modified_rubrics\"] = clean_data_test[\"rubrics_id\"].where(mask, \"other\")\n",
    "\n",
    "mask = clean_data_train[\"rubrics_id\"].isin(rubrics_cnt[\"rubrics_id\"])\n",
    "clean_data_train[\"modified_rubrics\"] = clean_data_train[\"rubrics_id\"].where(mask, \"other\")\n",
    "\n",
    "clean_data_train"
   ]
  },
  {
   "cell_type": "code",
   "execution_count": 337,
   "metadata": {},
   "outputs": [
    {
     "data": {
      "text/html": [
       "<div>\n",
       "<style scoped>\n",
       "    .dataframe tbody tr th:only-of-type {\n",
       "        vertical-align: middle;\n",
       "    }\n",
       "\n",
       "    .dataframe tbody tr th {\n",
       "        vertical-align: top;\n",
       "    }\n",
       "\n",
       "    .dataframe thead th {\n",
       "        text-align: right;\n",
       "    }\n",
       "</style>\n",
       "<table border=\"1\" class=\"dataframe\">\n",
       "  <thead>\n",
       "    <tr style=\"text-align: right;\">\n",
       "      <th></th>\n",
       "      <th>org_id</th>\n",
       "      <th>city</th>\n",
       "      <th>average_bill_x</th>\n",
       "      <th>rating</th>\n",
       "      <th>rubrics_id</th>\n",
       "      <th>features_id</th>\n",
       "      <th>modified_rubrics</th>\n",
       "      <th>average_bill_y</th>\n",
       "    </tr>\n",
       "  </thead>\n",
       "  <tbody>\n",
       "    <tr>\n",
       "      <th>0</th>\n",
       "      <td>14385912302763770021</td>\n",
       "      <td>spb</td>\n",
       "      <td>1000.0</td>\n",
       "      <td>4.748444</td>\n",
       "      <td>30776 30770 31401</td>\n",
       "      <td>11177 3501618484 10462 3501481355 1509 1416 20...</td>\n",
       "      <td>other</td>\n",
       "      <td>500.0</td>\n",
       "    </tr>\n",
       "    <tr>\n",
       "      <th>1</th>\n",
       "      <td>16695436192794975203</td>\n",
       "      <td>msk</td>\n",
       "      <td>500.0</td>\n",
       "      <td>3.793758</td>\n",
       "      <td>30771</td>\n",
       "      <td>3501744275 273469383 3501513153 11617 10462 11...</td>\n",
       "      <td>30771</td>\n",
       "      <td>500.0</td>\n",
       "    </tr>\n",
       "    <tr>\n",
       "      <th>2</th>\n",
       "      <td>11841431940065207518</td>\n",
       "      <td>msk</td>\n",
       "      <td>500.0</td>\n",
       "      <td>3.606557</td>\n",
       "      <td>30771 30777</td>\n",
       "      <td>3501773763 3501744275 3501773764 3501618484 15...</td>\n",
       "      <td>other</td>\n",
       "      <td>500.0</td>\n",
       "    </tr>\n",
       "    <tr>\n",
       "      <th>3</th>\n",
       "      <td>16028521499441205186</td>\n",
       "      <td>msk</td>\n",
       "      <td>2000.0</td>\n",
       "      <td>4.683841</td>\n",
       "      <td>30776</td>\n",
       "      <td>3501618484 20422 1082283206 11704 11629 21247 ...</td>\n",
       "      <td>30776</td>\n",
       "      <td>1500.0</td>\n",
       "    </tr>\n",
       "    <tr>\n",
       "      <th>4</th>\n",
       "      <td>12477116204055673498</td>\n",
       "      <td>spb</td>\n",
       "      <td>500.0</td>\n",
       "      <td>4.165394</td>\n",
       "      <td>30776 31401 30770</td>\n",
       "      <td>1524 246 11704 1018 3501618484 2020795524 2124...</td>\n",
       "      <td>other</td>\n",
       "      <td>500.0</td>\n",
       "    </tr>\n",
       "    <tr>\n",
       "      <th>...</th>\n",
       "      <td>...</td>\n",
       "      <td>...</td>\n",
       "      <td>...</td>\n",
       "      <td>...</td>\n",
       "      <td>...</td>\n",
       "      <td>...</td>\n",
       "      <td>...</td>\n",
       "      <td>...</td>\n",
       "    </tr>\n",
       "    <tr>\n",
       "      <th>10600</th>\n",
       "      <td>9041226080397910513</td>\n",
       "      <td>msk</td>\n",
       "      <td>2500.0</td>\n",
       "      <td>4.408108</td>\n",
       "      <td>30776</td>\n",
       "      <td>11629 11704 10462 11617 3501744275 20424 35017...</td>\n",
       "      <td>30776</td>\n",
       "      <td>1500.0</td>\n",
       "    </tr>\n",
       "    <tr>\n",
       "      <th>10601</th>\n",
       "      <td>14998683880343589209</td>\n",
       "      <td>msk</td>\n",
       "      <td>1000.0</td>\n",
       "      <td>3.555556</td>\n",
       "      <td>30776</td>\n",
       "      <td>273469383 20424 20422 246 1416 11867 11629 104...</td>\n",
       "      <td>30776</td>\n",
       "      <td>1500.0</td>\n",
       "    </tr>\n",
       "    <tr>\n",
       "      <th>10602</th>\n",
       "      <td>1621254442333414922</td>\n",
       "      <td>msk</td>\n",
       "      <td>2000.0</td>\n",
       "      <td>4.402516</td>\n",
       "      <td>30776</td>\n",
       "      <td>273469383 21247 11867 1082283206 20422 246 101...</td>\n",
       "      <td>30776</td>\n",
       "      <td>1500.0</td>\n",
       "    </tr>\n",
       "    <tr>\n",
       "      <th>10603</th>\n",
       "      <td>5620614742257813954</td>\n",
       "      <td>msk</td>\n",
       "      <td>500.0</td>\n",
       "      <td>NaN</td>\n",
       "      <td>30771</td>\n",
       "      <td>11704 1018 273469383 10462 20422</td>\n",
       "      <td>30771</td>\n",
       "      <td>500.0</td>\n",
       "    </tr>\n",
       "    <tr>\n",
       "      <th>10604</th>\n",
       "      <td>11624301828012509826</td>\n",
       "      <td>spb</td>\n",
       "      <td>500.0</td>\n",
       "      <td>4.250000</td>\n",
       "      <td>30774</td>\n",
       "      <td>246 11867 1018 1415 1416 1524 10462 1509 11617...</td>\n",
       "      <td>30774</td>\n",
       "      <td>500.0</td>\n",
       "    </tr>\n",
       "  </tbody>\n",
       "</table>\n",
       "<p>10605 rows × 8 columns</p>\n",
       "</div>"
      ],
      "text/plain": [
       "                     org_id city  average_bill_x    rating         rubrics_id  \\\n",
       "0      14385912302763770021  spb          1000.0  4.748444  30776 30770 31401   \n",
       "1      16695436192794975203  msk           500.0  3.793758              30771   \n",
       "2      11841431940065207518  msk           500.0  3.606557        30771 30777   \n",
       "3      16028521499441205186  msk          2000.0  4.683841              30776   \n",
       "4      12477116204055673498  spb           500.0  4.165394  30776 31401 30770   \n",
       "...                     ...  ...             ...       ...                ...   \n",
       "10600   9041226080397910513  msk          2500.0  4.408108              30776   \n",
       "10601  14998683880343589209  msk          1000.0  3.555556              30776   \n",
       "10602   1621254442333414922  msk          2000.0  4.402516              30776   \n",
       "10603   5620614742257813954  msk           500.0       NaN              30771   \n",
       "10604  11624301828012509826  spb           500.0  4.250000              30774   \n",
       "\n",
       "                                             features_id modified_rubrics  \\\n",
       "0      11177 3501618484 10462 3501481355 1509 1416 20...            other   \n",
       "1      3501744275 273469383 3501513153 11617 10462 11...            30771   \n",
       "2      3501773763 3501744275 3501773764 3501618484 15...            other   \n",
       "3      3501618484 20422 1082283206 11704 11629 21247 ...            30776   \n",
       "4      1524 246 11704 1018 3501618484 2020795524 2124...            other   \n",
       "...                                                  ...              ...   \n",
       "10600  11629 11704 10462 11617 3501744275 20424 35017...            30776   \n",
       "10601  273469383 20424 20422 246 1416 11867 11629 104...            30776   \n",
       "10602  273469383 21247 11867 1082283206 20422 246 101...            30776   \n",
       "10603                   11704 1018 273469383 10462 20422            30771   \n",
       "10604  246 11867 1018 1415 1416 1524 10462 1509 11617...            30774   \n",
       "\n",
       "       average_bill_y  \n",
       "0               500.0  \n",
       "1               500.0  \n",
       "2               500.0  \n",
       "3              1500.0  \n",
       "4               500.0  \n",
       "...               ...  \n",
       "10600          1500.0  \n",
       "10601          1500.0  \n",
       "10602          1500.0  \n",
       "10603           500.0  \n",
       "10604           500.0  \n",
       "\n",
       "[10605 rows x 8 columns]"
      ]
     },
     "execution_count": 337,
     "metadata": {},
     "output_type": "execute_result"
    }
   ],
   "source": [
    "ex = clean_data_test.copy()\n",
    "# ex[\"city_numb\"] = clean_data_train[\"city\"].map({\"msk\": 1, \"spb\": 0})\n",
    "\n",
    "ex_1 = clean_data_train.copy()\n",
    "ex_2 = ex.groupby([\"modified_rubrics\", \"city\"])[\"average_bill\"].median()\n",
    "\n",
    "ex_3 = ex.merge(ex_2, how=\"left\", on=[\"modified_rubrics\", \"city\"])\n",
    "# ex_3[[\"modified_rubrics\", \"average_bill_y\"]]\n",
    "# ex_3[\"city_numb\"].map({1: \"msk\", 0: \"spb\"})\n",
    "ex_3"
   ]
  },
  {
   "cell_type": "markdown",
   "metadata": {
    "id": "nZXhpBjnGH7L"
   },
   "source": [
    "Теперь настало время написать могучий классификатор, который по заведению предсказывает медиану средних чеков среди тех в обучающей выборке, у которых с ним одинаковые `modified_rubrics` и город (вы спросите, почему медиану, а не самый частый -- спишем это на вдохновение; самый частый тоже можно брать - но медиана работает лучше).\n",
    "\n",
    "**8. Напишите классификатор и сдайте в Контест**."
   ]
  },
  {
   "cell_type": "code",
   "execution_count": 338,
   "metadata": {
    "id": "eTfcwh5dGH7M"
   },
   "outputs": [],
   "source": [
    "class RubricCityMedianClassifier():\n",
    "    \n",
    "    def fit(self, X=None, y=None):\n",
    "        X[\"average_bill\"] = y[\"average_bill\"]\n",
    "        X[\"city\"] = y[\"city\"]\n",
    "\n",
    "        X[\"city_numb\"] = X[\"city\"].map({\"msk\": 1, \"spb\": 0})\n",
    "\n",
    "        self.med_bill_ = X.groupby([\"modified_rubrics\", \"city\"])[\"average_bill\"].median()\n",
    "        self.med_city_ = X.groupby(\"modified_rubrics\")[\"city_numb\"].median()\n",
    "\n",
    "        return self\n",
    "\n",
    "    def predict(self, X=None):\n",
    "        X = X.merge(self.med_bill_, how=\"left\", on=\"modified_rubrics\")\n",
    "        X = X.merge(self.med_city_, how=\"left\", on=\"modified_rubrics\")\n",
    "\n",
    "        X[\"city_numb\"] = X[\"city_numb\"].map({1: \"msk\", 0: \"spb\"})\n",
    "        \n",
    "        return X[\"average_bill\"]\n"
   ]
  },
  {
   "cell_type": "code",
   "execution_count": 446,
   "metadata": {},
   "outputs": [],
   "source": [
    "# class RubricCityMedianClassifier():\n",
    "    \n",
    "#     def fit(self, X=None, y=None):\n",
    "#         X[\"average_bill\"] = y\n",
    "#         self.med_bill_ = X.groupby([\"modified_rubrics\", \"city\"])[\"average_bill\"].median()\n",
    "\n",
    "#         return self\n",
    "\n",
    "#     def predict(self, X=None):\n",
    "#         X = X.merge(self.med_bill_, how=\"left\", on=[\"modified_rubrics\", \"city\"])\n",
    "        \n",
    "#         return X[\"average_bill\"]\n",
    "\n",
    "import pandas as pd\n",
    "import numpy as np\n",
    "\n",
    "class RubricCityMedianClassifier():\n",
    "    \n",
    "    def fit(self, X=None, y=None):\n",
    "        df = pd.DataFrame(X).copy()\n",
    "        df[\"average_bill\"] = np.asarray(y, dtype=float)\n",
    "        self.med_bill_ = df.groupby([\"modified_rubrics\", \"city\"])[\"average_bill\"].median().reset_index()\n",
    "\n",
    "        return self\n",
    "\n",
    "    def predict(self, X=None):\n",
    "        X_df = X.copy()\n",
    "        out = X_df.merge(\n",
    "            self.med_bill_,\n",
    "            how=\"left\", \n",
    "            on=[\"modified_rubrics\", \"city\"]\n",
    "        ).set_index(X_df.index)\n",
    "\n",
    "        return out[\"average_bill\"]"
   ]
  },
  {
   "cell_type": "code",
   "execution_count": 447,
   "metadata": {},
   "outputs": [
    {
     "name": "stdout",
     "output_type": "stream",
     "text": [
      "MSE_clf: 394.0\n",
      "Accurancy: 0.30552511833185647\n"
     ]
    }
   ],
   "source": [
    "from sklearn.metrics import mean_squared_error, balanced_accuracy_score\n",
    "\n",
    "X_train = clean_data_train.drop(columns=[\"average_bill\"])\n",
    "y_train = clean_data_train[\"average_bill\"]\n",
    "# print(y_train)\n",
    "\n",
    "clf = RubricCityMedianClassifier()\n",
    "clf.fit(X=X_train, y=y_train)\n",
    "\n",
    "X_predict = clean_data_test.drop(columns=[\"average_bill\"])\n",
    "y_true = clean_data_test[\"average_bill\"]\n",
    "\n",
    "y_pred_clf = clf.predict(X=X_predict)\n",
    "\n",
    "MSE_clf = round(np.sqrt(mean_squared_error(y_true, y_pred_clf)), 1)\n",
    "bal_acc_clf = balanced_accuracy_score(y_true, y_pred_clf)\n",
    "\n",
    "print(f\"MSE_clf: {MSE_clf}\\nAccurancy: {bal_acc_clf}\")\n",
    "# print(y_true)"
   ]
  },
  {
   "cell_type": "markdown",
   "metadata": {
    "id": "xbgjbwgkGH7M"
   },
   "source": [
    "Сравните обученный классификатор по метрикам RMSE и balanced_accuracy_score с нашими бейзлайнами. Получилось ли улучшить?"
   ]
  },
  {
   "cell_type": "markdown",
   "metadata": {
    "id": "UMjsnCnQGH7M"
   },
   "source": [
    "Обратите внимание что рост accuracy по сравнению с бейзлайном при этом на порядок меньше:"
   ]
  },
  {
   "cell_type": "markdown",
   "metadata": {
    "id": "K2cF0I-CGH7M"
   },
   "source": [
    "accuracy_score\n",
    "\n",
    "Predict most frequent:  0.6947666195190948\n",
    "\n",
    "Predict by rubric and city:  0.7095709570957096"
   ]
  },
  {
   "cell_type": "markdown",
   "metadata": {
    "id": "ylrAIjCcGH7N"
   },
   "source": [
    "Для диагностики напечатайте для каждого класса тестовой выборки, сколько в нём объектов и скольким из них наш классификатор приписал правильный класс. Что вы видите?\n",
    "\n",
    "&nbsp;\n",
    "\n",
    "<details>\n",
    "  <summary>Когда будете готовы, кликните сюда, чтобы посмотреть ответ</summary>\n",
    "    \n",
    "  Вы, вероятно, видите то, что мы стали однозначно лучше по сравнению с бейзлайном детектировать средний чек 1000 и 1500 (хотя всё равно не очень хорошо + ценой ухудшения качества на среднем чеке 500), а вот чеки 2000 и 2500 нам ну никак не даются.\n",
    "    \n",
    "</details>"
   ]
  },
  {
   "cell_type": "code",
   "execution_count": 360,
   "metadata": {},
   "outputs": [
    {
     "name": "stdout",
     "output_type": "stream",
     "text": [
      "        n_samples  n_correct       acc\n",
      "y_true                                \n",
      "500.0        7368        390  0.052932\n",
      "1000.0       1809         26  0.014373\n",
      "1500.0        890          4  0.004494\n",
      "2000.0        391          0  0.000000\n",
      "2500.0        147          0  0.000000\n"
     ]
    }
   ],
   "source": [
    "import numpy as np\n",
    "import pandas as pd\n",
    "\n",
    "# y_true — истинные метки классов (Series/array)\n",
    "# y_pred — предсказанные метки классов (Series/array)\n",
    "\n",
    "y_true = pd.Series(y_true)\n",
    "y_pred = pd.Series(y_pred_clf)  # ваш классификатор\n",
    "\n",
    "# убедимся, что сравниваем однотипные значения (строки/числа)\n",
    "# y_true = y_true.astype(str); y_pred = y_pred.astype(str)\n",
    "\n",
    "df = pd.DataFrame({\"y_true\": y_true, \"y_pred\": y_pred})\n",
    "per_class = (\n",
    "    df.assign(correct=lambda d: (d[\"y_true\"] == d[\"y_pred\"]).astype(int))\n",
    "      .groupby(\"y_true\")\n",
    "      .agg(n_samples=(\"y_true\", \"size\"), n_correct=(\"correct\", \"sum\"))\n",
    "      .assign(acc=lambda d: d[\"n_correct\"] / d[\"n_samples\"])\n",
    "      .sort_values(\"n_samples\", ascending=False)\n",
    ")\n",
    "\n",
    "print(per_class)"
   ]
  },
  {
   "cell_type": "markdown",
   "metadata": {
    "id": "9ScOy7ZvGH7N"
   },
   "source": [
    "**Кстати**. А вы понимаете, почему приведённый выше пайплайн классификации был не очень удачным с точки зрения архитектуры? Почему его было бы правильнее воплотить по-другому?\n",
    "\n",
    "&nbsp;\n",
    "\n",
    "<details>\n",
    "  <summary>Когда будете готовы, кликните сюда, чтобы посмотреть ответ</summary>\n",
    "Собственно говоря, и не было никакого пайплайна. К счастью, у нас была одна обучающая выборка, мы на ней посчитали список рубрик для modified_rubrics и радовались жизни. Но если бы нам надо было переобучать всё на новых данных, пришлось бы помнить, что их надо везде пересчитать (ведь у нас могли появиться новые рубрики с хотя бы 100 представителями). А уж никакую кросс-валидацию (кто знает - тот поймёт) с нашим подходом к делу и вовсе бы не получилось сделать без боли.\n",
    "    \n",
    "Поэтому в следующей лабораторной вы научитесь делать честные пайплайны, в которых преобразование данных, генерация фичей и обучение классификатора будут объединены в один понятный процесс, происходящий на этапе fit.\n",
    "</details>"
   ]
  },
  {
   "cell_type": "markdown",
   "metadata": {
    "id": "4ujl3tbbGH7N"
   },
   "source": [
    "## Слишком простые и слишком сложные модели"
   ]
  },
  {
   "cell_type": "markdown",
   "metadata": {
    "id": "QF7McCHsGH7N"
   },
   "source": [
    "Бейзлайны у нас слишком просты и потому не очень полезны в жизни. Но если сложность модели растёт бесконтрольно, то тоже получается плохо.\n",
    "\n",
    "Давайте рассмотрим конкретный пример. Создадим классификатор, использующий одновременно `rubrics_id` и `features_id`.\n",
    "\n",
    "Сделайте следующее:\n",
    "\n",
    "- для каждого объекта обучающей выборки сконкатенируйте строку `rubrics_id` с разделителем (например, буквой 'q') и содержимым `features_id`. Полученный столбец озаглавьте `modified_features`. Это не самый клёвый способ заиспользовать все фичи, но сейчас пока сойдёт. Причём на сей раз не будем выкидывать мало представленные значения (вся информация важна, не так ли?).\n",
    "- при этом для тестовой выборке заменяйте на строку `other` все конкатенации, которые не встретились в обучающей выборке.\n",
    "\n",
    "То есть элементы в этом столбце будут иметь вид `other` или `30776 30774 q 3502045032 11741 3502045016 1046...`."
   ]
  },
  {
   "cell_type": "code",
   "execution_count": 375,
   "metadata": {},
   "outputs": [
    {
     "data": {
      "text/html": [
       "<div>\n",
       "<style scoped>\n",
       "    .dataframe tbody tr th:only-of-type {\n",
       "        vertical-align: middle;\n",
       "    }\n",
       "\n",
       "    .dataframe tbody tr th {\n",
       "        vertical-align: top;\n",
       "    }\n",
       "\n",
       "    .dataframe thead th {\n",
       "        text-align: right;\n",
       "    }\n",
       "</style>\n",
       "<table border=\"1\" class=\"dataframe\">\n",
       "  <thead>\n",
       "    <tr style=\"text-align: right;\">\n",
       "      <th></th>\n",
       "      <th>org_id</th>\n",
       "      <th>city</th>\n",
       "      <th>average_bill</th>\n",
       "      <th>rating</th>\n",
       "      <th>rubrics_id</th>\n",
       "      <th>features_id</th>\n",
       "      <th>modified_rubrics</th>\n",
       "      <th>modified_features</th>\n",
       "    </tr>\n",
       "  </thead>\n",
       "  <tbody>\n",
       "    <tr>\n",
       "      <th>65841</th>\n",
       "      <td>14385912302763770021</td>\n",
       "      <td>spb</td>\n",
       "      <td>1000.0</td>\n",
       "      <td>4.748444</td>\n",
       "      <td>30776 30770 31401</td>\n",
       "      <td>11177 3501618484 10462 3501481355 1509 1416 20...</td>\n",
       "      <td>other</td>\n",
       "      <td>other</td>\n",
       "    </tr>\n",
       "    <tr>\n",
       "      <th>48882</th>\n",
       "      <td>16695436192794975203</td>\n",
       "      <td>msk</td>\n",
       "      <td>500.0</td>\n",
       "      <td>3.793758</td>\n",
       "      <td>30771</td>\n",
       "      <td>3501744275 273469383 3501513153 11617 10462 11...</td>\n",
       "      <td>30771</td>\n",
       "      <td>other</td>\n",
       "    </tr>\n",
       "    <tr>\n",
       "      <th>33711</th>\n",
       "      <td>11841431940065207518</td>\n",
       "      <td>msk</td>\n",
       "      <td>500.0</td>\n",
       "      <td>3.606557</td>\n",
       "      <td>30771 30777</td>\n",
       "      <td>3501773763 3501744275 3501773764 3501618484 15...</td>\n",
       "      <td>other</td>\n",
       "      <td>other</td>\n",
       "    </tr>\n",
       "    <tr>\n",
       "      <th>33544</th>\n",
       "      <td>16028521499441205186</td>\n",
       "      <td>msk</td>\n",
       "      <td>2000.0</td>\n",
       "      <td>4.683841</td>\n",
       "      <td>30776</td>\n",
       "      <td>3501618484 20422 1082283206 11704 11629 21247 ...</td>\n",
       "      <td>30776</td>\n",
       "      <td>other</td>\n",
       "    </tr>\n",
       "    <tr>\n",
       "      <th>35293</th>\n",
       "      <td>12477116204055673498</td>\n",
       "      <td>spb</td>\n",
       "      <td>500.0</td>\n",
       "      <td>4.165394</td>\n",
       "      <td>30776 31401 30770</td>\n",
       "      <td>1524 246 11704 1018 3501618484 2020795524 2124...</td>\n",
       "      <td>other</td>\n",
       "      <td>other</td>\n",
       "    </tr>\n",
       "  </tbody>\n",
       "</table>\n",
       "</div>"
      ],
      "text/plain": [
       "                     org_id city  average_bill    rating         rubrics_id  \\\n",
       "65841  14385912302763770021  spb        1000.0  4.748444  30776 30770 31401   \n",
       "48882  16695436192794975203  msk         500.0  3.793758              30771   \n",
       "33711  11841431940065207518  msk         500.0  3.606557        30771 30777   \n",
       "33544  16028521499441205186  msk        2000.0  4.683841              30776   \n",
       "35293  12477116204055673498  spb         500.0  4.165394  30776 31401 30770   \n",
       "\n",
       "                                             features_id modified_rubrics  \\\n",
       "65841  11177 3501618484 10462 3501481355 1509 1416 20...            other   \n",
       "48882  3501744275 273469383 3501513153 11617 10462 11...            30771   \n",
       "33711  3501773763 3501744275 3501773764 3501618484 15...            other   \n",
       "33544  3501618484 20422 1082283206 11704 11629 21247 ...            30776   \n",
       "35293  1524 246 11704 1018 3501618484 2020795524 2124...            other   \n",
       "\n",
       "      modified_features  \n",
       "65841             other  \n",
       "48882             other  \n",
       "33711             other  \n",
       "33544             other  \n",
       "35293             other  "
      ]
     },
     "execution_count": 375,
     "metadata": {},
     "output_type": "execute_result"
    }
   ],
   "source": [
    "clean_data_train[\"modified_features\"] = clean_data_train[\"rubrics_id\"].astype(str) + \" q \" + clean_data_train[\"features_id\"].astype(str)\n",
    "\n",
    "mask = (clean_data_test[\"rubrics_id\"].astype(str) + \" q \" + clean_data_test[\"features_id\"].astype(str)).isin(clean_data_train[\"modified_features\"])\n",
    "clean_data_test[\"modified_features\"] = (\n",
    "    (clean_data_test[\"rubrics_id\"].astype(str) + \" q \" + clean_data_test[\"features_id\"].astype(str))\n",
    "    .where(mask, \"other\")\n",
    ")\n",
    "\n",
    "clean_data_test.head(5)"
   ]
  },
  {
   "cell_type": "markdown",
   "metadata": {},
   "source": [
    "Теперь обучите классификатор, который для заведения предсказывает медиану среднего чека по всем объектам тестовой выборки с таким же, как у него, значением `modified_features`, а если такого в обучающей выборке нет, то глобальную медиану среднего чека по всей обучающей выборке.\n",
    "\n",
    "**9. Загрузите в Контест предсказания этого классификатора на тестовой выборке**\n",
    "\n",
    "Мы ждём файла **.csv**, у которого в каждой строке будет только одно число - предсказание классификатора.\n",
    "\n",
    "Возможно, вам будет полезна библиотека ``tqdm``, позволяющая отслеживать в реальном времени, сколько времени уже крутится цикл и сколько итераций ещё осталось. Впрочем, если вы всё написали нормально, то должно работать не очень долго."
   ]
  },
  {
   "cell_type": "code",
   "execution_count": 431,
   "metadata": {},
   "outputs": [],
   "source": [
    "class TrainClassifier:\n",
    "\n",
    "    def fit(self, X=None, y=None):\n",
    "        df = pd.DataFrame(X).copy()\n",
    "        df[\"average_bill\"] = np.asarray(y, dtype=float)\n",
    "        \n",
    "        self.feature_med_ = df.groupby(\"modified_features\")[[\"average_bill\"]].median()\n",
    "        self.global_med_ = df[\"average_bill\"].median()\n",
    "\n",
    "        return self\n",
    "\n",
    "    def predict(self, X=None):\n",
    "        df_pred = X.merge(\n",
    "            self.feature_med_, \n",
    "            how=\"left\", \n",
    "            on=\"modified_features\"\n",
    "        ).set_index(X.index)\n",
    "        \n",
    "        df_pred.loc[df_pred[\"modified_features\"] == \"other\", \"average_bill\"] = self.global_med_\n",
    "        \n",
    "        return df_pred[\"average_bill\"]"
   ]
  },
  {
   "cell_type": "code",
   "execution_count": 455,
   "metadata": {},
   "outputs": [
    {
     "name": "stdout",
     "output_type": "stream",
     "text": [
      "RMSE train: 32.42\n",
      "Accurancy train: 0.99\n"
     ]
    },
    {
     "name": "stderr",
     "output_type": "stream",
     "text": [
      "/Library/Frameworks/Python.framework/Versions/3.12/lib/python3.12/site-packages/sklearn/metrics/_classification.py:2458: UserWarning: y_pred contains classes not in y_true\n",
      "  warnings.warn(\"y_pred contains classes not in y_true\")\n"
     ]
    }
   ],
   "source": [
    "from sklearn.metrics import mean_squared_error, balanced_accuracy_score\n",
    "\n",
    "X_train = clean_data_train.drop(columns=[\"average_bill\"])\n",
    "y_train = clean_data_train[\"average_bill\"]\n",
    "\n",
    "X_predict_test = clean_data_test.drop(columns=[\"average_bill\"])\n",
    "y_true_test = clean_data_test[\"average_bill\"]\n",
    "\n",
    "clf = TrainClassifier()\n",
    "clf.fit(X=X_train, y=y_train)\n",
    "\n",
    "y_pred_test = clf.predict(X=X_predict_test)\n",
    "\n",
    "RMSE_test = round(np.sqrt(mean_squared_error(y_true_test.to_numpy(dtype=float), y_pred_test)), 2)\n",
    "bal_acc_test = round(balanced_accuracy_score(y_true_test.to_numpy(dtype=float), y_pred_test), 2)\n",
    "\n",
    "print(f\"RMSE train: {RMSE_train}\\nAccurancy train: {bal_acc_train}\")"
   ]
  },
  {
   "cell_type": "code",
   "execution_count": 456,
   "metadata": {
    "id": "e8tNBPzVGH7O"
   },
   "outputs": [],
   "source": [
    "pd.Series(y_pred_test).to_csv(\"preds.csv\", header=False, index=True)\n",
    "\n",
    "df = pd.read_csv(\"preds.csv\")\n",
    "# df"
   ]
  },
  {
   "cell_type": "markdown",
   "metadata": {
    "id": "_XrswPW4GH7O"
   },
   "source": [
    "Модель, очевидно, очень сложная. Число параметров (различных категорий) в ней сопоставимо с числом объектов в обучающей выборке. А получилось ли хорошо?\n",
    "\n",
    "Давайте посчитаем RMSE и balanced_accuracy_score на обучающей и на тестовой выборках.\n",
    "\n",
    "**10. Введите их в Контест**"
   ]
  },
  {
   "cell_type": "code",
   "execution_count": 457,
   "metadata": {},
   "outputs": [
    {
     "name": "stdout",
     "output_type": "stream",
     "text": [
      "RMSE train: 32.42\n",
      "Accurancy train: 0.99\n",
      "RMSE test: 513.99\n",
      "Accurancy test: 0.2\n"
     ]
    },
    {
     "name": "stderr",
     "output_type": "stream",
     "text": [
      "/Library/Frameworks/Python.framework/Versions/3.12/lib/python3.12/site-packages/sklearn/metrics/_classification.py:2458: UserWarning: y_pred contains classes not in y_true\n",
      "  warnings.warn(\"y_pred contains classes not in y_true\")\n",
      "/Library/Frameworks/Python.framework/Versions/3.12/lib/python3.12/site-packages/sklearn/metrics/_classification.py:2458: UserWarning: y_pred contains classes not in y_true\n",
      "  warnings.warn(\"y_pred contains classes not in y_true\")\n"
     ]
    }
   ],
   "source": [
    "from sklearn.metrics import mean_squared_error, balanced_accuracy_score\n",
    "\n",
    "X_train = clean_data_train.drop(columns=[\"average_bill\"])\n",
    "y_train = clean_data_train[\"average_bill\"]\n",
    "\n",
    "X_predict_test = clean_data_test.drop(columns=[\"average_bill\"])\n",
    "y_true_test = clean_data_test[\"average_bill\"]\n",
    "\n",
    "X_predict_train = clean_data_train.drop(columns=[\"average_bill\"])\n",
    "y_true_train = clean_data_train[\"average_bill\"]\n",
    "\n",
    "clf = TrainClassifier()\n",
    "clf.fit(X=X_train, y=y_train)\n",
    "\n",
    "\n",
    "y_pred_test = clf.predict(X=X_predict_test)\n",
    "y_pred_train = clf.predict(X=X_predict_train)\n",
    "\n",
    "\n",
    "RMSE_train = round(np.sqrt(mean_squared_error(y_true_train.to_numpy(dtype=float), y_pred_train)), 2)\n",
    "bal_acc_train = round(balanced_accuracy_score(y_true_train.to_numpy(dtype=float), y_pred_train), 2)\n",
    "\n",
    "RMSE_test = round(np.sqrt(mean_squared_error(y_true_test.to_numpy(dtype=float), y_pred_test)), 2)\n",
    "bal_acc_test = round(balanced_accuracy_score(y_true_test.to_numpy(dtype=float), y_pred_test), 2)\n",
    "\n",
    "print(f\"RMSE train: {RMSE_train}\\nAccurancy train: {bal_acc_train}\\nRMSE test: {RMSE_test}\\nAccurancy test: {bal_acc_test}\")\n",
    "# print(y_pred_clf.unique())\n",
    "# print(y_true.unique())"
   ]
  },
  {
   "cell_type": "markdown",
   "metadata": {
    "id": "fGDTpxFgGH7O"
   },
   "source": [
    "Налицо переобучение: на трейне метрики отличные, на тесте - вообще никакие\n",
    "\n",
    "В общем, не гонитесь за чрезмерной сложностью модели.."
   ]
  },
  {
   "cell_type": "markdown",
   "metadata": {
    "id": "YTU2yubYGH7O"
   },
   "source": [
    "## ML без данных что компутер без электричества"
   ]
  },
  {
   "cell_type": "markdown",
   "metadata": {
    "id": "DBVOCVf2GH7P"
   },
   "source": [
    "Возможно, вы смотрите на полученные выше результаты и думаете: вот если бы мы не какие-то убогие медианы предсказывали, а гоняли бы нейросети, то тут-то бы всё и получилось!\n",
    "\n",
    "Но, увы, совсем даже не всегда от счастья нас отделяет выбор хорошей модели (и стратегии обучения). Если данные не очень, то даже самая крутая модель не сработает. В этой ситуации нужно либо добывать новые фичи каким-то образом, либо собирать новые данные (увеличивать датасет), либо просто бросать задачу.\n",
    "\n",
    "Давайте посмотрим, что выжмет из наших данных одна из самых мощных моделей для табличных данных - градиентный бустинг на решающих деревьях в исполнении [CatBoost](https://catboost.ai/)."
   ]
  },
  {
   "cell_type": "markdown",
   "metadata": {
    "id": "a0L4UmzSGH7P"
   },
   "source": [
    "Но прежде, чем сделать fit, нам надо облагородить данные. Несмотря на то, что CatBoost отлично работает с категориальными фичами, мешок признаков из `rubrics_id` или `features_id` может ему оказаться не по зубам. Поэтому мы соберём датасет в пристойную матрицу, создав для каждого типа рубрик и фичей отдельный столбец и записав там единицы для тех объектов, у которых эта рубрика или фича имеет место.\n",
    "\n",
    "В матрице почти все элементы будут нулями. Такие матрицы считаются **разреженными** и их можно хранить гораздо эффективней, чем просто таблицей. Этим и займёмся)"
   ]
  },
  {
   "cell_type": "markdown",
   "metadata": {
    "id": "IJKuMtNbGH7P"
   },
   "source": [
    "Есть несколько форматов хранения разреженных матриц (многие из них реализованы в [пакете sparse библиотеки scipy](https://docs.scipy.org/doc/scipy/reference/sparse.html)), и каждый пригоден для чего-то своего.\n",
    "\n",
    "Создавать разреженную матрицу лучше в [формате COO](https://docs.scipy.org/doc/scipy/reference/generated/scipy.sparse.coo_array.html#scipy.sparse.coo_array). Он предполагает, что разреженная матрица задаётся в виде трёх списков: `row`, `col`, `data`, причём каждая тройка `(row[i], col[i], data[i])` кодирует элемент со значением `data[i]`, стоящий на позиции `(row[i], col[i])`. Считается, что на позициях `(row, col)`, которые ни разу не встретились, стоят нули.\n",
    "\n",
    "Нетрудно видеть, что заполнять такую матрицу - одно удовольствие, и особенно этому помогает тот факт, что **пара `(row, col)` может встретиться несколько раз** (тогда в итоговой матрице на соответствующей позиции стоит сумма соответствующих `data[i]`). Но, с другой стороны, почти ничего другого с такой матрицей не сделаешь: произвольного доступа к элементам она не предоставляет, умножить её тоже особо ничего не умножишь. Поэтому для дальнейшего использования созданную таким образом матрицу преобразуют в один из более удобных форматов, например, [CSR (compressed sparse row)](https://scipy-lectures.org/advanced/scipy_sparse/csr_matrix.html). Он, к примеру, хорошо подходит для умножения на вектор (потому что матрица хранится по строкам). Не будем разбирать его подробно, но можете почитать по ссылке, если интересно."
   ]
  },
  {
   "cell_type": "markdown",
   "metadata": {
    "id": "2hd_Sob3GH7P"
   },
   "source": [
    "Вам нужно будет превратить обучающие и тестовые данные в разреженные матрицы `sparse_data_train` и `sparse_data_test` соответственно, таким образом, что:\n",
    "\n",
    "- столбец `city` превратится в столбец из единиц и нулей (например, 1 - Москва, 0 - Питер);\n",
    "- столбец `rating` перекочует в разреженные матрицы без изменений;\n",
    "- каждый типы рубрик и каждая фича превратятся в отдельный 0-1-признак;\n",
    "\n",
    "В тестовой выборке будут фичи, которых в обучающей выборке не было. С ними можно по-разному работать, но давайте создадим дополнительную фантомную фичу `feature_other`, в которой будет то, сколько неизвестных по обучающей выборке фичей есть у данного объекта."
   ]
  },
  {
   "cell_type": "code",
   "execution_count": 536,
   "metadata": {
    "id": "7-UAatGJGH7P"
   },
   "outputs": [],
   "source": [
    "# функция для разделения фичей и рубрики на списки с отдельными элементами\n",
    "def split_tokens(val):\n",
    "    s = str(val).strip()\n",
    "    return s.split()\n",
    "\n",
    "# создаем множетсва рубрик и фичей в train\n",
    "rubrics_vocab = set()\n",
    "features_vocab = set()\n",
    "\n",
    "for i in clean_data_train[\"rubrics_id\"]:\n",
    "    rubrics_vocab.update(split_tokens(i))\n",
    "\n",
    "for i in clean_data_train[\"features_id\"]:\n",
    "    features_vocab.update(split_tokens(i))\n",
    "\n",
    "# фиксируем порядок рубрик и фичей и их колонки в табице\n",
    "rubrics_list = sorted(rubrics_vocab)\n",
    "features_list = sorted(features_vocab)\n",
    "\n",
    "rubric2col = {r: i for i, r in enumerate(rubrics_list)}\n",
    "feature2col = {r: i for i, r in enumerate(features_list)}\n",
    "\n",
    "# Задаем структуру таблоицы: столбец и его номер\n",
    "COL_CITY   = 0                # city_msk\n",
    "COL_RATING = 1                # rating\n",
    "START_RUB  = 2                # начало блока рубрик\n",
    "START_FEAT = START_RUB + len(rubric2col)   # начало блока фич\n",
    "COL_OTHER  = START_FEAT + len(feature2col) # feature_other (колонка с неизвестной фичей)\n",
    "\n",
    "n_cols = COL_OTHER + 1 # итоговое количество колонок в таблице"
   ]
  },
  {
   "cell_type": "code",
   "execution_count": 537,
   "metadata": {},
   "outputs": [],
   "source": [
    "# начинаем создавать разреженную матрицу в формате COO\n",
    "rows, cols, data = [], [], []\n",
    "\n",
    "# Заполняем тройки для города:\n",
    "city_mask = (clean_data_train[\"city\"] == \"msk\").to_numpy()\n",
    "\n",
    "for i in range(len(clean_data_train)):\n",
    "    if city_mask[i]:\n",
    "        rows.append(i)\n",
    "        cols.append(COL_CITY)\n",
    "        data.append(1.0)\n",
    "\n",
    "# Заполняем тройки для рейтинги:\n",
    "for i in range(len(clean_data_train)):\n",
    "    val = clean_data_train.iloc[i][\"rating\"]\n",
    "    if not pd.isna(val) and val != 0:\n",
    "        rows.append(i)\n",
    "        cols.append(COL_RATING)\n",
    "        data.append(float(val))\n",
    "\n",
    "# Заполняем тройки для рубрик:\n",
    "for i in range(len(clean_data_train)):\n",
    "    val = clean_data_train.iloc[i][\"rubrics_id\"]\n",
    "    rubrics_set = set(split_tokens(val))\n",
    "    for rubric in rubrics_set:\n",
    "        j = rubric2col.get(rubric) # Возвращает None, если рубрики нет в словаре\n",
    "        if j is not None:\n",
    "            rows.append(i)\n",
    "            cols.append(START_RUB + j)\n",
    "            data.append(1.0)\n",
    "\n",
    "# Заполняем тройки для фичей и other_фичей:\n",
    "for i in range(len(clean_data_train)):\n",
    "    val = clean_data_train.iloc[i][\"features_id\"]\n",
    "    features_set = set(split_tokens(val))\n",
    "    unknown_cnt = 0\n",
    "    for feature in features_set:\n",
    "        j = feature2col.get(feature) # Возвращает None, если фичи нет в словаре\n",
    "        if j is not None:\n",
    "            rows.append(i)\n",
    "            cols.append(START_FEAT + j)\n",
    "            data.append(1.0)\n",
    "        else: \n",
    "            unknown_cnt += 1\n",
    "            \n",
    "    if unknown_cnt > 0:\n",
    "        rows.append(i)\n",
    "        cols.append(COL_OTHER)     # столбец feature_other\n",
    "        data.append(float(unknown_cnt))"
   ]
  },
  {
   "cell_type": "code",
   "execution_count": 538,
   "metadata": {},
   "outputs": [],
   "source": [
    "# Собираем марицу\n",
    "from scipy.sparse import coo_matrix\n",
    "\n",
    "n = len(clean_data_train)  # число строк в train\n",
    "\n",
    "X_coo = coo_matrix((data, (rows, cols)), shape=(n, n_cols))\n",
    "sparse_data_train = X_coo.tocsr()"
   ]
  },
  {
   "cell_type": "code",
   "execution_count": 539,
   "metadata": {},
   "outputs": [
    {
     "name": "stdout",
     "output_type": "stream",
     "text": [
      "(21531, 605)\n",
      "(21531,)\n",
      "nnz: 387766\n",
      "msk_count vs city_col_nnz: 13940 13940\n",
      "feature_other nnz (train): 0\n",
      "sample ratings: [0.         4.5        4.         5.         4.32777778]\n",
      "n_cols vs expected: 605 605\n"
     ]
    }
   ],
   "source": [
    "# Самопроврека\n",
    "print(sparse_data_train.shape)  # (n, n_cols)\n",
    "print(y_train.shape)            # (n,)\n",
    "\n",
    "print(\"nnz:\", sparse_data_train.nnz)         # должно быть > 0 (Ненулевые элементы не ноль)\n",
    "\n",
    "msk_count = (clean_data_train[\"city\"].astype(str).str.lower() == \"msk\").sum()\n",
    "city_col_nnz = sparse_data_train[:, COL_CITY].count_nonzero()\n",
    "print(\"msk_count vs city_col_nnz:\", msk_count, city_col_nnz)  # должны совпадать\n",
    "\n",
    "other_nnz = sparse_data_train[:, COL_OTHER].count_nonzero()\n",
    "print(\"feature_other nnz (train):\", other_nnz)  # часто 0; >0 тоже ок, если были токены вне словаря\n",
    "\n",
    "# возьмём 5 случайных индексов и убедимся, что в столбце rating стоят числа\n",
    "idx = np.random.choice(sparse_data_train.shape[0], size=5, replace=False)\n",
    "print(\"sample ratings:\", sparse_data_train[idx, COL_RATING].toarray().ravel())\n",
    "\n",
    "expected_cols = 2 + len(rubric2col) + len(feature2col) + 1\n",
    "print(\"n_cols vs expected:\", n_cols, expected_cols)  # должны совпасть"
   ]
  },
  {
   "cell_type": "markdown",
   "metadata": {
    "id": "lFfj-1E4GH7Q"
   },
   "source": [
    "Данные готовы, и теперь можно запустить катбуст"
   ]
  },
  {
   "cell_type": "code",
   "execution_count": 540,
   "metadata": {
    "id": "m2lP5NouGH7Q"
   },
   "outputs": [],
   "source": [
    "from catboost import CatBoostClassifier"
   ]
  },
  {
   "cell_type": "code",
   "execution_count": 541,
   "metadata": {
    "id": "jpW6uR0oGH7Q",
    "scrolled": true
   },
   "outputs": [
    {
     "name": "stdout",
     "output_type": "stream",
     "text": [
      "Learning rate set to 0.092536\n",
      "0:\tlearn: 1.4347399\ttotal: 46ms\tremaining: 45.9s\n",
      "1:\tlearn: 1.3126810\ttotal: 88.6ms\tremaining: 44.2s\n",
      "2:\tlearn: 1.2190871\ttotal: 121ms\tremaining: 40.4s\n",
      "3:\tlearn: 1.1475920\ttotal: 154ms\tremaining: 38.4s\n",
      "4:\tlearn: 1.0884254\ttotal: 190ms\tremaining: 37.7s\n",
      "5:\tlearn: 1.0403451\ttotal: 230ms\tremaining: 38s\n",
      "6:\tlearn: 0.9990517\ttotal: 270ms\tremaining: 38.2s\n",
      "7:\tlearn: 0.9649138\ttotal: 311ms\tremaining: 38.5s\n",
      "8:\tlearn: 0.9351955\ttotal: 354ms\tremaining: 38.9s\n",
      "9:\tlearn: 0.9095874\ttotal: 396ms\tremaining: 39.2s\n",
      "10:\tlearn: 0.8879397\ttotal: 446ms\tremaining: 40.1s\n",
      "11:\tlearn: 0.8696363\ttotal: 489ms\tremaining: 40.2s\n",
      "12:\tlearn: 0.8523647\ttotal: 525ms\tremaining: 39.8s\n",
      "13:\tlearn: 0.8359608\ttotal: 561ms\tremaining: 39.5s\n",
      "14:\tlearn: 0.8191630\ttotal: 600ms\tremaining: 39.4s\n",
      "15:\tlearn: 0.8041026\ttotal: 637ms\tremaining: 39.2s\n",
      "16:\tlearn: 0.7931226\ttotal: 674ms\tremaining: 39s\n",
      "17:\tlearn: 0.7822363\ttotal: 704ms\tremaining: 38.4s\n",
      "18:\tlearn: 0.7737322\ttotal: 735ms\tremaining: 37.9s\n",
      "19:\tlearn: 0.7662875\ttotal: 767ms\tremaining: 37.6s\n",
      "20:\tlearn: 0.7585235\ttotal: 802ms\tremaining: 37.4s\n",
      "21:\tlearn: 0.7521951\ttotal: 836ms\tremaining: 37.2s\n",
      "22:\tlearn: 0.7447958\ttotal: 877ms\tremaining: 37.2s\n",
      "23:\tlearn: 0.7387598\ttotal: 912ms\tremaining: 37.1s\n",
      "24:\tlearn: 0.7334420\ttotal: 951ms\tremaining: 37.1s\n",
      "25:\tlearn: 0.7291416\ttotal: 989ms\tremaining: 37s\n",
      "26:\tlearn: 0.7225665\ttotal: 1.03s\tremaining: 37.1s\n",
      "27:\tlearn: 0.7192537\ttotal: 1.07s\tremaining: 37s\n",
      "28:\tlearn: 0.7155611\ttotal: 1.1s\tremaining: 36.9s\n",
      "29:\tlearn: 0.7110338\ttotal: 1.15s\tremaining: 37s\n",
      "30:\tlearn: 0.7082247\ttotal: 1.18s\tremaining: 36.9s\n",
      "31:\tlearn: 0.7053777\ttotal: 1.22s\tremaining: 36.8s\n",
      "32:\tlearn: 0.7030741\ttotal: 1.26s\tremaining: 37s\n",
      "33:\tlearn: 0.7008767\ttotal: 1.3s\tremaining: 37.1s\n",
      "34:\tlearn: 0.6971088\ttotal: 1.35s\tremaining: 37.2s\n",
      "35:\tlearn: 0.6933067\ttotal: 1.39s\tremaining: 37.3s\n",
      "36:\tlearn: 0.6913037\ttotal: 1.43s\tremaining: 37.1s\n",
      "37:\tlearn: 0.6897644\ttotal: 1.46s\tremaining: 37s\n",
      "38:\tlearn: 0.6880929\ttotal: 1.5s\tremaining: 36.8s\n",
      "39:\tlearn: 0.6848190\ttotal: 1.53s\tremaining: 36.7s\n",
      "40:\tlearn: 0.6832581\ttotal: 1.56s\tremaining: 36.6s\n",
      "41:\tlearn: 0.6817362\ttotal: 1.59s\tremaining: 36.3s\n",
      "42:\tlearn: 0.6810261\ttotal: 1.62s\tremaining: 36s\n",
      "43:\tlearn: 0.6803901\ttotal: 1.65s\tremaining: 35.8s\n",
      "44:\tlearn: 0.6790643\ttotal: 1.68s\tremaining: 35.6s\n",
      "45:\tlearn: 0.6779245\ttotal: 1.71s\tremaining: 35.5s\n",
      "46:\tlearn: 0.6764147\ttotal: 1.74s\tremaining: 35.3s\n",
      "47:\tlearn: 0.6746521\ttotal: 1.78s\tremaining: 35.3s\n",
      "48:\tlearn: 0.6731027\ttotal: 1.81s\tremaining: 35.2s\n",
      "49:\tlearn: 0.6725078\ttotal: 1.85s\tremaining: 35.1s\n",
      "50:\tlearn: 0.6713094\ttotal: 1.88s\tremaining: 35s\n",
      "51:\tlearn: 0.6691894\ttotal: 1.92s\tremaining: 34.9s\n",
      "52:\tlearn: 0.6670475\ttotal: 1.95s\tremaining: 34.9s\n",
      "53:\tlearn: 0.6663873\ttotal: 1.98s\tremaining: 34.7s\n",
      "54:\tlearn: 0.6651321\ttotal: 2.01s\tremaining: 34.6s\n",
      "55:\tlearn: 0.6639301\ttotal: 2.04s\tremaining: 34.4s\n",
      "56:\tlearn: 0.6636926\ttotal: 2.06s\tremaining: 34.1s\n",
      "57:\tlearn: 0.6627093\ttotal: 2.1s\tremaining: 34.1s\n",
      "58:\tlearn: 0.6624673\ttotal: 2.13s\tremaining: 34s\n",
      "59:\tlearn: 0.6615124\ttotal: 2.17s\tremaining: 33.9s\n",
      "60:\tlearn: 0.6613577\ttotal: 2.2s\tremaining: 33.8s\n",
      "61:\tlearn: 0.6608408\ttotal: 2.23s\tremaining: 33.7s\n",
      "62:\tlearn: 0.6604419\ttotal: 2.26s\tremaining: 33.6s\n",
      "63:\tlearn: 0.6601339\ttotal: 2.29s\tremaining: 33.4s\n",
      "64:\tlearn: 0.6593274\ttotal: 2.31s\tremaining: 33.3s\n",
      "65:\tlearn: 0.6580929\ttotal: 2.35s\tremaining: 33.2s\n",
      "66:\tlearn: 0.6573897\ttotal: 2.38s\tremaining: 33.2s\n",
      "67:\tlearn: 0.6562754\ttotal: 2.42s\tremaining: 33.2s\n",
      "68:\tlearn: 0.6557867\ttotal: 2.46s\tremaining: 33.2s\n",
      "69:\tlearn: 0.6556355\ttotal: 2.49s\tremaining: 33.1s\n",
      "70:\tlearn: 0.6548982\ttotal: 2.53s\tremaining: 33.2s\n",
      "71:\tlearn: 0.6541858\ttotal: 2.58s\tremaining: 33.3s\n",
      "72:\tlearn: 0.6533919\ttotal: 2.62s\tremaining: 33.3s\n",
      "73:\tlearn: 0.6521346\ttotal: 2.66s\tremaining: 33.3s\n",
      "74:\tlearn: 0.6514586\ttotal: 2.7s\tremaining: 33.3s\n",
      "75:\tlearn: 0.6504471\ttotal: 2.73s\tremaining: 33.2s\n",
      "76:\tlearn: 0.6500210\ttotal: 2.77s\tremaining: 33.1s\n",
      "77:\tlearn: 0.6494122\ttotal: 2.8s\tremaining: 33.1s\n",
      "78:\tlearn: 0.6491825\ttotal: 2.84s\tremaining: 33.1s\n",
      "79:\tlearn: 0.6490592\ttotal: 2.87s\tremaining: 33.1s\n",
      "80:\tlearn: 0.6486595\ttotal: 2.9s\tremaining: 33s\n",
      "81:\tlearn: 0.6484826\ttotal: 2.94s\tremaining: 32.9s\n",
      "82:\tlearn: 0.6479222\ttotal: 2.97s\tremaining: 32.8s\n",
      "83:\tlearn: 0.6463099\ttotal: 3.01s\tremaining: 32.8s\n",
      "84:\tlearn: 0.6457492\ttotal: 3.04s\tremaining: 32.7s\n",
      "85:\tlearn: 0.6446416\ttotal: 3.07s\tremaining: 32.7s\n",
      "86:\tlearn: 0.6445200\ttotal: 3.1s\tremaining: 32.5s\n",
      "87:\tlearn: 0.6433477\ttotal: 3.13s\tremaining: 32.5s\n",
      "88:\tlearn: 0.6427988\ttotal: 3.16s\tremaining: 32.4s\n",
      "89:\tlearn: 0.6426139\ttotal: 3.19s\tremaining: 32.2s\n",
      "90:\tlearn: 0.6421864\ttotal: 3.22s\tremaining: 32.1s\n",
      "91:\tlearn: 0.6418005\ttotal: 3.25s\tremaining: 32.1s\n",
      "92:\tlearn: 0.6406412\ttotal: 3.29s\tremaining: 32s\n",
      "93:\tlearn: 0.6398788\ttotal: 3.32s\tremaining: 32s\n",
      "94:\tlearn: 0.6397250\ttotal: 3.35s\tremaining: 31.9s\n",
      "95:\tlearn: 0.6393415\ttotal: 3.38s\tremaining: 31.9s\n",
      "96:\tlearn: 0.6391343\ttotal: 3.42s\tremaining: 31.8s\n",
      "97:\tlearn: 0.6389584\ttotal: 3.46s\tremaining: 31.8s\n",
      "98:\tlearn: 0.6385981\ttotal: 3.49s\tremaining: 31.8s\n",
      "99:\tlearn: 0.6369929\ttotal: 3.54s\tremaining: 31.8s\n",
      "100:\tlearn: 0.6369324\ttotal: 3.57s\tremaining: 31.8s\n",
      "101:\tlearn: 0.6364031\ttotal: 3.61s\tremaining: 31.8s\n",
      "102:\tlearn: 0.6363313\ttotal: 3.64s\tremaining: 31.7s\n",
      "103:\tlearn: 0.6362118\ttotal: 3.67s\tremaining: 31.7s\n",
      "104:\tlearn: 0.6351561\ttotal: 3.71s\tremaining: 31.7s\n",
      "105:\tlearn: 0.6346800\ttotal: 3.75s\tremaining: 31.6s\n",
      "106:\tlearn: 0.6342122\ttotal: 3.78s\tremaining: 31.6s\n",
      "107:\tlearn: 0.6331926\ttotal: 3.82s\tremaining: 31.6s\n",
      "108:\tlearn: 0.6327490\ttotal: 3.85s\tremaining: 31.5s\n",
      "109:\tlearn: 0.6326416\ttotal: 3.88s\tremaining: 31.4s\n",
      "110:\tlearn: 0.6325743\ttotal: 3.92s\tremaining: 31.4s\n",
      "111:\tlearn: 0.6321901\ttotal: 3.95s\tremaining: 31.3s\n",
      "112:\tlearn: 0.6317022\ttotal: 3.98s\tremaining: 31.3s\n",
      "113:\tlearn: 0.6311575\ttotal: 4.02s\tremaining: 31.2s\n",
      "114:\tlearn: 0.6308043\ttotal: 4.05s\tremaining: 31.2s\n",
      "115:\tlearn: 0.6302840\ttotal: 4.09s\tremaining: 31.2s\n",
      "116:\tlearn: 0.6299959\ttotal: 4.13s\tremaining: 31.2s\n",
      "117:\tlearn: 0.6298831\ttotal: 4.16s\tremaining: 31.1s\n",
      "118:\tlearn: 0.6292882\ttotal: 4.2s\tremaining: 31.1s\n",
      "119:\tlearn: 0.6287095\ttotal: 4.25s\tremaining: 31.1s\n",
      "120:\tlearn: 0.6282279\ttotal: 4.29s\tremaining: 31.2s\n",
      "121:\tlearn: 0.6272205\ttotal: 4.33s\tremaining: 31.2s\n",
      "122:\tlearn: 0.6269764\ttotal: 4.37s\tremaining: 31.1s\n",
      "123:\tlearn: 0.6266579\ttotal: 4.4s\tremaining: 31.1s\n",
      "124:\tlearn: 0.6257303\ttotal: 4.43s\tremaining: 31s\n",
      "125:\tlearn: 0.6254150\ttotal: 4.47s\tremaining: 31s\n",
      "126:\tlearn: 0.6253165\ttotal: 4.5s\tremaining: 30.9s\n",
      "127:\tlearn: 0.6245578\ttotal: 4.54s\tremaining: 30.9s\n",
      "128:\tlearn: 0.6243917\ttotal: 4.57s\tremaining: 30.8s\n",
      "129:\tlearn: 0.6241210\ttotal: 4.6s\tremaining: 30.8s\n",
      "130:\tlearn: 0.6235576\ttotal: 4.63s\tremaining: 30.8s\n",
      "131:\tlearn: 0.6229257\ttotal: 4.67s\tremaining: 30.7s\n",
      "132:\tlearn: 0.6227658\ttotal: 4.7s\tremaining: 30.6s\n",
      "133:\tlearn: 0.6224118\ttotal: 4.73s\tremaining: 30.6s\n",
      "134:\tlearn: 0.6222077\ttotal: 4.76s\tremaining: 30.5s\n",
      "135:\tlearn: 0.6218172\ttotal: 4.8s\tremaining: 30.5s\n",
      "136:\tlearn: 0.6216269\ttotal: 4.83s\tremaining: 30.5s\n",
      "137:\tlearn: 0.6214685\ttotal: 4.86s\tremaining: 30.4s\n",
      "138:\tlearn: 0.6212996\ttotal: 4.89s\tremaining: 30.3s\n",
      "139:\tlearn: 0.6210069\ttotal: 4.93s\tremaining: 30.3s\n",
      "140:\tlearn: 0.6207025\ttotal: 4.96s\tremaining: 30.2s\n",
      "141:\tlearn: 0.6204176\ttotal: 5s\tremaining: 30.2s\n",
      "142:\tlearn: 0.6201818\ttotal: 5.03s\tremaining: 30.1s\n",
      "143:\tlearn: 0.6199662\ttotal: 5.06s\tremaining: 30.1s\n",
      "144:\tlearn: 0.6196603\ttotal: 5.09s\tremaining: 30s\n",
      "145:\tlearn: 0.6195832\ttotal: 5.12s\tremaining: 29.9s\n",
      "146:\tlearn: 0.6190715\ttotal: 5.15s\tremaining: 29.9s\n",
      "147:\tlearn: 0.6190051\ttotal: 5.18s\tremaining: 29.8s\n",
      "148:\tlearn: 0.6182995\ttotal: 5.21s\tremaining: 29.8s\n",
      "149:\tlearn: 0.6176671\ttotal: 5.24s\tremaining: 29.7s\n",
      "150:\tlearn: 0.6169710\ttotal: 5.28s\tremaining: 29.7s\n",
      "151:\tlearn: 0.6167570\ttotal: 5.31s\tremaining: 29.6s\n",
      "152:\tlearn: 0.6164964\ttotal: 5.33s\tremaining: 29.5s\n",
      "153:\tlearn: 0.6163611\ttotal: 5.36s\tremaining: 29.4s\n",
      "154:\tlearn: 0.6160371\ttotal: 5.39s\tremaining: 29.4s\n",
      "155:\tlearn: 0.6155801\ttotal: 5.42s\tremaining: 29.3s\n",
      "156:\tlearn: 0.6153571\ttotal: 5.46s\tremaining: 29.3s\n",
      "157:\tlearn: 0.6150363\ttotal: 5.48s\tremaining: 29.2s\n",
      "158:\tlearn: 0.6144339\ttotal: 5.51s\tremaining: 29.2s\n",
      "159:\tlearn: 0.6142920\ttotal: 5.54s\tremaining: 29.1s\n",
      "160:\tlearn: 0.6141553\ttotal: 5.58s\tremaining: 29.1s\n",
      "161:\tlearn: 0.6137553\ttotal: 5.62s\tremaining: 29s\n",
      "162:\tlearn: 0.6135003\ttotal: 5.65s\tremaining: 29s\n",
      "163:\tlearn: 0.6125713\ttotal: 5.69s\tremaining: 29s\n",
      "164:\tlearn: 0.6124040\ttotal: 5.72s\tremaining: 29s\n",
      "165:\tlearn: 0.6121604\ttotal: 5.76s\tremaining: 28.9s\n",
      "166:\tlearn: 0.6119641\ttotal: 5.79s\tremaining: 28.9s\n",
      "167:\tlearn: 0.6118459\ttotal: 5.82s\tremaining: 28.8s\n",
      "168:\tlearn: 0.6116668\ttotal: 5.86s\tremaining: 28.8s\n",
      "169:\tlearn: 0.6114904\ttotal: 5.89s\tremaining: 28.8s\n",
      "170:\tlearn: 0.6113638\ttotal: 5.92s\tremaining: 28.7s\n",
      "171:\tlearn: 0.6112643\ttotal: 5.96s\tremaining: 28.7s\n",
      "172:\tlearn: 0.6110872\ttotal: 5.99s\tremaining: 28.6s\n",
      "173:\tlearn: 0.6109458\ttotal: 6.02s\tremaining: 28.6s\n",
      "174:\tlearn: 0.6107873\ttotal: 6.04s\tremaining: 28.5s\n",
      "175:\tlearn: 0.6106484\ttotal: 6.08s\tremaining: 28.5s\n",
      "176:\tlearn: 0.6105117\ttotal: 6.11s\tremaining: 28.4s\n",
      "177:\tlearn: 0.6104649\ttotal: 6.14s\tremaining: 28.3s\n",
      "178:\tlearn: 0.6103785\ttotal: 6.17s\tremaining: 28.3s\n",
      "179:\tlearn: 0.6102185\ttotal: 6.2s\tremaining: 28.2s\n",
      "180:\tlearn: 0.6100407\ttotal: 6.22s\tremaining: 28.2s\n",
      "181:\tlearn: 0.6093728\ttotal: 6.25s\tremaining: 28.1s\n",
      "182:\tlearn: 0.6091357\ttotal: 6.29s\tremaining: 28.1s\n",
      "183:\tlearn: 0.6088098\ttotal: 6.32s\tremaining: 28s\n",
      "184:\tlearn: 0.6086426\ttotal: 6.35s\tremaining: 28s\n",
      "185:\tlearn: 0.6085978\ttotal: 6.37s\tremaining: 27.9s\n",
      "186:\tlearn: 0.6084981\ttotal: 6.4s\tremaining: 27.8s\n",
      "187:\tlearn: 0.6083424\ttotal: 6.43s\tremaining: 27.8s\n",
      "188:\tlearn: 0.6082549\ttotal: 6.46s\tremaining: 27.7s\n",
      "189:\tlearn: 0.6079827\ttotal: 6.49s\tremaining: 27.7s\n",
      "190:\tlearn: 0.6076213\ttotal: 6.52s\tremaining: 27.6s\n",
      "191:\tlearn: 0.6074331\ttotal: 6.55s\tremaining: 27.6s\n",
      "192:\tlearn: 0.6072479\ttotal: 6.58s\tremaining: 27.5s\n",
      "193:\tlearn: 0.6067087\ttotal: 6.61s\tremaining: 27.5s\n",
      "194:\tlearn: 0.6064280\ttotal: 6.64s\tremaining: 27.4s\n",
      "195:\tlearn: 0.6057513\ttotal: 6.68s\tremaining: 27.4s\n",
      "196:\tlearn: 0.6055996\ttotal: 6.71s\tremaining: 27.3s\n",
      "197:\tlearn: 0.6055349\ttotal: 6.74s\tremaining: 27.3s\n",
      "198:\tlearn: 0.6054779\ttotal: 6.76s\tremaining: 27.2s\n",
      "199:\tlearn: 0.6051942\ttotal: 6.79s\tremaining: 27.2s\n",
      "200:\tlearn: 0.6050169\ttotal: 6.82s\tremaining: 27.1s\n",
      "201:\tlearn: 0.6046977\ttotal: 6.85s\tremaining: 27.1s\n",
      "202:\tlearn: 0.6041484\ttotal: 6.88s\tremaining: 27s\n",
      "203:\tlearn: 0.6036226\ttotal: 6.92s\tremaining: 27s\n",
      "204:\tlearn: 0.6033529\ttotal: 6.95s\tremaining: 26.9s\n",
      "205:\tlearn: 0.6030716\ttotal: 6.98s\tremaining: 26.9s\n",
      "206:\tlearn: 0.6029449\ttotal: 7.01s\tremaining: 26.8s\n",
      "207:\tlearn: 0.6028157\ttotal: 7.04s\tremaining: 26.8s\n",
      "208:\tlearn: 0.6026738\ttotal: 7.07s\tremaining: 26.7s\n",
      "209:\tlearn: 0.6025893\ttotal: 7.09s\tremaining: 26.7s\n",
      "210:\tlearn: 0.6023123\ttotal: 7.12s\tremaining: 26.6s\n",
      "211:\tlearn: 0.6022531\ttotal: 7.15s\tremaining: 26.6s\n",
      "212:\tlearn: 0.6020462\ttotal: 7.18s\tremaining: 26.5s\n",
      "213:\tlearn: 0.6018730\ttotal: 7.21s\tremaining: 26.5s\n",
      "214:\tlearn: 0.6016971\ttotal: 7.24s\tremaining: 26.4s\n",
      "215:\tlearn: 0.6013431\ttotal: 7.27s\tremaining: 26.4s\n",
      "216:\tlearn: 0.6012365\ttotal: 7.3s\tremaining: 26.3s\n",
      "217:\tlearn: 0.6011928\ttotal: 7.33s\tremaining: 26.3s\n",
      "218:\tlearn: 0.6010135\ttotal: 7.36s\tremaining: 26.3s\n",
      "219:\tlearn: 0.6004540\ttotal: 7.39s\tremaining: 26.2s\n",
      "220:\tlearn: 0.6001731\ttotal: 7.43s\tremaining: 26.2s\n",
      "221:\tlearn: 0.6001163\ttotal: 7.45s\tremaining: 26.1s\n",
      "222:\tlearn: 0.5999653\ttotal: 7.48s\tremaining: 26.1s\n",
      "223:\tlearn: 0.5997146\ttotal: 7.51s\tremaining: 26s\n",
      "224:\tlearn: 0.5995049\ttotal: 7.54s\tremaining: 26s\n",
      "225:\tlearn: 0.5993282\ttotal: 7.57s\tremaining: 25.9s\n",
      "226:\tlearn: 0.5992280\ttotal: 7.6s\tremaining: 25.9s\n",
      "227:\tlearn: 0.5991021\ttotal: 7.63s\tremaining: 25.8s\n",
      "228:\tlearn: 0.5990566\ttotal: 7.65s\tremaining: 25.8s\n",
      "229:\tlearn: 0.5988733\ttotal: 7.68s\tremaining: 25.7s\n",
      "230:\tlearn: 0.5988058\ttotal: 7.71s\tremaining: 25.7s\n",
      "231:\tlearn: 0.5983691\ttotal: 7.75s\tremaining: 25.6s\n",
      "232:\tlearn: 0.5982498\ttotal: 7.77s\tremaining: 25.6s\n",
      "233:\tlearn: 0.5980521\ttotal: 7.8s\tremaining: 25.6s\n",
      "234:\tlearn: 0.5979619\ttotal: 7.83s\tremaining: 25.5s\n",
      "235:\tlearn: 0.5978127\ttotal: 7.86s\tremaining: 25.4s\n",
      "236:\tlearn: 0.5977132\ttotal: 7.89s\tremaining: 25.4s\n",
      "237:\tlearn: 0.5975813\ttotal: 7.92s\tremaining: 25.3s\n",
      "238:\tlearn: 0.5973518\ttotal: 7.94s\tremaining: 25.3s\n",
      "239:\tlearn: 0.5967887\ttotal: 7.97s\tremaining: 25.3s\n",
      "240:\tlearn: 0.5966690\ttotal: 8s\tremaining: 25.2s\n",
      "241:\tlearn: 0.5966497\ttotal: 8.03s\tremaining: 25.2s\n",
      "242:\tlearn: 0.5965975\ttotal: 8.06s\tremaining: 25.1s\n",
      "243:\tlearn: 0.5964398\ttotal: 8.09s\tremaining: 25.1s\n",
      "244:\tlearn: 0.5961540\ttotal: 8.12s\tremaining: 25s\n",
      "245:\tlearn: 0.5960474\ttotal: 8.15s\tremaining: 25s\n",
      "246:\tlearn: 0.5958264\ttotal: 8.19s\tremaining: 25s\n",
      "247:\tlearn: 0.5957700\ttotal: 8.22s\tremaining: 24.9s\n",
      "248:\tlearn: 0.5955863\ttotal: 8.25s\tremaining: 24.9s\n",
      "249:\tlearn: 0.5955641\ttotal: 8.28s\tremaining: 24.8s\n",
      "250:\tlearn: 0.5954033\ttotal: 8.3s\tremaining: 24.8s\n",
      "251:\tlearn: 0.5953369\ttotal: 8.33s\tremaining: 24.7s\n",
      "252:\tlearn: 0.5950715\ttotal: 8.36s\tremaining: 24.7s\n",
      "253:\tlearn: 0.5949976\ttotal: 8.39s\tremaining: 24.6s\n",
      "254:\tlearn: 0.5948196\ttotal: 8.43s\tremaining: 24.6s\n",
      "255:\tlearn: 0.5946226\ttotal: 8.46s\tremaining: 24.6s\n",
      "256:\tlearn: 0.5944321\ttotal: 8.49s\tremaining: 24.6s\n",
      "257:\tlearn: 0.5944128\ttotal: 8.52s\tremaining: 24.5s\n",
      "258:\tlearn: 0.5943016\ttotal: 8.55s\tremaining: 24.5s\n",
      "259:\tlearn: 0.5942579\ttotal: 8.58s\tremaining: 24.4s\n",
      "260:\tlearn: 0.5940901\ttotal: 8.62s\tremaining: 24.4s\n",
      "261:\tlearn: 0.5939045\ttotal: 8.65s\tremaining: 24.4s\n",
      "262:\tlearn: 0.5936742\ttotal: 8.69s\tremaining: 24.3s\n",
      "263:\tlearn: 0.5932748\ttotal: 8.72s\tremaining: 24.3s\n",
      "264:\tlearn: 0.5932625\ttotal: 8.75s\tremaining: 24.3s\n",
      "265:\tlearn: 0.5930946\ttotal: 8.78s\tremaining: 24.2s\n",
      "266:\tlearn: 0.5930194\ttotal: 8.81s\tremaining: 24.2s\n",
      "267:\tlearn: 0.5929985\ttotal: 8.84s\tremaining: 24.1s\n",
      "268:\tlearn: 0.5927788\ttotal: 8.88s\tremaining: 24.1s\n",
      "269:\tlearn: 0.5924310\ttotal: 8.91s\tremaining: 24.1s\n",
      "270:\tlearn: 0.5920792\ttotal: 8.94s\tremaining: 24.1s\n",
      "271:\tlearn: 0.5919631\ttotal: 8.97s\tremaining: 24s\n",
      "272:\tlearn: 0.5917632\ttotal: 9.01s\tremaining: 24s\n",
      "273:\tlearn: 0.5916754\ttotal: 9.04s\tremaining: 23.9s\n",
      "274:\tlearn: 0.5915387\ttotal: 9.07s\tremaining: 23.9s\n",
      "275:\tlearn: 0.5914866\ttotal: 9.1s\tremaining: 23.9s\n",
      "276:\tlearn: 0.5914502\ttotal: 9.13s\tremaining: 23.8s\n",
      "277:\tlearn: 0.5912307\ttotal: 9.16s\tremaining: 23.8s\n",
      "278:\tlearn: 0.5909973\ttotal: 9.2s\tremaining: 23.8s\n",
      "279:\tlearn: 0.5908988\ttotal: 9.23s\tremaining: 23.7s\n",
      "280:\tlearn: 0.5905060\ttotal: 9.28s\tremaining: 23.7s\n",
      "281:\tlearn: 0.5904175\ttotal: 9.32s\tremaining: 23.7s\n",
      "282:\tlearn: 0.5903602\ttotal: 9.35s\tremaining: 23.7s\n",
      "283:\tlearn: 0.5901044\ttotal: 9.38s\tremaining: 23.7s\n",
      "284:\tlearn: 0.5899840\ttotal: 9.41s\tremaining: 23.6s\n",
      "285:\tlearn: 0.5897256\ttotal: 9.45s\tremaining: 23.6s\n",
      "286:\tlearn: 0.5897084\ttotal: 9.48s\tremaining: 23.6s\n",
      "287:\tlearn: 0.5895129\ttotal: 9.51s\tremaining: 23.5s\n",
      "288:\tlearn: 0.5892777\ttotal: 9.54s\tremaining: 23.5s\n",
      "289:\tlearn: 0.5891199\ttotal: 9.57s\tremaining: 23.4s\n",
      "290:\tlearn: 0.5888580\ttotal: 9.6s\tremaining: 23.4s\n",
      "291:\tlearn: 0.5888019\ttotal: 9.63s\tremaining: 23.3s\n",
      "292:\tlearn: 0.5887134\ttotal: 9.66s\tremaining: 23.3s\n",
      "293:\tlearn: 0.5884724\ttotal: 9.69s\tremaining: 23.3s\n",
      "294:\tlearn: 0.5884459\ttotal: 9.71s\tremaining: 23.2s\n",
      "295:\tlearn: 0.5883949\ttotal: 9.74s\tremaining: 23.2s\n",
      "296:\tlearn: 0.5880387\ttotal: 9.77s\tremaining: 23.1s\n",
      "297:\tlearn: 0.5876681\ttotal: 9.8s\tremaining: 23.1s\n",
      "298:\tlearn: 0.5875149\ttotal: 9.83s\tremaining: 23s\n",
      "299:\tlearn: 0.5874180\ttotal: 9.86s\tremaining: 23s\n",
      "300:\tlearn: 0.5872229\ttotal: 9.89s\tremaining: 23s\n",
      "301:\tlearn: 0.5871630\ttotal: 9.92s\tremaining: 22.9s\n",
      "302:\tlearn: 0.5869616\ttotal: 9.96s\tremaining: 22.9s\n",
      "303:\tlearn: 0.5865737\ttotal: 9.99s\tremaining: 22.9s\n",
      "304:\tlearn: 0.5862579\ttotal: 10s\tremaining: 22.8s\n",
      "305:\tlearn: 0.5861925\ttotal: 10.1s\tremaining: 22.8s\n",
      "306:\tlearn: 0.5861542\ttotal: 10.1s\tremaining: 22.7s\n",
      "307:\tlearn: 0.5860483\ttotal: 10.1s\tremaining: 22.7s\n",
      "308:\tlearn: 0.5859647\ttotal: 10.1s\tremaining: 22.7s\n",
      "309:\tlearn: 0.5857895\ttotal: 10.2s\tremaining: 22.6s\n",
      "310:\tlearn: 0.5856489\ttotal: 10.2s\tremaining: 22.6s\n",
      "311:\tlearn: 0.5854732\ttotal: 10.2s\tremaining: 22.5s\n",
      "312:\tlearn: 0.5851509\ttotal: 10.3s\tremaining: 22.5s\n",
      "313:\tlearn: 0.5850769\ttotal: 10.3s\tremaining: 22.5s\n",
      "314:\tlearn: 0.5849233\ttotal: 10.3s\tremaining: 22.4s\n",
      "315:\tlearn: 0.5848931\ttotal: 10.3s\tremaining: 22.4s\n",
      "316:\tlearn: 0.5848796\ttotal: 10.4s\tremaining: 22.3s\n",
      "317:\tlearn: 0.5848244\ttotal: 10.4s\tremaining: 22.3s\n",
      "318:\tlearn: 0.5846723\ttotal: 10.4s\tremaining: 22.3s\n",
      "319:\tlearn: 0.5846125\ttotal: 10.5s\tremaining: 22.2s\n",
      "320:\tlearn: 0.5845596\ttotal: 10.5s\tremaining: 22.2s\n",
      "321:\tlearn: 0.5843633\ttotal: 10.5s\tremaining: 22.2s\n",
      "322:\tlearn: 0.5840992\ttotal: 10.6s\tremaining: 22.1s\n",
      "323:\tlearn: 0.5839116\ttotal: 10.6s\tremaining: 22.1s\n",
      "324:\tlearn: 0.5838599\ttotal: 10.6s\tremaining: 22.1s\n",
      "325:\tlearn: 0.5838116\ttotal: 10.7s\tremaining: 22s\n",
      "326:\tlearn: 0.5835721\ttotal: 10.7s\tremaining: 22s\n",
      "327:\tlearn: 0.5834761\ttotal: 10.7s\tremaining: 22s\n",
      "328:\tlearn: 0.5831127\ttotal: 10.8s\tremaining: 21.9s\n",
      "329:\tlearn: 0.5830818\ttotal: 10.8s\tremaining: 21.9s\n",
      "330:\tlearn: 0.5828567\ttotal: 10.8s\tremaining: 21.9s\n",
      "331:\tlearn: 0.5828131\ttotal: 10.9s\tremaining: 21.8s\n",
      "332:\tlearn: 0.5825858\ttotal: 10.9s\tremaining: 21.8s\n",
      "333:\tlearn: 0.5821350\ttotal: 10.9s\tremaining: 21.8s\n",
      "334:\tlearn: 0.5818862\ttotal: 11s\tremaining: 21.8s\n",
      "335:\tlearn: 0.5817587\ttotal: 11s\tremaining: 21.8s\n",
      "336:\tlearn: 0.5815489\ttotal: 11.1s\tremaining: 21.7s\n",
      "337:\tlearn: 0.5814934\ttotal: 11.1s\tremaining: 21.7s\n",
      "338:\tlearn: 0.5814816\ttotal: 11.1s\tremaining: 21.7s\n",
      "339:\tlearn: 0.5814581\ttotal: 11.2s\tremaining: 21.7s\n",
      "340:\tlearn: 0.5813532\ttotal: 11.2s\tremaining: 21.6s\n",
      "341:\tlearn: 0.5812750\ttotal: 11.2s\tremaining: 21.6s\n",
      "342:\tlearn: 0.5811348\ttotal: 11.3s\tremaining: 21.6s\n",
      "343:\tlearn: 0.5810736\ttotal: 11.3s\tremaining: 21.6s\n",
      "344:\tlearn: 0.5809388\ttotal: 11.4s\tremaining: 21.6s\n",
      "345:\tlearn: 0.5808781\ttotal: 11.4s\tremaining: 21.5s\n",
      "346:\tlearn: 0.5808385\ttotal: 11.4s\tremaining: 21.5s\n",
      "347:\tlearn: 0.5807787\ttotal: 11.5s\tremaining: 21.5s\n",
      "348:\tlearn: 0.5805831\ttotal: 11.5s\tremaining: 21.5s\n",
      "349:\tlearn: 0.5804925\ttotal: 11.6s\tremaining: 21.5s\n",
      "350:\tlearn: 0.5804135\ttotal: 11.6s\tremaining: 21.4s\n",
      "351:\tlearn: 0.5802655\ttotal: 11.6s\tremaining: 21.4s\n",
      "352:\tlearn: 0.5799263\ttotal: 11.7s\tremaining: 21.4s\n",
      "353:\tlearn: 0.5796698\ttotal: 11.7s\tremaining: 21.4s\n",
      "354:\tlearn: 0.5796304\ttotal: 11.7s\tremaining: 21.3s\n",
      "355:\tlearn: 0.5796092\ttotal: 11.8s\tremaining: 21.3s\n",
      "356:\tlearn: 0.5794134\ttotal: 11.8s\tremaining: 21.3s\n",
      "357:\tlearn: 0.5794020\ttotal: 11.8s\tremaining: 21.2s\n",
      "358:\tlearn: 0.5792195\ttotal: 11.9s\tremaining: 21.2s\n",
      "359:\tlearn: 0.5791398\ttotal: 11.9s\tremaining: 21.2s\n",
      "360:\tlearn: 0.5789796\ttotal: 11.9s\tremaining: 21.1s\n",
      "361:\tlearn: 0.5789617\ttotal: 12s\tremaining: 21.1s\n",
      "362:\tlearn: 0.5787730\ttotal: 12s\tremaining: 21.1s\n",
      "363:\tlearn: 0.5787100\ttotal: 12s\tremaining: 21s\n",
      "364:\tlearn: 0.5786842\ttotal: 12s\tremaining: 21s\n",
      "365:\tlearn: 0.5782551\ttotal: 12.1s\tremaining: 20.9s\n",
      "366:\tlearn: 0.5782155\ttotal: 12.1s\tremaining: 20.9s\n",
      "367:\tlearn: 0.5780886\ttotal: 12.1s\tremaining: 20.9s\n",
      "368:\tlearn: 0.5779177\ttotal: 12.2s\tremaining: 20.8s\n",
      "369:\tlearn: 0.5778983\ttotal: 12.2s\tremaining: 20.8s\n",
      "370:\tlearn: 0.5777797\ttotal: 12.2s\tremaining: 20.7s\n",
      "371:\tlearn: 0.5777397\ttotal: 12.3s\tremaining: 20.7s\n",
      "372:\tlearn: 0.5775292\ttotal: 12.3s\tremaining: 20.7s\n",
      "373:\tlearn: 0.5774551\ttotal: 12.3s\tremaining: 20.7s\n",
      "374:\tlearn: 0.5771110\ttotal: 12.4s\tremaining: 20.6s\n",
      "375:\tlearn: 0.5770215\ttotal: 12.4s\tremaining: 20.6s\n",
      "376:\tlearn: 0.5769509\ttotal: 12.4s\tremaining: 20.5s\n",
      "377:\tlearn: 0.5768451\ttotal: 12.5s\tremaining: 20.5s\n",
      "378:\tlearn: 0.5768355\ttotal: 12.5s\tremaining: 20.5s\n",
      "379:\tlearn: 0.5767621\ttotal: 12.5s\tremaining: 20.4s\n",
      "380:\tlearn: 0.5766841\ttotal: 12.6s\tremaining: 20.4s\n",
      "381:\tlearn: 0.5763468\ttotal: 12.6s\tremaining: 20.4s\n",
      "382:\tlearn: 0.5760168\ttotal: 12.6s\tremaining: 20.3s\n",
      "383:\tlearn: 0.5759586\ttotal: 12.6s\tremaining: 20.3s\n",
      "384:\tlearn: 0.5759003\ttotal: 12.7s\tremaining: 20.2s\n",
      "385:\tlearn: 0.5757432\ttotal: 12.7s\tremaining: 20.2s\n",
      "386:\tlearn: 0.5757279\ttotal: 12.7s\tremaining: 20.2s\n",
      "387:\tlearn: 0.5756458\ttotal: 12.8s\tremaining: 20.1s\n",
      "388:\tlearn: 0.5755693\ttotal: 12.8s\tremaining: 20.1s\n",
      "389:\tlearn: 0.5753432\ttotal: 12.8s\tremaining: 20.1s\n",
      "390:\tlearn: 0.5753235\ttotal: 12.9s\tremaining: 20s\n",
      "391:\tlearn: 0.5752842\ttotal: 12.9s\tremaining: 20s\n",
      "392:\tlearn: 0.5751453\ttotal: 12.9s\tremaining: 20s\n",
      "393:\tlearn: 0.5748929\ttotal: 13s\tremaining: 19.9s\n",
      "394:\tlearn: 0.5746497\ttotal: 13s\tremaining: 19.9s\n",
      "395:\tlearn: 0.5746383\ttotal: 13s\tremaining: 19.9s\n",
      "396:\tlearn: 0.5744841\ttotal: 13.1s\tremaining: 19.8s\n",
      "397:\tlearn: 0.5743095\ttotal: 13.1s\tremaining: 19.8s\n",
      "398:\tlearn: 0.5742591\ttotal: 13.1s\tremaining: 19.8s\n",
      "399:\tlearn: 0.5742174\ttotal: 13.1s\tremaining: 19.7s\n",
      "400:\tlearn: 0.5741104\ttotal: 13.2s\tremaining: 19.7s\n",
      "401:\tlearn: 0.5740456\ttotal: 13.2s\tremaining: 19.6s\n",
      "402:\tlearn: 0.5739088\ttotal: 13.2s\tremaining: 19.6s\n",
      "403:\tlearn: 0.5736363\ttotal: 13.3s\tremaining: 19.6s\n",
      "404:\tlearn: 0.5735588\ttotal: 13.3s\tremaining: 19.6s\n",
      "405:\tlearn: 0.5735423\ttotal: 13.3s\tremaining: 19.5s\n",
      "406:\tlearn: 0.5734935\ttotal: 13.4s\tremaining: 19.5s\n",
      "407:\tlearn: 0.5734803\ttotal: 13.4s\tremaining: 19.5s\n",
      "408:\tlearn: 0.5733919\ttotal: 13.4s\tremaining: 19.4s\n",
      "409:\tlearn: 0.5733742\ttotal: 13.5s\tremaining: 19.4s\n",
      "410:\tlearn: 0.5728471\ttotal: 13.5s\tremaining: 19.4s\n",
      "411:\tlearn: 0.5727038\ttotal: 13.5s\tremaining: 19.3s\n",
      "412:\tlearn: 0.5725134\ttotal: 13.6s\tremaining: 19.3s\n",
      "413:\tlearn: 0.5724114\ttotal: 13.6s\tremaining: 19.3s\n",
      "414:\tlearn: 0.5721422\ttotal: 13.6s\tremaining: 19.2s\n",
      "415:\tlearn: 0.5721011\ttotal: 13.7s\tremaining: 19.2s\n",
      "416:\tlearn: 0.5719660\ttotal: 13.7s\tremaining: 19.2s\n",
      "417:\tlearn: 0.5718697\ttotal: 13.7s\tremaining: 19.1s\n",
      "418:\tlearn: 0.5717045\ttotal: 13.8s\tremaining: 19.1s\n",
      "419:\tlearn: 0.5716652\ttotal: 13.8s\tremaining: 19.1s\n",
      "420:\tlearn: 0.5714974\ttotal: 13.8s\tremaining: 19s\n",
      "421:\tlearn: 0.5714618\ttotal: 13.9s\tremaining: 19s\n",
      "422:\tlearn: 0.5714081\ttotal: 13.9s\tremaining: 19s\n",
      "423:\tlearn: 0.5712498\ttotal: 13.9s\tremaining: 19s\n",
      "424:\tlearn: 0.5711697\ttotal: 14s\tremaining: 18.9s\n",
      "425:\tlearn: 0.5710859\ttotal: 14s\tremaining: 18.9s\n",
      "426:\tlearn: 0.5710498\ttotal: 14s\tremaining: 18.9s\n",
      "427:\tlearn: 0.5710005\ttotal: 14.1s\tremaining: 18.8s\n",
      "428:\tlearn: 0.5708549\ttotal: 14.1s\tremaining: 18.8s\n",
      "429:\tlearn: 0.5707051\ttotal: 14.1s\tremaining: 18.8s\n",
      "430:\tlearn: 0.5705557\ttotal: 14.2s\tremaining: 18.7s\n",
      "431:\tlearn: 0.5704472\ttotal: 14.2s\tremaining: 18.7s\n",
      "432:\tlearn: 0.5703779\ttotal: 14.2s\tremaining: 18.7s\n",
      "433:\tlearn: 0.5701920\ttotal: 14.3s\tremaining: 18.6s\n",
      "434:\tlearn: 0.5701722\ttotal: 14.3s\tremaining: 18.6s\n",
      "435:\tlearn: 0.5701507\ttotal: 14.3s\tremaining: 18.5s\n",
      "436:\tlearn: 0.5698516\ttotal: 14.4s\tremaining: 18.5s\n",
      "437:\tlearn: 0.5694776\ttotal: 14.4s\tremaining: 18.5s\n",
      "438:\tlearn: 0.5694042\ttotal: 14.4s\tremaining: 18.4s\n",
      "439:\tlearn: 0.5691131\ttotal: 14.5s\tremaining: 18.4s\n",
      "440:\tlearn: 0.5689197\ttotal: 14.5s\tremaining: 18.4s\n",
      "441:\tlearn: 0.5687968\ttotal: 14.5s\tremaining: 18.3s\n",
      "442:\tlearn: 0.5686550\ttotal: 14.6s\tremaining: 18.3s\n",
      "443:\tlearn: 0.5684795\ttotal: 14.6s\tremaining: 18.3s\n",
      "444:\tlearn: 0.5683688\ttotal: 14.6s\tremaining: 18.3s\n",
      "445:\tlearn: 0.5681082\ttotal: 14.7s\tremaining: 18.2s\n",
      "446:\tlearn: 0.5680883\ttotal: 14.7s\tremaining: 18.2s\n",
      "447:\tlearn: 0.5680398\ttotal: 14.7s\tremaining: 18.2s\n",
      "448:\tlearn: 0.5679746\ttotal: 14.8s\tremaining: 18.1s\n",
      "449:\tlearn: 0.5676599\ttotal: 14.8s\tremaining: 18.1s\n",
      "450:\tlearn: 0.5675076\ttotal: 14.8s\tremaining: 18.1s\n",
      "451:\tlearn: 0.5672465\ttotal: 14.9s\tremaining: 18.1s\n",
      "452:\tlearn: 0.5669263\ttotal: 14.9s\tremaining: 18s\n",
      "453:\tlearn: 0.5668857\ttotal: 15s\tremaining: 18s\n",
      "454:\tlearn: 0.5668373\ttotal: 15s\tremaining: 18s\n",
      "455:\tlearn: 0.5667833\ttotal: 15s\tremaining: 17.9s\n",
      "456:\tlearn: 0.5667438\ttotal: 15.1s\tremaining: 17.9s\n",
      "457:\tlearn: 0.5667239\ttotal: 15.1s\tremaining: 17.9s\n",
      "458:\tlearn: 0.5667126\ttotal: 15.1s\tremaining: 17.8s\n",
      "459:\tlearn: 0.5666862\ttotal: 15.2s\tremaining: 17.8s\n",
      "460:\tlearn: 0.5665253\ttotal: 15.2s\tremaining: 17.8s\n",
      "461:\tlearn: 0.5665167\ttotal: 15.2s\tremaining: 17.7s\n",
      "462:\tlearn: 0.5664449\ttotal: 15.3s\tremaining: 17.7s\n",
      "463:\tlearn: 0.5663587\ttotal: 15.3s\tremaining: 17.7s\n",
      "464:\tlearn: 0.5663370\ttotal: 15.3s\tremaining: 17.6s\n",
      "465:\tlearn: 0.5663142\ttotal: 15.4s\tremaining: 17.6s\n",
      "466:\tlearn: 0.5659909\ttotal: 15.4s\tremaining: 17.6s\n",
      "467:\tlearn: 0.5658992\ttotal: 15.4s\tremaining: 17.6s\n",
      "468:\tlearn: 0.5658213\ttotal: 15.5s\tremaining: 17.5s\n",
      "469:\tlearn: 0.5657607\ttotal: 15.5s\tremaining: 17.5s\n",
      "470:\tlearn: 0.5656133\ttotal: 15.5s\tremaining: 17.4s\n",
      "471:\tlearn: 0.5655414\ttotal: 15.6s\tremaining: 17.4s\n",
      "472:\tlearn: 0.5654926\ttotal: 15.6s\tremaining: 17.4s\n",
      "473:\tlearn: 0.5654191\ttotal: 15.6s\tremaining: 17.3s\n",
      "474:\tlearn: 0.5652678\ttotal: 15.7s\tremaining: 17.3s\n",
      "475:\tlearn: 0.5651764\ttotal: 15.7s\tremaining: 17.3s\n",
      "476:\tlearn: 0.5648705\ttotal: 15.7s\tremaining: 17.3s\n",
      "477:\tlearn: 0.5646925\ttotal: 15.8s\tremaining: 17.2s\n",
      "478:\tlearn: 0.5646066\ttotal: 15.8s\tremaining: 17.2s\n",
      "479:\tlearn: 0.5643855\ttotal: 15.9s\tremaining: 17.2s\n",
      "480:\tlearn: 0.5643280\ttotal: 15.9s\tremaining: 17.2s\n",
      "481:\tlearn: 0.5641998\ttotal: 15.9s\tremaining: 17.1s\n",
      "482:\tlearn: 0.5641260\ttotal: 16s\tremaining: 17.1s\n",
      "483:\tlearn: 0.5637399\ttotal: 16s\tremaining: 17.1s\n",
      "484:\tlearn: 0.5636865\ttotal: 16s\tremaining: 17s\n",
      "485:\tlearn: 0.5633495\ttotal: 16.1s\tremaining: 17s\n",
      "486:\tlearn: 0.5633409\ttotal: 16.1s\tremaining: 17s\n",
      "487:\tlearn: 0.5632661\ttotal: 16.2s\tremaining: 16.9s\n",
      "488:\tlearn: 0.5630924\ttotal: 16.2s\tremaining: 16.9s\n",
      "489:\tlearn: 0.5630435\ttotal: 16.2s\tremaining: 16.9s\n",
      "490:\tlearn: 0.5629833\ttotal: 16.3s\tremaining: 16.9s\n",
      "491:\tlearn: 0.5628144\ttotal: 16.3s\tremaining: 16.8s\n",
      "492:\tlearn: 0.5627131\ttotal: 16.3s\tremaining: 16.8s\n",
      "493:\tlearn: 0.5624534\ttotal: 16.4s\tremaining: 16.8s\n",
      "494:\tlearn: 0.5621445\ttotal: 16.4s\tremaining: 16.8s\n",
      "495:\tlearn: 0.5620898\ttotal: 16.5s\tremaining: 16.7s\n",
      "496:\tlearn: 0.5616799\ttotal: 16.5s\tremaining: 16.7s\n",
      "497:\tlearn: 0.5615854\ttotal: 16.6s\tremaining: 16.7s\n",
      "498:\tlearn: 0.5615779\ttotal: 16.6s\tremaining: 16.7s\n",
      "499:\tlearn: 0.5615376\ttotal: 16.6s\tremaining: 16.6s\n",
      "500:\tlearn: 0.5614596\ttotal: 16.7s\tremaining: 16.6s\n",
      "501:\tlearn: 0.5614504\ttotal: 16.7s\tremaining: 16.6s\n",
      "502:\tlearn: 0.5613812\ttotal: 16.7s\tremaining: 16.5s\n",
      "503:\tlearn: 0.5613210\ttotal: 16.8s\tremaining: 16.5s\n",
      "504:\tlearn: 0.5612981\ttotal: 16.8s\tremaining: 16.5s\n",
      "505:\tlearn: 0.5611849\ttotal: 16.9s\tremaining: 16.5s\n",
      "506:\tlearn: 0.5610408\ttotal: 16.9s\tremaining: 16.5s\n",
      "507:\tlearn: 0.5609010\ttotal: 17s\tremaining: 16.4s\n",
      "508:\tlearn: 0.5607567\ttotal: 17s\tremaining: 16.4s\n",
      "509:\tlearn: 0.5607231\ttotal: 17s\tremaining: 16.4s\n",
      "510:\tlearn: 0.5606495\ttotal: 17.1s\tremaining: 16.3s\n",
      "511:\tlearn: 0.5606089\ttotal: 17.1s\tremaining: 16.3s\n",
      "512:\tlearn: 0.5605055\ttotal: 17.2s\tremaining: 16.3s\n",
      "513:\tlearn: 0.5602698\ttotal: 17.2s\tremaining: 16.3s\n",
      "514:\tlearn: 0.5601371\ttotal: 17.3s\tremaining: 16.2s\n",
      "515:\tlearn: 0.5601028\ttotal: 17.3s\tremaining: 16.2s\n",
      "516:\tlearn: 0.5599636\ttotal: 17.3s\tremaining: 16.2s\n",
      "517:\tlearn: 0.5599459\ttotal: 17.4s\tremaining: 16.2s\n",
      "518:\tlearn: 0.5595940\ttotal: 17.4s\tremaining: 16.1s\n",
      "519:\tlearn: 0.5594670\ttotal: 17.5s\tremaining: 16.1s\n",
      "520:\tlearn: 0.5593279\ttotal: 17.5s\tremaining: 16.1s\n",
      "521:\tlearn: 0.5593001\ttotal: 17.5s\tremaining: 16.1s\n",
      "522:\tlearn: 0.5589662\ttotal: 17.6s\tremaining: 16s\n",
      "523:\tlearn: 0.5589588\ttotal: 17.6s\tremaining: 16s\n",
      "524:\tlearn: 0.5587258\ttotal: 17.7s\tremaining: 16s\n",
      "525:\tlearn: 0.5587200\ttotal: 17.7s\tremaining: 16s\n",
      "526:\tlearn: 0.5586906\ttotal: 17.7s\tremaining: 15.9s\n",
      "527:\tlearn: 0.5584793\ttotal: 17.8s\tremaining: 15.9s\n",
      "528:\tlearn: 0.5583469\ttotal: 17.8s\tremaining: 15.9s\n",
      "529:\tlearn: 0.5583152\ttotal: 17.9s\tremaining: 15.8s\n",
      "530:\tlearn: 0.5580336\ttotal: 17.9s\tremaining: 15.8s\n",
      "531:\tlearn: 0.5580252\ttotal: 17.9s\tremaining: 15.8s\n",
      "532:\tlearn: 0.5579399\ttotal: 17.9s\tremaining: 15.7s\n",
      "533:\tlearn: 0.5576493\ttotal: 18s\tremaining: 15.7s\n",
      "534:\tlearn: 0.5575607\ttotal: 18s\tremaining: 15.7s\n",
      "535:\tlearn: 0.5572414\ttotal: 18.1s\tremaining: 15.6s\n",
      "536:\tlearn: 0.5572005\ttotal: 18.1s\tremaining: 15.6s\n",
      "537:\tlearn: 0.5568138\ttotal: 18.1s\tremaining: 15.6s\n",
      "538:\tlearn: 0.5567105\ttotal: 18.2s\tremaining: 15.5s\n",
      "539:\tlearn: 0.5566037\ttotal: 18.2s\tremaining: 15.5s\n",
      "540:\tlearn: 0.5564223\ttotal: 18.2s\tremaining: 15.5s\n",
      "541:\tlearn: 0.5562958\ttotal: 18.3s\tremaining: 15.4s\n",
      "542:\tlearn: 0.5561940\ttotal: 18.3s\tremaining: 15.4s\n",
      "543:\tlearn: 0.5560638\ttotal: 18.4s\tremaining: 15.4s\n",
      "544:\tlearn: 0.5560194\ttotal: 18.4s\tremaining: 15.3s\n",
      "545:\tlearn: 0.5559928\ttotal: 18.4s\tremaining: 15.3s\n",
      "546:\tlearn: 0.5557595\ttotal: 18.4s\tremaining: 15.3s\n",
      "547:\tlearn: 0.5556807\ttotal: 18.5s\tremaining: 15.2s\n",
      "548:\tlearn: 0.5554065\ttotal: 18.5s\tremaining: 15.2s\n",
      "549:\tlearn: 0.5553537\ttotal: 18.5s\tremaining: 15.2s\n",
      "550:\tlearn: 0.5550836\ttotal: 18.6s\tremaining: 15.1s\n",
      "551:\tlearn: 0.5550755\ttotal: 18.6s\tremaining: 15.1s\n",
      "552:\tlearn: 0.5548773\ttotal: 18.7s\tremaining: 15.1s\n",
      "553:\tlearn: 0.5547645\ttotal: 18.7s\tremaining: 15s\n",
      "554:\tlearn: 0.5546034\ttotal: 18.7s\tremaining: 15s\n",
      "555:\tlearn: 0.5544956\ttotal: 18.8s\tremaining: 15s\n",
      "556:\tlearn: 0.5544171\ttotal: 18.8s\tremaining: 14.9s\n",
      "557:\tlearn: 0.5544042\ttotal: 18.8s\tremaining: 14.9s\n",
      "558:\tlearn: 0.5543806\ttotal: 18.9s\tremaining: 14.9s\n",
      "559:\tlearn: 0.5543717\ttotal: 18.9s\tremaining: 14.8s\n",
      "560:\tlearn: 0.5540494\ttotal: 18.9s\tremaining: 14.8s\n",
      "561:\tlearn: 0.5537991\ttotal: 19s\tremaining: 14.8s\n",
      "562:\tlearn: 0.5536582\ttotal: 19s\tremaining: 14.7s\n",
      "563:\tlearn: 0.5536266\ttotal: 19s\tremaining: 14.7s\n",
      "564:\tlearn: 0.5535980\ttotal: 19.1s\tremaining: 14.7s\n",
      "565:\tlearn: 0.5533699\ttotal: 19.1s\tremaining: 14.7s\n",
      "566:\tlearn: 0.5531627\ttotal: 19.1s\tremaining: 14.6s\n",
      "567:\tlearn: 0.5531116\ttotal: 19.2s\tremaining: 14.6s\n",
      "568:\tlearn: 0.5529464\ttotal: 19.2s\tremaining: 14.6s\n",
      "569:\tlearn: 0.5527324\ttotal: 19.3s\tremaining: 14.5s\n",
      "570:\tlearn: 0.5526706\ttotal: 19.3s\tremaining: 14.5s\n",
      "571:\tlearn: 0.5526129\ttotal: 19.3s\tremaining: 14.5s\n",
      "572:\tlearn: 0.5525283\ttotal: 19.4s\tremaining: 14.4s\n",
      "573:\tlearn: 0.5524242\ttotal: 19.4s\tremaining: 14.4s\n",
      "574:\tlearn: 0.5522651\ttotal: 19.4s\tremaining: 14.3s\n",
      "575:\tlearn: 0.5521889\ttotal: 19.4s\tremaining: 14.3s\n",
      "576:\tlearn: 0.5520748\ttotal: 19.5s\tremaining: 14.3s\n",
      "577:\tlearn: 0.5519270\ttotal: 19.5s\tremaining: 14.3s\n",
      "578:\tlearn: 0.5519022\ttotal: 19.6s\tremaining: 14.2s\n",
      "579:\tlearn: 0.5518155\ttotal: 19.6s\tremaining: 14.2s\n",
      "580:\tlearn: 0.5518101\ttotal: 19.6s\tremaining: 14.1s\n",
      "581:\tlearn: 0.5517478\ttotal: 19.6s\tremaining: 14.1s\n",
      "582:\tlearn: 0.5516663\ttotal: 19.7s\tremaining: 14.1s\n",
      "583:\tlearn: 0.5515373\ttotal: 19.7s\tremaining: 14.1s\n",
      "584:\tlearn: 0.5514934\ttotal: 19.8s\tremaining: 14s\n",
      "585:\tlearn: 0.5512250\ttotal: 19.8s\tremaining: 14s\n",
      "586:\tlearn: 0.5510441\ttotal: 19.8s\tremaining: 14s\n",
      "587:\tlearn: 0.5510220\ttotal: 19.9s\tremaining: 13.9s\n",
      "588:\tlearn: 0.5508793\ttotal: 19.9s\tremaining: 13.9s\n",
      "589:\tlearn: 0.5508730\ttotal: 19.9s\tremaining: 13.9s\n",
      "590:\tlearn: 0.5507709\ttotal: 20s\tremaining: 13.8s\n",
      "591:\tlearn: 0.5505611\ttotal: 20s\tremaining: 13.8s\n",
      "592:\tlearn: 0.5505256\ttotal: 20.1s\tremaining: 13.8s\n",
      "593:\tlearn: 0.5505119\ttotal: 20.1s\tremaining: 13.7s\n",
      "594:\tlearn: 0.5504139\ttotal: 20.1s\tremaining: 13.7s\n",
      "595:\tlearn: 0.5502603\ttotal: 20.2s\tremaining: 13.7s\n",
      "596:\tlearn: 0.5498121\ttotal: 20.2s\tremaining: 13.6s\n",
      "597:\tlearn: 0.5497656\ttotal: 20.2s\tremaining: 13.6s\n",
      "598:\tlearn: 0.5495749\ttotal: 20.3s\tremaining: 13.6s\n",
      "599:\tlearn: 0.5495219\ttotal: 20.3s\tremaining: 13.5s\n",
      "600:\tlearn: 0.5495148\ttotal: 20.3s\tremaining: 13.5s\n",
      "601:\tlearn: 0.5494642\ttotal: 20.4s\tremaining: 13.5s\n",
      "602:\tlearn: 0.5494455\ttotal: 20.4s\tremaining: 13.4s\n",
      "603:\tlearn: 0.5493768\ttotal: 20.4s\tremaining: 13.4s\n",
      "604:\tlearn: 0.5493600\ttotal: 20.5s\tremaining: 13.4s\n",
      "605:\tlearn: 0.5493544\ttotal: 20.5s\tremaining: 13.3s\n",
      "606:\tlearn: 0.5492913\ttotal: 20.5s\tremaining: 13.3s\n",
      "607:\tlearn: 0.5491209\ttotal: 20.6s\tremaining: 13.3s\n",
      "608:\tlearn: 0.5490350\ttotal: 20.6s\tremaining: 13.2s\n",
      "609:\tlearn: 0.5489732\ttotal: 20.7s\tremaining: 13.2s\n",
      "610:\tlearn: 0.5488659\ttotal: 20.7s\tremaining: 13.2s\n",
      "611:\tlearn: 0.5487101\ttotal: 20.7s\tremaining: 13.1s\n",
      "612:\tlearn: 0.5485939\ttotal: 20.8s\tremaining: 13.1s\n",
      "613:\tlearn: 0.5485664\ttotal: 20.8s\tremaining: 13.1s\n",
      "614:\tlearn: 0.5485588\ttotal: 20.8s\tremaining: 13s\n",
      "615:\tlearn: 0.5484176\ttotal: 20.9s\tremaining: 13s\n",
      "616:\tlearn: 0.5484120\ttotal: 20.9s\tremaining: 13s\n",
      "617:\tlearn: 0.5483415\ttotal: 20.9s\tremaining: 12.9s\n",
      "618:\tlearn: 0.5482923\ttotal: 20.9s\tremaining: 12.9s\n",
      "619:\tlearn: 0.5481591\ttotal: 21s\tremaining: 12.9s\n",
      "620:\tlearn: 0.5481121\ttotal: 21s\tremaining: 12.8s\n",
      "621:\tlearn: 0.5480571\ttotal: 21s\tremaining: 12.8s\n",
      "622:\tlearn: 0.5479358\ttotal: 21.1s\tremaining: 12.7s\n",
      "623:\tlearn: 0.5478945\ttotal: 21.1s\tremaining: 12.7s\n",
      "624:\tlearn: 0.5477354\ttotal: 21.1s\tremaining: 12.7s\n",
      "625:\tlearn: 0.5476989\ttotal: 21.2s\tremaining: 12.6s\n",
      "626:\tlearn: 0.5476698\ttotal: 21.2s\tremaining: 12.6s\n",
      "627:\tlearn: 0.5476570\ttotal: 21.2s\tremaining: 12.6s\n",
      "628:\tlearn: 0.5475201\ttotal: 21.3s\tremaining: 12.5s\n",
      "629:\tlearn: 0.5473597\ttotal: 21.3s\tremaining: 12.5s\n",
      "630:\tlearn: 0.5470536\ttotal: 21.3s\tremaining: 12.5s\n",
      "631:\tlearn: 0.5468561\ttotal: 21.4s\tremaining: 12.4s\n",
      "632:\tlearn: 0.5468245\ttotal: 21.4s\tremaining: 12.4s\n",
      "633:\tlearn: 0.5466572\ttotal: 21.4s\tremaining: 12.4s\n",
      "634:\tlearn: 0.5465573\ttotal: 21.5s\tremaining: 12.3s\n",
      "635:\tlearn: 0.5464646\ttotal: 21.5s\tremaining: 12.3s\n",
      "636:\tlearn: 0.5463611\ttotal: 21.5s\tremaining: 12.3s\n",
      "637:\tlearn: 0.5463254\ttotal: 21.6s\tremaining: 12.2s\n",
      "638:\tlearn: 0.5461110\ttotal: 21.6s\tremaining: 12.2s\n",
      "639:\tlearn: 0.5460425\ttotal: 21.6s\tremaining: 12.2s\n",
      "640:\tlearn: 0.5460021\ttotal: 21.7s\tremaining: 12.1s\n",
      "641:\tlearn: 0.5459435\ttotal: 21.7s\tremaining: 12.1s\n",
      "642:\tlearn: 0.5458754\ttotal: 21.7s\tremaining: 12.1s\n",
      "643:\tlearn: 0.5457558\ttotal: 21.8s\tremaining: 12s\n",
      "644:\tlearn: 0.5455027\ttotal: 21.8s\tremaining: 12s\n",
      "645:\tlearn: 0.5454798\ttotal: 21.8s\tremaining: 12s\n",
      "646:\tlearn: 0.5453958\ttotal: 21.9s\tremaining: 11.9s\n",
      "647:\tlearn: 0.5452402\ttotal: 21.9s\tremaining: 11.9s\n",
      "648:\tlearn: 0.5450996\ttotal: 21.9s\tremaining: 11.9s\n",
      "649:\tlearn: 0.5449232\ttotal: 22s\tremaining: 11.8s\n",
      "650:\tlearn: 0.5448233\ttotal: 22s\tremaining: 11.8s\n",
      "651:\tlearn: 0.5446530\ttotal: 22s\tremaining: 11.8s\n",
      "652:\tlearn: 0.5444988\ttotal: 22.1s\tremaining: 11.7s\n",
      "653:\tlearn: 0.5444857\ttotal: 22.1s\tremaining: 11.7s\n",
      "654:\tlearn: 0.5443435\ttotal: 22.1s\tremaining: 11.7s\n",
      "655:\tlearn: 0.5442108\ttotal: 22.2s\tremaining: 11.6s\n",
      "656:\tlearn: 0.5440837\ttotal: 22.2s\tremaining: 11.6s\n",
      "657:\tlearn: 0.5439354\ttotal: 22.2s\tremaining: 11.6s\n",
      "658:\tlearn: 0.5438486\ttotal: 22.3s\tremaining: 11.5s\n",
      "659:\tlearn: 0.5436472\ttotal: 22.3s\tremaining: 11.5s\n",
      "660:\tlearn: 0.5436042\ttotal: 22.3s\tremaining: 11.5s\n",
      "661:\tlearn: 0.5435957\ttotal: 22.4s\tremaining: 11.4s\n",
      "662:\tlearn: 0.5434360\ttotal: 22.4s\tremaining: 11.4s\n",
      "663:\tlearn: 0.5432326\ttotal: 22.4s\tremaining: 11.3s\n",
      "664:\tlearn: 0.5431614\ttotal: 22.5s\tremaining: 11.3s\n",
      "665:\tlearn: 0.5430044\ttotal: 22.5s\tremaining: 11.3s\n",
      "666:\tlearn: 0.5429452\ttotal: 22.5s\tremaining: 11.2s\n",
      "667:\tlearn: 0.5428584\ttotal: 22.6s\tremaining: 11.2s\n",
      "668:\tlearn: 0.5426738\ttotal: 22.6s\tremaining: 11.2s\n",
      "669:\tlearn: 0.5425071\ttotal: 22.6s\tremaining: 11.1s\n",
      "670:\tlearn: 0.5424573\ttotal: 22.6s\tremaining: 11.1s\n",
      "671:\tlearn: 0.5424000\ttotal: 22.7s\tremaining: 11.1s\n",
      "672:\tlearn: 0.5422442\ttotal: 22.7s\tremaining: 11s\n",
      "673:\tlearn: 0.5421301\ttotal: 22.7s\tremaining: 11s\n",
      "674:\tlearn: 0.5420730\ttotal: 22.8s\tremaining: 11s\n",
      "675:\tlearn: 0.5420500\ttotal: 22.8s\tremaining: 10.9s\n",
      "676:\tlearn: 0.5419595\ttotal: 22.8s\tremaining: 10.9s\n",
      "677:\tlearn: 0.5417284\ttotal: 22.9s\tremaining: 10.9s\n",
      "678:\tlearn: 0.5416302\ttotal: 22.9s\tremaining: 10.8s\n",
      "679:\tlearn: 0.5414921\ttotal: 22.9s\tremaining: 10.8s\n",
      "680:\tlearn: 0.5412994\ttotal: 23s\tremaining: 10.8s\n",
      "681:\tlearn: 0.5411287\ttotal: 23s\tremaining: 10.7s\n",
      "682:\tlearn: 0.5408895\ttotal: 23s\tremaining: 10.7s\n",
      "683:\tlearn: 0.5408353\ttotal: 23.1s\tremaining: 10.7s\n",
      "684:\tlearn: 0.5407889\ttotal: 23.1s\tremaining: 10.6s\n",
      "685:\tlearn: 0.5405093\ttotal: 23.1s\tremaining: 10.6s\n",
      "686:\tlearn: 0.5404335\ttotal: 23.2s\tremaining: 10.6s\n",
      "687:\tlearn: 0.5401702\ttotal: 23.2s\tremaining: 10.5s\n",
      "688:\tlearn: 0.5401231\ttotal: 23.2s\tremaining: 10.5s\n",
      "689:\tlearn: 0.5400015\ttotal: 23.3s\tremaining: 10.4s\n",
      "690:\tlearn: 0.5397346\ttotal: 23.3s\tremaining: 10.4s\n",
      "691:\tlearn: 0.5395741\ttotal: 23.3s\tremaining: 10.4s\n",
      "692:\tlearn: 0.5394831\ttotal: 23.4s\tremaining: 10.3s\n",
      "693:\tlearn: 0.5392936\ttotal: 23.4s\tremaining: 10.3s\n",
      "694:\tlearn: 0.5392421\ttotal: 23.4s\tremaining: 10.3s\n",
      "695:\tlearn: 0.5392219\ttotal: 23.5s\tremaining: 10.2s\n",
      "696:\tlearn: 0.5392065\ttotal: 23.5s\tremaining: 10.2s\n",
      "697:\tlearn: 0.5390256\ttotal: 23.5s\tremaining: 10.2s\n",
      "698:\tlearn: 0.5388356\ttotal: 23.5s\tremaining: 10.1s\n",
      "699:\tlearn: 0.5387600\ttotal: 23.6s\tremaining: 10.1s\n",
      "700:\tlearn: 0.5386320\ttotal: 23.6s\tremaining: 10.1s\n",
      "701:\tlearn: 0.5384773\ttotal: 23.6s\tremaining: 10s\n",
      "702:\tlearn: 0.5381189\ttotal: 23.7s\tremaining: 10s\n",
      "703:\tlearn: 0.5379752\ttotal: 23.7s\tremaining: 9.97s\n",
      "704:\tlearn: 0.5378016\ttotal: 23.8s\tremaining: 9.94s\n",
      "705:\tlearn: 0.5376617\ttotal: 23.8s\tremaining: 9.91s\n",
      "706:\tlearn: 0.5374661\ttotal: 23.8s\tremaining: 9.88s\n",
      "707:\tlearn: 0.5374616\ttotal: 23.9s\tremaining: 9.84s\n",
      "708:\tlearn: 0.5372943\ttotal: 23.9s\tremaining: 9.81s\n",
      "709:\tlearn: 0.5372780\ttotal: 23.9s\tremaining: 9.77s\n",
      "710:\tlearn: 0.5371933\ttotal: 24s\tremaining: 9.74s\n",
      "711:\tlearn: 0.5370820\ttotal: 24s\tremaining: 9.7s\n",
      "712:\tlearn: 0.5369886\ttotal: 24s\tremaining: 9.67s\n",
      "713:\tlearn: 0.5369681\ttotal: 24s\tremaining: 9.63s\n",
      "714:\tlearn: 0.5365867\ttotal: 24.1s\tremaining: 9.6s\n",
      "715:\tlearn: 0.5364837\ttotal: 24.1s\tremaining: 9.57s\n",
      "716:\tlearn: 0.5363188\ttotal: 24.2s\tremaining: 9.54s\n",
      "717:\tlearn: 0.5362611\ttotal: 24.2s\tremaining: 9.5s\n",
      "718:\tlearn: 0.5361745\ttotal: 24.2s\tremaining: 9.46s\n",
      "719:\tlearn: 0.5359013\ttotal: 24.3s\tremaining: 9.43s\n",
      "720:\tlearn: 0.5358944\ttotal: 24.3s\tremaining: 9.4s\n",
      "721:\tlearn: 0.5357052\ttotal: 24.3s\tremaining: 9.37s\n",
      "722:\tlearn: 0.5356916\ttotal: 24.4s\tremaining: 9.33s\n",
      "723:\tlearn: 0.5356628\ttotal: 24.4s\tremaining: 9.29s\n",
      "724:\tlearn: 0.5355358\ttotal: 24.4s\tremaining: 9.26s\n",
      "725:\tlearn: 0.5354586\ttotal: 24.4s\tremaining: 9.22s\n",
      "726:\tlearn: 0.5353522\ttotal: 24.5s\tremaining: 9.19s\n",
      "727:\tlearn: 0.5353304\ttotal: 24.5s\tremaining: 9.16s\n",
      "728:\tlearn: 0.5353143\ttotal: 24.5s\tremaining: 9.12s\n",
      "729:\tlearn: 0.5352074\ttotal: 24.6s\tremaining: 9.09s\n",
      "730:\tlearn: 0.5350300\ttotal: 24.6s\tremaining: 9.05s\n",
      "731:\tlearn: 0.5350171\ttotal: 24.6s\tremaining: 9.02s\n",
      "732:\tlearn: 0.5349779\ttotal: 24.7s\tremaining: 8.98s\n",
      "733:\tlearn: 0.5347175\ttotal: 24.7s\tremaining: 8.95s\n",
      "734:\tlearn: 0.5346850\ttotal: 24.7s\tremaining: 8.91s\n",
      "735:\tlearn: 0.5346023\ttotal: 24.7s\tremaining: 8.88s\n",
      "736:\tlearn: 0.5345507\ttotal: 24.8s\tremaining: 8.84s\n",
      "737:\tlearn: 0.5344944\ttotal: 24.8s\tremaining: 8.81s\n",
      "738:\tlearn: 0.5344442\ttotal: 24.8s\tremaining: 8.77s\n",
      "739:\tlearn: 0.5343688\ttotal: 24.9s\tremaining: 8.74s\n",
      "740:\tlearn: 0.5343082\ttotal: 24.9s\tremaining: 8.7s\n",
      "741:\tlearn: 0.5343004\ttotal: 24.9s\tremaining: 8.67s\n",
      "742:\tlearn: 0.5341677\ttotal: 25s\tremaining: 8.63s\n",
      "743:\tlearn: 0.5339066\ttotal: 25s\tremaining: 8.6s\n",
      "744:\tlearn: 0.5338766\ttotal: 25s\tremaining: 8.56s\n",
      "745:\tlearn: 0.5338056\ttotal: 25.1s\tremaining: 8.53s\n",
      "746:\tlearn: 0.5334444\ttotal: 25.1s\tremaining: 8.5s\n",
      "747:\tlearn: 0.5333193\ttotal: 25.1s\tremaining: 8.47s\n",
      "748:\tlearn: 0.5332472\ttotal: 25.2s\tremaining: 8.43s\n",
      "749:\tlearn: 0.5331625\ttotal: 25.2s\tremaining: 8.4s\n",
      "750:\tlearn: 0.5329527\ttotal: 25.2s\tremaining: 8.37s\n",
      "751:\tlearn: 0.5327270\ttotal: 25.3s\tremaining: 8.34s\n",
      "752:\tlearn: 0.5327020\ttotal: 25.3s\tremaining: 8.3s\n",
      "753:\tlearn: 0.5326252\ttotal: 25.4s\tremaining: 8.27s\n",
      "754:\tlearn: 0.5325446\ttotal: 25.4s\tremaining: 8.24s\n",
      "755:\tlearn: 0.5324128\ttotal: 25.4s\tremaining: 8.2s\n",
      "756:\tlearn: 0.5322638\ttotal: 25.5s\tremaining: 8.17s\n",
      "757:\tlearn: 0.5320783\ttotal: 25.5s\tremaining: 8.14s\n",
      "758:\tlearn: 0.5319396\ttotal: 25.5s\tremaining: 8.1s\n",
      "759:\tlearn: 0.5318254\ttotal: 25.6s\tremaining: 8.07s\n",
      "760:\tlearn: 0.5315825\ttotal: 25.6s\tremaining: 8.04s\n",
      "761:\tlearn: 0.5314949\ttotal: 25.6s\tremaining: 8.01s\n",
      "762:\tlearn: 0.5314505\ttotal: 25.7s\tremaining: 7.97s\n",
      "763:\tlearn: 0.5312860\ttotal: 25.7s\tremaining: 7.94s\n",
      "764:\tlearn: 0.5311095\ttotal: 25.7s\tremaining: 7.9s\n",
      "765:\tlearn: 0.5310708\ttotal: 25.8s\tremaining: 7.87s\n",
      "766:\tlearn: 0.5310612\ttotal: 25.8s\tremaining: 7.83s\n",
      "767:\tlearn: 0.5307266\ttotal: 25.8s\tremaining: 7.8s\n",
      "768:\tlearn: 0.5306962\ttotal: 25.9s\tremaining: 7.77s\n",
      "769:\tlearn: 0.5306919\ttotal: 25.9s\tremaining: 7.73s\n",
      "770:\tlearn: 0.5306387\ttotal: 25.9s\tremaining: 7.7s\n",
      "771:\tlearn: 0.5304734\ttotal: 26s\tremaining: 7.66s\n",
      "772:\tlearn: 0.5303978\ttotal: 26s\tremaining: 7.63s\n",
      "773:\tlearn: 0.5303791\ttotal: 26s\tremaining: 7.59s\n",
      "774:\tlearn: 0.5302704\ttotal: 26s\tremaining: 7.56s\n",
      "775:\tlearn: 0.5302638\ttotal: 26.1s\tremaining: 7.52s\n",
      "776:\tlearn: 0.5301810\ttotal: 26.1s\tremaining: 7.49s\n",
      "777:\tlearn: 0.5299702\ttotal: 26.1s\tremaining: 7.46s\n",
      "778:\tlearn: 0.5297918\ttotal: 26.2s\tremaining: 7.42s\n",
      "779:\tlearn: 0.5297434\ttotal: 26.2s\tremaining: 7.39s\n",
      "780:\tlearn: 0.5297323\ttotal: 26.2s\tremaining: 7.35s\n",
      "781:\tlearn: 0.5297254\ttotal: 26.3s\tremaining: 7.32s\n",
      "782:\tlearn: 0.5296706\ttotal: 26.3s\tremaining: 7.29s\n",
      "783:\tlearn: 0.5296506\ttotal: 26.3s\tremaining: 7.25s\n",
      "784:\tlearn: 0.5292368\ttotal: 26.3s\tremaining: 7.22s\n",
      "785:\tlearn: 0.5291929\ttotal: 26.4s\tremaining: 7.18s\n",
      "786:\tlearn: 0.5290577\ttotal: 26.4s\tremaining: 7.15s\n",
      "787:\tlearn: 0.5289862\ttotal: 26.4s\tremaining: 7.12s\n",
      "788:\tlearn: 0.5289312\ttotal: 26.5s\tremaining: 7.08s\n",
      "789:\tlearn: 0.5287880\ttotal: 26.5s\tremaining: 7.05s\n",
      "790:\tlearn: 0.5286546\ttotal: 26.6s\tremaining: 7.01s\n",
      "791:\tlearn: 0.5284799\ttotal: 26.6s\tremaining: 6.98s\n",
      "792:\tlearn: 0.5283483\ttotal: 26.6s\tremaining: 6.95s\n",
      "793:\tlearn: 0.5283018\ttotal: 26.6s\tremaining: 6.91s\n",
      "794:\tlearn: 0.5282604\ttotal: 26.7s\tremaining: 6.88s\n",
      "795:\tlearn: 0.5281423\ttotal: 26.7s\tremaining: 6.85s\n",
      "796:\tlearn: 0.5280828\ttotal: 26.8s\tremaining: 6.81s\n",
      "797:\tlearn: 0.5278115\ttotal: 26.8s\tremaining: 6.78s\n",
      "798:\tlearn: 0.5275809\ttotal: 26.8s\tremaining: 6.75s\n",
      "799:\tlearn: 0.5275762\ttotal: 26.9s\tremaining: 6.71s\n",
      "800:\tlearn: 0.5275004\ttotal: 26.9s\tremaining: 6.68s\n",
      "801:\tlearn: 0.5274930\ttotal: 26.9s\tremaining: 6.64s\n",
      "802:\tlearn: 0.5271386\ttotal: 27s\tremaining: 6.61s\n",
      "803:\tlearn: 0.5271352\ttotal: 27s\tremaining: 6.58s\n",
      "804:\tlearn: 0.5268672\ttotal: 27s\tremaining: 6.54s\n",
      "805:\tlearn: 0.5267816\ttotal: 27s\tremaining: 6.51s\n",
      "806:\tlearn: 0.5266655\ttotal: 27.1s\tremaining: 6.48s\n",
      "807:\tlearn: 0.5266387\ttotal: 27.1s\tremaining: 6.44s\n",
      "808:\tlearn: 0.5265395\ttotal: 27.1s\tremaining: 6.41s\n",
      "809:\tlearn: 0.5264995\ttotal: 27.2s\tremaining: 6.37s\n",
      "810:\tlearn: 0.5264344\ttotal: 27.2s\tremaining: 6.34s\n",
      "811:\tlearn: 0.5263975\ttotal: 27.2s\tremaining: 6.3s\n",
      "812:\tlearn: 0.5262931\ttotal: 27.3s\tremaining: 6.27s\n",
      "813:\tlearn: 0.5259324\ttotal: 27.3s\tremaining: 6.24s\n",
      "814:\tlearn: 0.5258019\ttotal: 27.3s\tremaining: 6.21s\n",
      "815:\tlearn: 0.5257696\ttotal: 27.4s\tremaining: 6.17s\n",
      "816:\tlearn: 0.5256428\ttotal: 27.4s\tremaining: 6.14s\n",
      "817:\tlearn: 0.5255642\ttotal: 27.4s\tremaining: 6.11s\n",
      "818:\tlearn: 0.5254031\ttotal: 27.5s\tremaining: 6.07s\n",
      "819:\tlearn: 0.5253503\ttotal: 27.5s\tremaining: 6.04s\n",
      "820:\tlearn: 0.5252015\ttotal: 27.5s\tremaining: 6.01s\n",
      "821:\tlearn: 0.5249943\ttotal: 27.6s\tremaining: 5.97s\n",
      "822:\tlearn: 0.5249556\ttotal: 27.6s\tremaining: 5.94s\n",
      "823:\tlearn: 0.5248126\ttotal: 27.6s\tremaining: 5.9s\n",
      "824:\tlearn: 0.5247726\ttotal: 27.7s\tremaining: 5.87s\n",
      "825:\tlearn: 0.5247019\ttotal: 27.7s\tremaining: 5.83s\n",
      "826:\tlearn: 0.5246890\ttotal: 27.7s\tremaining: 5.8s\n",
      "827:\tlearn: 0.5245837\ttotal: 27.8s\tremaining: 5.77s\n",
      "828:\tlearn: 0.5244291\ttotal: 27.8s\tremaining: 5.73s\n",
      "829:\tlearn: 0.5244096\ttotal: 27.8s\tremaining: 5.7s\n",
      "830:\tlearn: 0.5241046\ttotal: 27.9s\tremaining: 5.67s\n",
      "831:\tlearn: 0.5240303\ttotal: 27.9s\tremaining: 5.63s\n",
      "832:\tlearn: 0.5238538\ttotal: 27.9s\tremaining: 5.6s\n",
      "833:\tlearn: 0.5236857\ttotal: 28s\tremaining: 5.56s\n",
      "834:\tlearn: 0.5236351\ttotal: 28s\tremaining: 5.53s\n",
      "835:\tlearn: 0.5235783\ttotal: 28s\tremaining: 5.5s\n",
      "836:\tlearn: 0.5234512\ttotal: 28.1s\tremaining: 5.46s\n",
      "837:\tlearn: 0.5234341\ttotal: 28.1s\tremaining: 5.43s\n",
      "838:\tlearn: 0.5232587\ttotal: 28.1s\tremaining: 5.39s\n",
      "839:\tlearn: 0.5231894\ttotal: 28.2s\tremaining: 5.36s\n",
      "840:\tlearn: 0.5229071\ttotal: 28.2s\tremaining: 5.33s\n",
      "841:\tlearn: 0.5226996\ttotal: 28.2s\tremaining: 5.29s\n",
      "842:\tlearn: 0.5226701\ttotal: 28.3s\tremaining: 5.26s\n",
      "843:\tlearn: 0.5226614\ttotal: 28.3s\tremaining: 5.23s\n",
      "844:\tlearn: 0.5225928\ttotal: 28.3s\tremaining: 5.19s\n",
      "845:\tlearn: 0.5225016\ttotal: 28.3s\tremaining: 5.16s\n",
      "846:\tlearn: 0.5224562\ttotal: 28.4s\tremaining: 5.13s\n",
      "847:\tlearn: 0.5223307\ttotal: 28.4s\tremaining: 5.09s\n",
      "848:\tlearn: 0.5221768\ttotal: 28.4s\tremaining: 5.06s\n",
      "849:\tlearn: 0.5221038\ttotal: 28.5s\tremaining: 5.03s\n",
      "850:\tlearn: 0.5218908\ttotal: 28.5s\tremaining: 4.99s\n",
      "851:\tlearn: 0.5217967\ttotal: 28.5s\tremaining: 4.96s\n",
      "852:\tlearn: 0.5217905\ttotal: 28.6s\tremaining: 4.92s\n",
      "853:\tlearn: 0.5214237\ttotal: 28.6s\tremaining: 4.89s\n",
      "854:\tlearn: 0.5213248\ttotal: 28.6s\tremaining: 4.86s\n",
      "855:\tlearn: 0.5210883\ttotal: 28.7s\tremaining: 4.82s\n",
      "856:\tlearn: 0.5209007\ttotal: 28.7s\tremaining: 4.79s\n",
      "857:\tlearn: 0.5207519\ttotal: 28.7s\tremaining: 4.76s\n",
      "858:\tlearn: 0.5205595\ttotal: 28.8s\tremaining: 4.72s\n",
      "859:\tlearn: 0.5205492\ttotal: 28.8s\tremaining: 4.69s\n",
      "860:\tlearn: 0.5203562\ttotal: 28.8s\tremaining: 4.66s\n",
      "861:\tlearn: 0.5202903\ttotal: 28.9s\tremaining: 4.62s\n",
      "862:\tlearn: 0.5202154\ttotal: 28.9s\tremaining: 4.59s\n",
      "863:\tlearn: 0.5201106\ttotal: 28.9s\tremaining: 4.55s\n",
      "864:\tlearn: 0.5199157\ttotal: 29s\tremaining: 4.52s\n",
      "865:\tlearn: 0.5198493\ttotal: 29s\tremaining: 4.49s\n",
      "866:\tlearn: 0.5197406\ttotal: 29s\tremaining: 4.45s\n",
      "867:\tlearn: 0.5196483\ttotal: 29.1s\tremaining: 4.42s\n",
      "868:\tlearn: 0.5194409\ttotal: 29.1s\tremaining: 4.39s\n",
      "869:\tlearn: 0.5194250\ttotal: 29.1s\tremaining: 4.36s\n",
      "870:\tlearn: 0.5193136\ttotal: 29.2s\tremaining: 4.32s\n",
      "871:\tlearn: 0.5192008\ttotal: 29.2s\tremaining: 4.29s\n",
      "872:\tlearn: 0.5191361\ttotal: 29.2s\tremaining: 4.25s\n",
      "873:\tlearn: 0.5190528\ttotal: 29.3s\tremaining: 4.22s\n",
      "874:\tlearn: 0.5188480\ttotal: 29.3s\tremaining: 4.18s\n",
      "875:\tlearn: 0.5187595\ttotal: 29.3s\tremaining: 4.15s\n",
      "876:\tlearn: 0.5186468\ttotal: 29.4s\tremaining: 4.12s\n",
      "877:\tlearn: 0.5184564\ttotal: 29.4s\tremaining: 4.08s\n",
      "878:\tlearn: 0.5184254\ttotal: 29.4s\tremaining: 4.05s\n",
      "879:\tlearn: 0.5182812\ttotal: 29.5s\tremaining: 4.02s\n",
      "880:\tlearn: 0.5182743\ttotal: 29.5s\tremaining: 3.98s\n",
      "881:\tlearn: 0.5182121\ttotal: 29.5s\tremaining: 3.95s\n",
      "882:\tlearn: 0.5182076\ttotal: 29.6s\tremaining: 3.92s\n",
      "883:\tlearn: 0.5180549\ttotal: 29.6s\tremaining: 3.88s\n",
      "884:\tlearn: 0.5178963\ttotal: 29.6s\tremaining: 3.85s\n",
      "885:\tlearn: 0.5178359\ttotal: 29.6s\tremaining: 3.81s\n",
      "886:\tlearn: 0.5177529\ttotal: 29.7s\tremaining: 3.78s\n",
      "887:\tlearn: 0.5176557\ttotal: 29.7s\tremaining: 3.75s\n",
      "888:\tlearn: 0.5173762\ttotal: 29.7s\tremaining: 3.71s\n",
      "889:\tlearn: 0.5171034\ttotal: 29.8s\tremaining: 3.68s\n",
      "890:\tlearn: 0.5170836\ttotal: 29.8s\tremaining: 3.65s\n",
      "891:\tlearn: 0.5170395\ttotal: 29.8s\tremaining: 3.61s\n",
      "892:\tlearn: 0.5169194\ttotal: 29.9s\tremaining: 3.58s\n",
      "893:\tlearn: 0.5168440\ttotal: 29.9s\tremaining: 3.54s\n",
      "894:\tlearn: 0.5168375\ttotal: 29.9s\tremaining: 3.51s\n",
      "895:\tlearn: 0.5168083\ttotal: 30s\tremaining: 3.48s\n",
      "896:\tlearn: 0.5167264\ttotal: 30s\tremaining: 3.44s\n",
      "897:\tlearn: 0.5165219\ttotal: 30s\tremaining: 3.41s\n",
      "898:\tlearn: 0.5162247\ttotal: 30.1s\tremaining: 3.38s\n",
      "899:\tlearn: 0.5158837\ttotal: 30.1s\tremaining: 3.34s\n",
      "900:\tlearn: 0.5158512\ttotal: 30.1s\tremaining: 3.31s\n",
      "901:\tlearn: 0.5157709\ttotal: 30.2s\tremaining: 3.28s\n",
      "902:\tlearn: 0.5156120\ttotal: 30.2s\tremaining: 3.24s\n",
      "903:\tlearn: 0.5155376\ttotal: 30.2s\tremaining: 3.21s\n",
      "904:\tlearn: 0.5153940\ttotal: 30.3s\tremaining: 3.18s\n",
      "905:\tlearn: 0.5153769\ttotal: 30.3s\tremaining: 3.14s\n",
      "906:\tlearn: 0.5151759\ttotal: 30.3s\tremaining: 3.11s\n",
      "907:\tlearn: 0.5150524\ttotal: 30.4s\tremaining: 3.08s\n",
      "908:\tlearn: 0.5148984\ttotal: 30.4s\tremaining: 3.04s\n",
      "909:\tlearn: 0.5148844\ttotal: 30.4s\tremaining: 3.01s\n",
      "910:\tlearn: 0.5148597\ttotal: 30.5s\tremaining: 2.98s\n",
      "911:\tlearn: 0.5146925\ttotal: 30.5s\tremaining: 2.94s\n",
      "912:\tlearn: 0.5146404\ttotal: 30.5s\tremaining: 2.91s\n",
      "913:\tlearn: 0.5146025\ttotal: 30.6s\tremaining: 2.87s\n",
      "914:\tlearn: 0.5145935\ttotal: 30.6s\tremaining: 2.84s\n",
      "915:\tlearn: 0.5145744\ttotal: 30.6s\tremaining: 2.81s\n",
      "916:\tlearn: 0.5144060\ttotal: 30.6s\tremaining: 2.77s\n",
      "917:\tlearn: 0.5143522\ttotal: 30.7s\tremaining: 2.74s\n",
      "918:\tlearn: 0.5141935\ttotal: 30.7s\tremaining: 2.71s\n",
      "919:\tlearn: 0.5140789\ttotal: 30.7s\tremaining: 2.67s\n",
      "920:\tlearn: 0.5140551\ttotal: 30.8s\tremaining: 2.64s\n",
      "921:\tlearn: 0.5139780\ttotal: 30.8s\tremaining: 2.61s\n",
      "922:\tlearn: 0.5137213\ttotal: 30.8s\tremaining: 2.57s\n",
      "923:\tlearn: 0.5136383\ttotal: 30.9s\tremaining: 2.54s\n",
      "924:\tlearn: 0.5135619\ttotal: 30.9s\tremaining: 2.51s\n",
      "925:\tlearn: 0.5132794\ttotal: 30.9s\tremaining: 2.47s\n",
      "926:\tlearn: 0.5132503\ttotal: 31s\tremaining: 2.44s\n",
      "927:\tlearn: 0.5131153\ttotal: 31s\tremaining: 2.4s\n",
      "928:\tlearn: 0.5130909\ttotal: 31s\tremaining: 2.37s\n",
      "929:\tlearn: 0.5130418\ttotal: 31.1s\tremaining: 2.34s\n",
      "930:\tlearn: 0.5130335\ttotal: 31.1s\tremaining: 2.31s\n",
      "931:\tlearn: 0.5129005\ttotal: 31.1s\tremaining: 2.27s\n",
      "932:\tlearn: 0.5128482\ttotal: 31.2s\tremaining: 2.24s\n",
      "933:\tlearn: 0.5126891\ttotal: 31.2s\tremaining: 2.2s\n",
      "934:\tlearn: 0.5126050\ttotal: 31.2s\tremaining: 2.17s\n",
      "935:\tlearn: 0.5124875\ttotal: 31.3s\tremaining: 2.14s\n",
      "936:\tlearn: 0.5124827\ttotal: 31.3s\tremaining: 2.1s\n",
      "937:\tlearn: 0.5120856\ttotal: 31.3s\tremaining: 2.07s\n",
      "938:\tlearn: 0.5119048\ttotal: 31.4s\tremaining: 2.04s\n",
      "939:\tlearn: 0.5115054\ttotal: 31.4s\tremaining: 2s\n",
      "940:\tlearn: 0.5114524\ttotal: 31.4s\tremaining: 1.97s\n",
      "941:\tlearn: 0.5113125\ttotal: 31.5s\tremaining: 1.94s\n",
      "942:\tlearn: 0.5112505\ttotal: 31.5s\tremaining: 1.9s\n",
      "943:\tlearn: 0.5111979\ttotal: 31.5s\tremaining: 1.87s\n",
      "944:\tlearn: 0.5111159\ttotal: 31.6s\tremaining: 1.84s\n",
      "945:\tlearn: 0.5111037\ttotal: 31.6s\tremaining: 1.8s\n",
      "946:\tlearn: 0.5109935\ttotal: 31.6s\tremaining: 1.77s\n",
      "947:\tlearn: 0.5108896\ttotal: 31.7s\tremaining: 1.74s\n",
      "948:\tlearn: 0.5108507\ttotal: 31.7s\tremaining: 1.7s\n",
      "949:\tlearn: 0.5108348\ttotal: 31.7s\tremaining: 1.67s\n",
      "950:\tlearn: 0.5107272\ttotal: 31.7s\tremaining: 1.64s\n",
      "951:\tlearn: 0.5106429\ttotal: 31.8s\tremaining: 1.6s\n",
      "952:\tlearn: 0.5105706\ttotal: 31.8s\tremaining: 1.57s\n",
      "953:\tlearn: 0.5105512\ttotal: 31.8s\tremaining: 1.53s\n",
      "954:\tlearn: 0.5103634\ttotal: 31.9s\tremaining: 1.5s\n",
      "955:\tlearn: 0.5103293\ttotal: 31.9s\tremaining: 1.47s\n",
      "956:\tlearn: 0.5100785\ttotal: 31.9s\tremaining: 1.44s\n",
      "957:\tlearn: 0.5100123\ttotal: 32s\tremaining: 1.4s\n",
      "958:\tlearn: 0.5099008\ttotal: 32s\tremaining: 1.37s\n",
      "959:\tlearn: 0.5095565\ttotal: 32s\tremaining: 1.33s\n",
      "960:\tlearn: 0.5093944\ttotal: 32.1s\tremaining: 1.3s\n",
      "961:\tlearn: 0.5093285\ttotal: 32.1s\tremaining: 1.27s\n",
      "962:\tlearn: 0.5093111\ttotal: 32.1s\tremaining: 1.24s\n",
      "963:\tlearn: 0.5091742\ttotal: 32.2s\tremaining: 1.2s\n",
      "964:\tlearn: 0.5089670\ttotal: 32.2s\tremaining: 1.17s\n",
      "965:\tlearn: 0.5088653\ttotal: 32.3s\tremaining: 1.14s\n",
      "966:\tlearn: 0.5088227\ttotal: 32.3s\tremaining: 1.1s\n",
      "967:\tlearn: 0.5087324\ttotal: 32.3s\tremaining: 1.07s\n",
      "968:\tlearn: 0.5087093\ttotal: 32.3s\tremaining: 1.03s\n",
      "969:\tlearn: 0.5086156\ttotal: 32.4s\tremaining: 1s\n",
      "970:\tlearn: 0.5085605\ttotal: 32.4s\tremaining: 968ms\n",
      "971:\tlearn: 0.5084694\ttotal: 32.5s\tremaining: 935ms\n",
      "972:\tlearn: 0.5084185\ttotal: 32.5s\tremaining: 902ms\n",
      "973:\tlearn: 0.5083422\ttotal: 32.5s\tremaining: 868ms\n",
      "974:\tlearn: 0.5082738\ttotal: 32.6s\tremaining: 835ms\n",
      "975:\tlearn: 0.5080318\ttotal: 32.6s\tremaining: 802ms\n",
      "976:\tlearn: 0.5079220\ttotal: 32.6s\tremaining: 768ms\n",
      "977:\tlearn: 0.5078879\ttotal: 32.7s\tremaining: 735ms\n",
      "978:\tlearn: 0.5076007\ttotal: 32.7s\tremaining: 701ms\n",
      "979:\tlearn: 0.5075279\ttotal: 32.7s\tremaining: 668ms\n",
      "980:\tlearn: 0.5074944\ttotal: 32.8s\tremaining: 635ms\n",
      "981:\tlearn: 0.5074903\ttotal: 32.8s\tremaining: 601ms\n",
      "982:\tlearn: 0.5074829\ttotal: 32.8s\tremaining: 568ms\n",
      "983:\tlearn: 0.5072941\ttotal: 32.9s\tremaining: 534ms\n",
      "984:\tlearn: 0.5071706\ttotal: 32.9s\tremaining: 501ms\n",
      "985:\tlearn: 0.5070061\ttotal: 32.9s\tremaining: 468ms\n",
      "986:\tlearn: 0.5068515\ttotal: 33s\tremaining: 434ms\n",
      "987:\tlearn: 0.5067577\ttotal: 33s\tremaining: 401ms\n",
      "988:\tlearn: 0.5066645\ttotal: 33s\tremaining: 367ms\n",
      "989:\tlearn: 0.5064046\ttotal: 33.1s\tremaining: 334ms\n",
      "990:\tlearn: 0.5063825\ttotal: 33.1s\tremaining: 301ms\n",
      "991:\tlearn: 0.5063335\ttotal: 33.1s\tremaining: 267ms\n",
      "992:\tlearn: 0.5062992\ttotal: 33.2s\tremaining: 234ms\n",
      "993:\tlearn: 0.5060432\ttotal: 33.2s\tremaining: 201ms\n",
      "994:\tlearn: 0.5060011\ttotal: 33.3s\tremaining: 167ms\n",
      "995:\tlearn: 0.5059742\ttotal: 33.3s\tremaining: 134ms\n",
      "996:\tlearn: 0.5058604\ttotal: 33.3s\tremaining: 100ms\n",
      "997:\tlearn: 0.5057696\ttotal: 33.4s\tremaining: 66.9ms\n",
      "998:\tlearn: 0.5055348\ttotal: 33.4s\tremaining: 33.4ms\n",
      "999:\tlearn: 0.5054897\ttotal: 33.4s\tremaining: 0us\n"
     ]
    },
    {
     "data": {
      "text/plain": [
       "<catboost.core.CatBoostClassifier at 0x2969a7da0>"
      ]
     },
     "execution_count": 541,
     "metadata": {},
     "output_type": "execute_result"
    }
   ],
   "source": [
    "# <USE IT!>\n",
    "clf = CatBoostClassifier()\n",
    "# X=sparse_data_train, y=clean_data_train[\"average_bill\"]\n",
    "clf.fit(sparse_data_train, clean_data_train['average_bill'])"
   ]
  },
  {
   "cell_type": "markdown",
   "metadata": {
    "id": "SBOpZY9BGH7Q"
   },
   "source": [
    "**11. Пришлите в Контест balanced_accuracy_score на тестовой выборке, округлённый до двух знаков после запятой**. Стало ли сильно лучше от того, что мы воспользовались таким крутым классификатором?"
   ]
  },
  {
   "cell_type": "code",
   "execution_count": 542,
   "metadata": {},
   "outputs": [],
   "source": [
    "########### ДЕЛАЕМ SPARSE МАТРИЦУ ДЛЯ TEST ###########\n",
    "########### ВСЕ ТО ЖЕ САМОЕ, ЧТО И ДЛЯ TRAIN ###########\n",
    "\n",
    "# начинаем создавать разреженную матрицу в формате COO\n",
    "rows, cols, data = [], [], []\n",
    "\n",
    "# Заполняем тройки для города:\n",
    "city_mask = (clean_data_test[\"city\"] == \"msk\").to_numpy()\n",
    "\n",
    "for i in range(len(clean_data_test)):\n",
    "    if city_mask[i]:\n",
    "        rows.append(i)\n",
    "        cols.append(COL_CITY)\n",
    "        data.append(1.0)\n",
    "\n",
    "# Заполняем тройки для рейтинги:\n",
    "for i in range(len(clean_data_test)):\n",
    "    val = clean_data_test.iloc[i][\"rating\"]\n",
    "    if not pd.isna(val) and val != 0:\n",
    "        rows.append(i)\n",
    "        cols.append(COL_RATING)\n",
    "        data.append(float(val))\n",
    "\n",
    "# Заполняем тройки для рубрик:\n",
    "for i in range(len(clean_data_test)):\n",
    "    val = clean_data_test.iloc[i][\"rubrics_id\"]\n",
    "    rubrics_set = set(split_tokens(val))\n",
    "    for rubric in rubrics_set:\n",
    "        j = rubric2col.get(rubric) # Возвращает None, если рубрики нет в словаре\n",
    "        if j is not None:\n",
    "            rows.append(i)\n",
    "            cols.append(START_RUB + j)\n",
    "            data.append(1.0)\n",
    "\n",
    "# Заполняем тройки для фичей и other_фичей:\n",
    "for i in range(len(clean_data_test)):\n",
    "    val = clean_data_test.iloc[i][\"features_id\"]\n",
    "    features_set = set(split_tokens(val))\n",
    "    unknown_cnt = 0\n",
    "    for feature in features_set:\n",
    "        j = feature2col.get(feature) # Возвращает None, если фичи нет в словаре\n",
    "        if j is not None:\n",
    "            rows.append(i)\n",
    "            cols.append(START_FEAT + j)\n",
    "            data.append(1.0)\n",
    "        else: \n",
    "            unknown_cnt += 1\n",
    "            \n",
    "    if unknown_cnt > 0:\n",
    "        rows.append(i)\n",
    "        cols.append(COL_OTHER)     # столбец feature_other\n",
    "        data.append(float(unknown_cnt))\n",
    "\n",
    "# Собираем марицу\n",
    "from scipy.sparse import coo_matrix\n",
    "\n",
    "n = len(clean_data_test)  # число строк в test\n",
    "\n",
    "X_coo = coo_matrix((data, (rows, cols)), shape=(n, n_cols))\n",
    "sparse_data_test = X_coo.tocsr()"
   ]
  },
  {
   "cell_type": "code",
   "execution_count": 543,
   "metadata": {
    "scrolled": true
   },
   "outputs": [
    {
     "name": "stdout",
     "output_type": "stream",
     "text": [
      "Accurancy: 0.36\n"
     ]
    }
   ],
   "source": [
    "y_true = clean_data_test[\"average_bill\"]\n",
    "y_predict = clf.predict(sparse_data_test)\n",
    "\n",
    "bal_acc = round(balanced_accuracy_score(y_true.to_numpy(), y_predict), 2)\n",
    "print(f\"Accurancy: {bal_acc}\")"
   ]
  }
 ],
 "metadata": {
  "colab": {
   "provenance": []
  },
  "kernelspec": {
   "display_name": "Python 3 (ipykernel)",
   "language": "python",
   "name": "python3"
  },
  "language_info": {
   "codemirror_mode": {
    "name": "ipython",
    "version": 3
   },
   "file_extension": ".py",
   "mimetype": "text/x-python",
   "name": "python",
   "nbconvert_exporter": "python",
   "pygments_lexer": "ipython3",
   "version": "3.12.0"
  }
 },
 "nbformat": 4,
 "nbformat_minor": 4
}
